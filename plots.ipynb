{
 "cells": [
  {
   "cell_type": "markdown",
   "metadata": {},
   "source": [
    "# Importando dependências"
   ]
  },
  {
   "cell_type": "code",
   "execution_count": 1,
   "metadata": {},
   "outputs": [
    {
     "name": "stderr",
     "output_type": "stream",
     "text": [
      "/home/geffte-caetano/.local/lib/python3.10/site-packages/matplotlib/projections/__init__.py:63: UserWarning: Unable to import Axes3D. This may be due to multiple versions of Matplotlib being installed (e.g. as a system package and as a pip package). As a result, the 3D projection is not available.\n",
      "  warnings.warn(\"Unable to import Axes3D. This may be due to multiple versions of \"\n"
     ]
    }
   ],
   "source": [
    "import pandas as pd\n",
    "import numpy as np\n",
    "import matplotlib.pyplot as plt\n",
    "import seaborn as sns\n",
    "from scipy.stats import norm\n",
    "import funcs as f"
   ]
  },
  {
   "cell_type": "markdown",
   "metadata": {},
   "source": [
    "# Leitura e pré-processamento de dados "
   ]
  },
  {
   "cell_type": "code",
   "execution_count": 3,
   "metadata": {},
   "outputs": [],
   "source": [
    "df_sivep = f.ler_planilha()\n",
    "df_sivep = f.remover_colunas_vazias(df_sivep)\n",
    "df_sivep = f.remover_futeis(df_sivep)"
   ]
  },
  {
   "cell_type": "markdown",
   "metadata": {},
   "source": [
    "# Entendendo os dados"
   ]
  },
  {
   "cell_type": "code",
   "execution_count": 3,
   "metadata": {},
   "outputs": [
    {
     "name": "stdout",
     "output_type": "stream",
     "text": [
      "Index(['DT_NOTIFIC', 'SEM_NOT', 'DT_SIN_PRI', 'SEM_PRI', 'CS_SEXO',\n",
      "       'NU_IDADE_N', 'TP_IDADE', 'CS_GESTANT', 'CS_RACA', 'CS_ETINIA',\n",
      "       ...\n",
      "       'FAB_COVRF2', 'FAB_ADIC', 'FAB_RE_BI', 'LOTE_ADIC', 'TRAT_COV',\n",
      "       'TIPO_TRAT', 'DT_TRT_COV', 'OUT_TRAT', 'SURTO_SG', 'CO_DETEC'],\n",
      "      dtype='object', length=143)\n"
     ]
    }
   ],
   "source": [
    "print(df_sivep.keys())"
   ]
  },
  {
   "cell_type": "code",
   "execution_count": 4,
   "metadata": {},
   "outputs": [],
   "source": [
    "lista_frequencia = f.frequencia_valores(df_sivep)"
   ]
  },
  {
   "cell_type": "code",
   "execution_count": 5,
   "metadata": {},
   "outputs": [
    {
     "name": "stdout",
     "output_type": "stream",
     "text": [
      "CS_SEXO\n",
      "('M', 1030)\n",
      "('F', 994)\n",
      "\n",
      "TP_IDADE\n",
      "('3', 1484)\n",
      "('2', 487)\n",
      "('1', 53)\n",
      "\n",
      "CS_ETINIA\n",
      "('nulos', 2022)\n",
      "('GUARANI KAIOWA (PAI TAVYTERA)', 1)\n",
      "('TERENA', 1)\n",
      "\n",
      "NOSOCOMIAL\n",
      "('2.0', 1840)\n",
      "('1.0', 143)\n",
      "('9.0', 30)\n",
      "('nulos', 11)\n",
      "\n",
      "FEBRE\n",
      "('1.0', 1625)\n",
      "('nulos', 320)\n",
      "('2.0', 72)\n",
      "('9.0', 7)\n",
      "\n",
      "TOSSE\n",
      "('1.0', 1692)\n",
      "('nulos', 229)\n",
      "('2.0', 98)\n",
      "('9.0', 5)\n",
      "\n",
      "GARGANTA\n",
      "('2.0', 891)\n",
      "('nulos', 890)\n",
      "('1.0', 237)\n",
      "('9.0', 6)\n",
      "\n",
      "DISPNEIA\n",
      "('1.0', 1382)\n",
      "('nulos', 368)\n",
      "('2.0', 272)\n",
      "('9.0', 2)\n",
      "\n",
      "DESC_RESP\n",
      "('1.0', 1588)\n",
      "('nulos', 368)\n",
      "('2.0', 64)\n",
      "('9.0', 4)\n",
      "\n",
      "SATURACAO\n",
      "('1.0', 1246)\n",
      "('nulos', 509)\n",
      "('2.0', 265)\n",
      "('9.0', 4)\n",
      "\n",
      "DIARREIA\n",
      "('nulos', 915)\n",
      "('2.0', 891)\n",
      "('1.0', 214)\n",
      "('9.0', 4)\n",
      "\n",
      "VOMITO\n",
      "('nulos', 904)\n",
      "('2.0', 876)\n",
      "('1.0', 240)\n",
      "('9.0', 4)\n",
      "\n",
      "OUTRO_SIN\n",
      "('nulos', 692)\n",
      "('1.0', 668)\n",
      "('2.0', 661)\n",
      "('9.0', 3)\n",
      "\n",
      "FATOR_RISC\n",
      "('1', 1064)\n",
      "('2', 960)\n",
      "\n",
      "PUERPERA\n",
      "('nulos', 1528)\n",
      "('2.0', 488)\n",
      "('1.0', 8)\n",
      "\n",
      "CARDIOPATI\n",
      "('nulos', 1353)\n",
      "('1.0', 360)\n",
      "('2.0', 311)\n",
      "\n",
      "HEMATOLOGI\n",
      "('nulos', 1514)\n",
      "('2.0', 481)\n",
      "('1.0', 29)\n",
      "\n",
      "SIND_DOWN\n",
      "('nulos', 1526)\n",
      "('2.0', 489)\n",
      "('1.0', 9)\n",
      "\n",
      "HEPATICA\n",
      "('nulos', 1526)\n",
      "('2.0', 487)\n",
      "('1.0', 11)\n",
      "\n",
      "ASMA\n",
      "('nulos', 1482)\n",
      "('2.0', 451)\n",
      "('1.0', 91)\n",
      "\n",
      "DIABETES\n",
      "('nulos', 1442)\n",
      "('2.0', 401)\n",
      "('1.0', 181)\n",
      "\n",
      "NEUROLOGIC\n",
      "('nulos', 1461)\n",
      "('2.0', 439)\n",
      "('1.0', 124)\n",
      "\n",
      "PNEUMOPATI\n",
      "('nulos', 1497)\n",
      "('2.0', 442)\n",
      "('1.0', 85)\n",
      "\n",
      "IMUNODEPRE\n",
      "('nulos', 1477)\n",
      "('2.0', 453)\n",
      "('1.0', 94)\n",
      "\n",
      "RENAL\n",
      "('nulos', 1502)\n",
      "('2.0', 460)\n",
      "('1.0', 62)\n",
      "\n",
      "OBESIDADE\n",
      "('nulos', 1514)\n",
      "('2.0', 464)\n",
      "('1.0', 46)\n",
      "\n",
      "OBES_IMC\n",
      "('nulos', 2018)\n",
      "('0.0', 4)\n",
      "('0.2', 2)\n",
      "\n",
      "OUT_MORBI\n",
      "('nulos', 1265)\n",
      "('1.0', 518)\n",
      "('2.0', 240)\n",
      "('9.0', 1)\n",
      "\n",
      "VACINA\n",
      "('nulos', 1157)\n",
      "('9.0', 580)\n",
      "('2.0', 275)\n",
      "('1.0', 12)\n",
      "\n",
      "MAE_VAC\n",
      "('nulos', 1842)\n",
      "('9.0', 168)\n",
      "('2.0', 12)\n",
      "('1.0', 2)\n",
      "\n",
      "M_AMAMENTA\n",
      "('nulos', 1843)\n",
      "('9.0', 168)\n",
      "('2.0', 11)\n",
      "('1.0', 2)\n",
      "\n",
      "ANTIVIRAL\n",
      "('2.0', 1678)\n",
      "('9.0', 285)\n",
      "('1.0', 36)\n",
      "('nulos', 25)\n",
      "\n",
      "TP_ANTIVIR\n",
      "('nulos', 1996)\n",
      "('1.0', 26)\n",
      "('2.0', 2)\n",
      "\n",
      "HOSPITAL\n",
      "('1.0', 1980)\n",
      "('2.0', 28)\n",
      "('nulos', 16)\n",
      "\n",
      "DT_INTERNA\n",
      "('1969-12-31 20:00:45', 1964)\n",
      "('nulos', 57)\n",
      "('1969-12-31 20:00:46', 2)\n",
      "('1969-12-31 20:00:44', 1)\n",
      "\n",
      "UTI\n",
      "('2.0', 1489)\n",
      "('1.0', 413)\n",
      "('nulos', 71)\n",
      "('9.0', 51)\n",
      "\n",
      "AMOSTRA\n",
      "('1', 2024)\n",
      "\n",
      "TP_AMOSTRA\n",
      "('1.0', 2007)\n",
      "('nulos', 14)\n",
      "('4.0', 2)\n",
      "('3.0', 1)\n",
      "\n",
      "OUT_AMOST\n",
      "('nulos', 2023)\n",
      "('ASPIRADO TRAQUEAL', 1)\n",
      "\n",
      "PCR_RESUL\n",
      "('1', 985)\n",
      "('2', 821)\n",
      "('4', 120)\n",
      "('5', 98)\n",
      "\n",
      "POS_PCRFLU\n",
      "('nulos', 1045)\n",
      "('2.0', 787)\n",
      "('1.0', 192)\n",
      "\n",
      "TP_FLU_PCR\n",
      "('nulos', 1832)\n",
      "('1.0', 192)\n",
      "\n",
      "FLUASU_OUT\n",
      "('nulos', 2023)\n",
      "('SAZONAL H3', 1)\n",
      "\n",
      "POS_PCROUT\n",
      "('nulos', 1093)\n",
      "('1.0', 804)\n",
      "('2.0', 125)\n",
      "('9.0', 2)\n",
      "\n",
      "PCR_VSR\n",
      "('nulos', 1659)\n",
      "('1.0', 365)\n",
      "\n",
      "PCR_PARA1\n",
      "('nulos', 2023)\n",
      "('1.0', 1)\n",
      "\n",
      "PCR_PARA3\n",
      "('nulos', 2012)\n",
      "('1.0', 12)\n",
      "\n",
      "PCR_ADENO\n",
      "('nulos', 1979)\n",
      "('1.0', 45)\n",
      "\n",
      "PCR_METAP\n",
      "('nulos', 1999)\n",
      "('1.0', 25)\n",
      "\n",
      "PCR_BOCA\n",
      "('nulos', 2013)\n",
      "('1.0', 11)\n",
      "\n",
      "PCR_RINO\n",
      "('nulos', 1757)\n",
      "('1.0', 267)\n",
      "\n",
      "PCR_OUTRO\n",
      "('nulos', 2021)\n",
      "('1.0', 3)\n",
      "\n",
      "DS_PCR_OUT\n",
      "('nulos', 2021)\n",
      "('ENTEROVIRUS', 2)\n",
      "('ELETROVIRUS', 1)\n",
      "\n",
      "CRITERIO\n",
      "('1.0', 1963)\n",
      "('nulos', 59)\n",
      "('3.0', 1)\n",
      "('2.0', 1)\n",
      "\n",
      "EVOLUCAO\n",
      "('1.0', 1104)\n",
      "('nulos', 731)\n",
      "('2.0', 159)\n",
      "('3.0', 30)\n",
      "\n",
      "DT_DIGITA\n",
      "('1969-12-31 20:00:45', 2024)\n",
      "\n",
      "HISTO_VGM\n",
      "('0', 2024)\n",
      "\n",
      "PCR_SARS2\n",
      "('nulos', 1885)\n",
      "('1.0', 139)\n",
      "\n",
      "PAC_COCBO\n",
      "('nulos', 2022)\n",
      "('354820.0', 1)\n",
      "('241005.0', 1)\n",
      "\n",
      "PAC_DSCBO\n",
      "('nulos', 2022)\n",
      "('ORGANIZADOR DE EVENTO', 1)\n",
      "('ADVOGADO', 1)\n",
      "\n",
      "DOR_ABD\n",
      "('nulos', 949)\n",
      "('2.0', 945)\n",
      "('1.0', 127)\n",
      "('9.0', 3)\n",
      "\n",
      "FADIGA\n",
      "('nulos', 922)\n",
      "('2.0', 860)\n",
      "('1.0', 241)\n",
      "('9.0', 1)\n",
      "\n",
      "PERD_OLFT\n",
      "('nulos', 998)\n",
      "('2.0', 990)\n",
      "('1.0', 32)\n",
      "('9.0', 4)\n",
      "\n",
      "PERD_PALA\n",
      "('nulos', 1007)\n",
      "('2.0', 996)\n",
      "('1.0', 17)\n",
      "('9.0', 4)\n",
      "\n",
      "TP_TES_AN\n",
      "('0', 1686)\n",
      "('2', 335)\n",
      "('1', 3)\n",
      "\n",
      "POS_AN_FLU\n",
      "('nulos', 1843)\n",
      "('2.0', 104)\n",
      "('1.0', 77)\n",
      "\n",
      "TP_FLU_AN\n",
      "('nulos', 1947)\n",
      "('1.0', 77)\n",
      "\n",
      "POS_AN_OUT\n",
      "('nulos', 1840)\n",
      "('1.0', 109)\n",
      "('2.0', 74)\n",
      "('9.0', 1)\n",
      "\n",
      "AN_SARS2\n",
      "('nulos', 1941)\n",
      "('1.0', 83)\n",
      "\n",
      "AN_VSR\n",
      "('nulos', 1998)\n",
      "('1.0', 26)\n",
      "\n",
      "TP_AM_SOR\n",
      "('0', 2024)\n",
      "\n",
      "TP_SOR\n",
      "('0', 2024)\n",
      "\n",
      "RES_IGG\n",
      "('nulos', 1028)\n",
      "('4.0', 995)\n",
      "('2.0', 1)\n",
      "\n",
      "RES_IGM\n",
      "('nulos', 1028)\n",
      "('4.0', 994)\n",
      "('2.0', 1)\n",
      "('5.0', 1)\n",
      "\n",
      "RES_IGA\n",
      "('nulos', 1030)\n",
      "('4.0', 990)\n",
      "('2.0', 2)\n",
      "('5.0', 2)\n",
      "\n",
      "POV_CT\n",
      "('2', 2024)\n",
      "\n",
      "TEM_CPF\n",
      "('1', 1941)\n",
      "('2', 83)\n",
      "\n",
      "ESTRANG\n",
      "('2.0', 1955)\n",
      "('1.0', 37)\n",
      "('nulos', 32)\n",
      "\n",
      "VACINA_COV\n",
      "('2', 1114)\n",
      "('1', 893)\n",
      "('9', 17)\n",
      "\n",
      "FAB_ADIC\n",
      "('nulos', 2000)\n",
      "('87 - COVID-19 PFIZER - COMIRNATY', 22)\n",
      "('88 - COVID-19 JANSSEN - AD26.COV2.S', 2)\n",
      "\n",
      "FAB_RE_BI\n",
      "('nulos', 1870)\n",
      "('103 - COVID-19 PFIZER - COMIRNATY BIVALENTE', 154)\n",
      "\n",
      "TRAT_COV\n",
      "('2.0', 1695)\n",
      "('9.0', 288)\n",
      "('nulos', 34)\n",
      "('1.0', 7)\n",
      "\n",
      "TIPO_TRAT\n",
      "('nulos', 2023)\n",
      "('3.0', 1)\n",
      "\n",
      "DT_TRT_COV\n",
      "('nulos', 2023)\n",
      "('05/01/2024', 1)\n",
      "\n",
      "OUT_TRAT\n",
      "('nulos', 2023)\n",
      "('TAMIFLU', 1)\n",
      "\n",
      "SURTO_SG\n",
      "('2.0', 1939)\n",
      "('nulos', 66)\n",
      "('1.0', 15)\n",
      "('9.0', 4)\n",
      "\n",
      "CO_DETEC\n",
      "('2.0', 1881)\n",
      "('nulos', 88)\n",
      "('1.0', 47)\n",
      "('9.0', 8)\n",
      "\n"
     ]
    }
   ],
   "source": [
    "for index, row in enumerate(lista_frequencia):\n",
    "    for key in enumerate(row):\n",
    "        if key[0] == 0:\n",
    "            print(key[1])\n",
    "        else:\n",
    "            for i in key[1]:\n",
    "                print(i)\n",
    "            print()"
   ]
  },
  {
   "cell_type": "code",
   "execution_count": 6,
   "metadata": {},
   "outputs": [],
   "source": [
    "with open('frequencia_valores.txt', 'w') as file:\n",
    "    for index, row in enumerate(lista_frequencia):\n",
    "        for key in enumerate(row):\n",
    "            if key[0] == 0:\n",
    "                file.write(f\"{key[1]}\\n\")\n",
    "            else:\n",
    "                for i in key[1]:\n",
    "                    file.write(f\"{i}\\n\")\n",
    "                file.write(\"\\n\")\n"
   ]
  },
  {
   "cell_type": "markdown",
   "metadata": {},
   "source": [
    "# Chamando funções e aplicando filtros"
   ]
  },
  {
   "cell_type": "markdown",
   "metadata": {},
   "source": [
    "## calcular proporção de pacientes por sexo"
   ]
  },
  {
   "cell_type": "code",
   "execution_count": 6,
   "metadata": {},
   "outputs": [
    {
     "data": {
      "text/plain": [
       "CS_SEXO\n",
       "M    0.508893\n",
       "F    0.491107\n",
       "Name: proportion, dtype: float64"
      ]
     },
     "execution_count": 6,
     "metadata": {},
     "output_type": "execute_result"
    }
   ],
   "source": [
    "df_sexo = f.proporcao_pacientes_por_sexo(df_sivep)\n",
    "df_sexo.head()"
   ]
  },
  {
   "cell_type": "code",
   "execution_count": 7,
   "metadata": {},
   "outputs": [
    {
     "data": {
      "image/png": "[encoded data removed]",
      "text/plain": [
       "<Figure size 640x480 with 1 Axes>"
      ]
     },
     "metadata": {},
     "output_type": "display_data"
    }
   ],
   "source": [
    "df_sexo.plot(kind='bar', color=['blue', 'pink'])\n",
    "\n",
    "plt.title('Proporção de Pacientes por Sexo')\n",
    "plt.xlabel('Sexo')\n",
    "plt.ylabel('Proporção')\n",
    "plt.show()\n"
   ]
  },
  {
   "cell_type": "markdown",
   "metadata": {},
   "source": [
    "## calcular doenças mais frequentes"
   ]
  },
  {
   "cell_type": "code",
   "execution_count": 32,
   "metadata": {},
   "outputs": [
    {
     "data": {
      "text/plain": [
       "CLASSI_FIN\n",
       "SRAG não especificado               0.419273\n",
       "SRAG por outro vírus                0.341574\n",
       "SRAG por Influenza                  0.128153\n",
       "COVID-19                            0.107972\n",
       "SRAG por outro agente Etiológico    0.003027\n",
       "Name: proportion, dtype: float64"
      ]
     },
     "execution_count": 32,
     "metadata": {},
     "output_type": "execute_result"
    }
   ],
   "source": [
    "df_doencas = f.doenca_mais_frequente(df_sivep)\n",
    "df_doencas.rename(index={1: 'SRAG por Influenza', 2: 'SRAG por outro vírus', 3: 'SRAG por outro agente Etiológico', 4: 'SRAG não especificado', 5: 'COVID-19'}, inplace=True)\n",
    "df_doencas.head()"
   ]
  },
  {
   "cell_type": "code",
   "execution_count": 49,
   "metadata": {},
   "outputs": [
    {
     "data": {
      "image/png": "[encoded data removed]",
      "text/plain": [
       "<Figure size 640x480 with 1 Axes>"
      ]
     },
     "metadata": {},
     "output_type": "display_data"
    }
   ],
   "source": [
    "# df_doencas.plot(kind='bar', color=['blue', 'pink', 'green', 'red', 'purple'])\n",
    "\n",
    "plt.barh(df_doencas.index, df_doencas.values, color=['blue', 'pink', 'green', 'red', 'purple'])\n",
    "\n",
    "plt.title('Proporção de Pacientes por Doença')\n",
    "plt.xlabel('Proporção')\n",
    "plt.ylabel('Doenças')\n",
    "plt.show()"
   ]
  },
  {
   "cell_type": "markdown",
   "metadata": {},
   "source": [
    "## calcular sintomas mais frequentes"
   ]
  },
  {
   "cell_type": "code",
   "execution_count": 4,
   "metadata": {},
   "outputs": [
    {
     "name": "stderr",
     "output_type": "stream",
     "text": [
      "/home/geffte-caetano/Documents/GitHub/ecos-da-rota/funcs.py:62: FutureWarning: DataFrame.applymap has been deprecated. Use DataFrame.map instead.\n",
      "  contagem = df_sintomas.applymap(lambda x: 1 if (x == 1 or x == 2 or x == 9) else 0).sum()\n"
     ]
    },
    {
     "data": {
      "text/html": [
       "<div>\n",
       "<style scoped>\n",
       "    .dataframe tbody tr th:only-of-type {\n",
       "        vertical-align: middle;\n",
       "    }\n",
       "\n",
       "    .dataframe tbody tr th {\n",
       "        vertical-align: top;\n",
       "    }\n",
       "\n",
       "    .dataframe thead th {\n",
       "        text-align: right;\n",
       "    }\n",
       "</style>\n",
       "<table border=\"1\" class=\"dataframe\">\n",
       "  <thead>\n",
       "    <tr style=\"text-align: right;\">\n",
       "      <th></th>\n",
       "      <th>sintoma</th>\n",
       "      <th>frequencia</th>\n",
       "    </tr>\n",
       "  </thead>\n",
       "  <tbody>\n",
       "    <tr>\n",
       "      <th>0</th>\n",
       "      <td>DESC_RESP</td>\n",
       "      <td>1656</td>\n",
       "    </tr>\n",
       "    <tr>\n",
       "      <th>1</th>\n",
       "      <td>DIARREIA</td>\n",
       "      <td>1109</td>\n",
       "    </tr>\n",
       "    <tr>\n",
       "      <th>2</th>\n",
       "      <td>AVE_SUINO</td>\n",
       "      <td>2004</td>\n",
       "    </tr>\n",
       "    <tr>\n",
       "      <th>3</th>\n",
       "      <td>NOSOCOMIAL</td>\n",
       "      <td>2013</td>\n",
       "    </tr>\n",
       "    <tr>\n",
       "      <th>4</th>\n",
       "      <td>SATURACAO</td>\n",
       "      <td>1515</td>\n",
       "    </tr>\n",
       "    <tr>\n",
       "      <th>5</th>\n",
       "      <td>VOMITO</td>\n",
       "      <td>1120</td>\n",
       "    </tr>\n",
       "    <tr>\n",
       "      <th>6</th>\n",
       "      <td>GARGANTA</td>\n",
       "      <td>1134</td>\n",
       "    </tr>\n",
       "    <tr>\n",
       "      <th>7</th>\n",
       "      <td>DISPNEIA</td>\n",
       "      <td>1656</td>\n",
       "    </tr>\n",
       "    <tr>\n",
       "      <th>8</th>\n",
       "      <td>TOSSE</td>\n",
       "      <td>1795</td>\n",
       "    </tr>\n",
       "    <tr>\n",
       "      <th>9</th>\n",
       "      <td>OUTRO_SIN</td>\n",
       "      <td>1332</td>\n",
       "    </tr>\n",
       "    <tr>\n",
       "      <th>10</th>\n",
       "      <td>FEBRE</td>\n",
       "      <td>1704</td>\n",
       "    </tr>\n",
       "  </tbody>\n",
       "</table>\n",
       "</div>"
      ],
      "text/plain": [
       "       sintoma  frequencia\n",
       "0    DESC_RESP        1656\n",
       "1     DIARREIA        1109\n",
       "2    AVE_SUINO        2004\n",
       "3   NOSOCOMIAL        2013\n",
       "4    SATURACAO        1515\n",
       "5       VOMITO        1120\n",
       "6     GARGANTA        1134\n",
       "7     DISPNEIA        1656\n",
       "8        TOSSE        1795\n",
       "9    OUTRO_SIN        1332\n",
       "10       FEBRE        1704"
      ]
     },
     "execution_count": 4,
     "metadata": {},
     "output_type": "execute_result"
    }
   ],
   "source": [
    "df_sintomas = f.sintomas_mais_frequente(df_sivep)\n",
    "df_sintomas.head(11)"
   ]
  },
  {
   "cell_type": "code",
   "execution_count": 46,
   "metadata": {},
   "outputs": [
    {
     "data": {
      "image/png": "[encoded data removed]",
      "text/plain": [
       "<Figure size 640x480 with 1 Axes>"
      ]
     },
     "metadata": {},
     "output_type": "display_data"
    }
   ],
   "source": [
    "# df_sintomas.plot(kind='bar', x='sintoma', y='frequencia', color='blue')\n",
    "\n",
    "plt.barh(df_sintomas['sintoma'], df_sintomas['frequencia'], color='blue')\n",
    "\n",
    "plt.title('Sintomas mais frequentes')\n",
    "plt.xlabel('Sintoma')\n",
    "plt.ylabel('Frequência')\n",
    "plt.show()"
   ]
  },
  {
   "cell_type": "markdown",
   "metadata": {},
   "source": [
    "## calcular pacientes com fator de risco "
   ]
  },
  {
   "cell_type": "code",
   "execution_count": 37,
   "metadata": {},
   "outputs": [
    {
     "data": {
      "text/plain": [
       "FATOR_RISC\n",
       "Sim    0.525692\n",
       "Não    0.474308\n",
       "Name: proportion, dtype: float64"
      ]
     },
     "execution_count": 37,
     "metadata": {},
     "output_type": "execute_result"
    }
   ],
   "source": [
    "df_risco = f.fator_risco(df_sivep)\n",
    "df_risco.rename(index={1: 'Sim', 2: 'Não'}, inplace=True)\n",
    "df_risco.head()"
   ]
  },
  {
   "cell_type": "code",
   "execution_count": 38,
   "metadata": {},
   "outputs": [
    {
     "data": {
      "image/png": "[encoded data removed]",
      "text/plain": [
       "<Figure size 640x480 with 1 Axes>"
      ]
     },
     "metadata": {},
     "output_type": "display_data"
    }
   ],
   "source": [
    "df_risco.plot(kind='bar', color='blue')\n",
    "\n",
    "plt.title('Fatores de Risco')\n",
    "plt.xlabel('Fator de Risco')\n",
    "plt.ylabel('Proporção')\n",
    "plt.show()"
   ]
  },
  {
   "cell_type": "markdown",
   "metadata": {},
   "source": [
    "## proporção por fatores de risco"
   ]
  },
  {
   "cell_type": "code",
   "execution_count": 60,
   "metadata": {},
   "outputs": [
    {
     "name": "stderr",
     "output_type": "stream",
     "text": [
      "/tmp/ipykernel_4287/1743814773.py:18: FutureWarning: DataFrame.applymap has been deprecated. Use DataFrame.map instead.\n",
      "  contagem = df_fatores.applymap(lambda x: 1 if x == 1 else 0).sum()\n"
     ]
    },
    {
     "data": {
      "text/html": [
       "<div>\n",
       "<style scoped>\n",
       "    .dataframe tbody tr th:only-of-type {\n",
       "        vertical-align: middle;\n",
       "    }\n",
       "\n",
       "    .dataframe tbody tr th {\n",
       "        vertical-align: top;\n",
       "    }\n",
       "\n",
       "    .dataframe thead th {\n",
       "        text-align: right;\n",
       "    }\n",
       "</style>\n",
       "<table border=\"1\" class=\"dataframe\">\n",
       "  <thead>\n",
       "    <tr style=\"text-align: right;\">\n",
       "      <th></th>\n",
       "      <th>fator</th>\n",
       "      <th>frequencia</th>\n",
       "    </tr>\n",
       "  </thead>\n",
       "  <tbody>\n",
       "    <tr>\n",
       "      <th>0</th>\n",
       "      <td>PUERPERA</td>\n",
       "      <td>8</td>\n",
       "    </tr>\n",
       "    <tr>\n",
       "      <th>1</th>\n",
       "      <td>ASMA</td>\n",
       "      <td>91</td>\n",
       "    </tr>\n",
       "    <tr>\n",
       "      <th>2</th>\n",
       "      <td>RENAL</td>\n",
       "      <td>62</td>\n",
       "    </tr>\n",
       "    <tr>\n",
       "      <th>3</th>\n",
       "      <td>DIABETES</td>\n",
       "      <td>181</td>\n",
       "    </tr>\n",
       "    <tr>\n",
       "      <th>4</th>\n",
       "      <td>PNEUMOPATI</td>\n",
       "      <td>85</td>\n",
       "    </tr>\n",
       "    <tr>\n",
       "      <th>5</th>\n",
       "      <td>IMUNODEPRE</td>\n",
       "      <td>94</td>\n",
       "    </tr>\n",
       "    <tr>\n",
       "      <th>6</th>\n",
       "      <td>OBESIDADE</td>\n",
       "      <td>46</td>\n",
       "    </tr>\n",
       "    <tr>\n",
       "      <th>7</th>\n",
       "      <td>CARDIOPATI</td>\n",
       "      <td>360</td>\n",
       "    </tr>\n",
       "    <tr>\n",
       "      <th>8</th>\n",
       "      <td>HEPATICA</td>\n",
       "      <td>11</td>\n",
       "    </tr>\n",
       "    <tr>\n",
       "      <th>9</th>\n",
       "      <td>NEUROLOGIC</td>\n",
       "      <td>124</td>\n",
       "    </tr>\n",
       "    <tr>\n",
       "      <th>10</th>\n",
       "      <td>SIND_DOWN</td>\n",
       "      <td>9</td>\n",
       "    </tr>\n",
       "  </tbody>\n",
       "</table>\n",
       "</div>"
      ],
      "text/plain": [
       "         fator  frequencia\n",
       "0     PUERPERA           8\n",
       "1         ASMA          91\n",
       "2        RENAL          62\n",
       "3     DIABETES         181\n",
       "4   PNEUMOPATI          85\n",
       "5   IMUNODEPRE          94\n",
       "6    OBESIDADE          46\n",
       "7   CARDIOPATI         360\n",
       "8     HEPATICA          11\n",
       "9   NEUROLOGIC         124\n",
       "10   SIND_DOWN           9"
      ]
     },
     "execution_count": 60,
     "metadata": {},
     "output_type": "execute_result"
    }
   ],
   "source": [
    "df_fatores = fatores_risco(df_sivep)\n",
    "df_fatores.head(11)"
   ]
  },
  {
   "cell_type": "code",
   "execution_count": 61,
   "metadata": {},
   "outputs": [
    {
     "data": {
      "image/png": "[encoded data removed]",
      "text/plain": [
       "<Figure size 640x480 with 1 Axes>"
      ]
     },
     "metadata": {},
     "output_type": "display_data"
    }
   ],
   "source": [
    "plt.barh(df_fatores['fator'], df_fatores['frequencia'], color='blue')\n",
    "\n",
    "plt.title('Fatores de Risco')\n",
    "plt.xlabel('Fator de Risco')\n",
    "plt.ylabel('Frequência')\n",
    "plt.show()"
   ]
  },
  {
   "cell_type": "markdown",
   "metadata": {},
   "source": [
    "## calcular media de idade dos pacientes"
   ]
  },
  {
   "cell_type": "code",
   "execution_count": 39,
   "metadata": {},
   "outputs": [],
   "source": [
    "df_idades, media_idades, dp_idades = f.media_idade_pacientes(df_sivep)\n",
    "\n",
    "valores_x = np.linspace(df_idades['NU_IDADE_N'].min(), df_idades['NU_IDADE_N'].max(), 100)\n",
    "valores_y = norm.pdf(valores_x, media_idades, dp_idades)"
   ]
  },
  {
   "cell_type": "code",
   "execution_count": 42,
   "metadata": {},
   "outputs": [
    {
     "name": "stdout",
     "output_type": "stream",
     "text": [
      "Média de idades: 29.400691699604742\n",
      "Desvio padrão de idades: 31.05436719233022\n"
     ]
    }
   ],
   "source": [
    "print(f'Média de idades: {media_idades}')\n",
    "print(f'Desvio padrão de idades: {dp_idades}')"
   ]
  },
  {
   "cell_type": "code",
   "execution_count": 41,
   "metadata": {},
   "outputs": [
    {
     "data": {
      "image/png": "[encoded data removed]",
      "text/plain": [
       "<Figure size 640x480 with 1 Axes>"
      ]
     },
     "metadata": {},
     "output_type": "display_data"
    }
   ],
   "source": [
    "sns.histplot(df_idades['NU_IDADE_N'], kde=False, color='blue', stat='density', bins=30, label='Dados Reais')\n",
    "\n",
    "plt.plot(valores_x, valores_y, color='red', label='Distribuição Normal')\n",
    "\n",
    "plt.title('Distribuição Normal das Idades dos Pacientes')\n",
    "plt.xlabel('Idade')\n",
    "plt.ylabel('Densidade')\n",
    "plt.legend()\n",
    "\n",
    "plt.show()"
   ]
  },
  {
   "cell_type": "markdown",
   "metadata": {},
   "source": [
    "## calcular vacinas tomadas"
   ]
  },
  {
   "cell_type": "code",
   "execution_count": 57,
   "metadata": {},
   "outputs": [
    {
     "data": {
      "text/html": [
       "<div>\n",
       "<style scoped>\n",
       "    .dataframe tbody tr th:only-of-type {\n",
       "        vertical-align: middle;\n",
       "    }\n",
       "\n",
       "    .dataframe tbody tr th {\n",
       "        vertical-align: top;\n",
       "    }\n",
       "\n",
       "    .dataframe thead th {\n",
       "        text-align: right;\n",
       "    }\n",
       "</style>\n",
       "<table border=\"1\" class=\"dataframe\">\n",
       "  <thead>\n",
       "    <tr style=\"text-align: right;\">\n",
       "      <th></th>\n",
       "      <th>tomou</th>\n",
       "      <th>nao_tomou</th>\n",
       "      <th>ignorado</th>\n",
       "      <th>null</th>\n",
       "    </tr>\n",
       "  </thead>\n",
       "  <tbody>\n",
       "    <tr>\n",
       "      <th>0</th>\n",
       "      <td>12</td>\n",
       "      <td>275</td>\n",
       "      <td>580</td>\n",
       "      <td>1157</td>\n",
       "    </tr>\n",
       "  </tbody>\n",
       "</table>\n",
       "</div>"
      ],
      "text/plain": [
       "   tomou  nao_tomou  ignorado  null\n",
       "0     12        275       580  1157"
      ]
     },
     "execution_count": 57,
     "metadata": {},
     "output_type": "execute_result"
    }
   ],
   "source": [
    "df_vacina = f.tomou_vacina(df_sivep)\n",
    "df_vacina.head()"
   ]
  },
  {
   "cell_type": "code",
   "execution_count": 58,
   "metadata": {},
   "outputs": [
    {
     "data": {
      "image/png": "[encoded data removed]",
      "text/plain": [
       "<Figure size 640x480 with 1 Axes>"
      ]
     },
     "metadata": {},
     "output_type": "display_data"
    }
   ],
   "source": [
    "plt.barh(df_vacina.columns, df_vacina.values[0], color=['blue', 'pink', 'green', 'red'])\n",
    "\n",
    "plt.title('Tomou a Vacina?')\n",
    "plt.xlabel('Quantidade')\n",
    "plt.ylabel('Resposta')\n",
    "plt.show()"
   ]
  }
 ],
 "metadata": {
  "kernelspec": {
   "display_name": "Python 3",
   "language": "python",
   "name": "python3"
  },
  "language_info": {
   "codemirror_mode": {
    "name": "ipython",
    "version": 3
   },
   "file_extension": ".py",
   "mimetype": "text/x-python",
   "name": "python",
   "nbconvert_exporter": "python",
   "pygments_lexer": "ipython3",
   "version": "3.10.12"
  }
 },
 "nbformat": 4,
 "nbformat_minor": 2
}
