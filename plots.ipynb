{
 "cells": [
  {
   "cell_type": "markdown",
   "metadata": {},
   "source": [
    "# Importando dependências"
   ]
  },
  {
   "cell_type": "code",
   "execution_count": 1,
   "metadata": {},
   "outputs": [
    {
     "name": "stderr",
     "output_type": "stream",
     "text": [
      "/home/geffte-caetano/.local/lib/python3.10/site-packages/matplotlib/projections/__init__.py:63: UserWarning: Unable to import Axes3D. This may be due to multiple versions of Matplotlib being installed (e.g. as a system package and as a pip package). As a result, the 3D projection is not available.\n",
      "  warnings.warn(\"Unable to import Axes3D. This may be due to multiple versions of \"\n"
     ]
    }
   ],
   "source": [
    "import pandas as pd\n",
    "import matplotlib.pyplot as plt"
   ]
  },
  {
   "cell_type": "markdown",
   "metadata": {},
   "source": [
    "# Declarando funções e filtros"
   ]
  },
  {
   "cell_type": "code",
   "execution_count": 2,
   "metadata": {},
   "outputs": [],
   "source": [
    "def ler_planilha():\n",
    "    path_planilha = 'SIVEP_2024.xlsx'\n",
    "    df = pd.read_excel(path_planilha,engine='openpyxl')\n",
    "    return df"
   ]
  },
  {
   "cell_type": "code",
   "execution_count": 3,
   "metadata": {},
   "outputs": [],
   "source": [
    "def remover_colunas_vazias(df):\n",
    "    df = df.dropna(axis=1, how='all')\n",
    "    return df"
   ]
  },
  {
   "cell_type": "code",
   "execution_count": 4,
   "metadata": {},
   "outputs": [],
   "source": [
    "def remover_futeis(df):\n",
    "    mapa_deletar = {\n",
    "        #Filtrando colunas sobre os dados do paciente\n",
    "        'SG_UF_INTE',\n",
    "        'CO_MUN_RES',\n",
    "        'ID_UNIDADE',\n",
    "        'CO_UNI_NOT',\n",
    "        'COD_IDADE',\n",
    "        'CS_ESCOL_N',\n",
    "        'ID_MN_RESI',\n",
    "        'CO_MUN_RES',\n",
    "        'NM_BAIRRO',\n",
    "        'CS_ZONA',\n",
    "        #Vacina covid\n",
    "        'LOTE_1_COV',\n",
    "        'LOTE_2_COV',\n",
    "        'LOTE_REF',\n",
    "        'LOT_RE_BI',\n",
    "        'SURTO_SG',\n",
    "        #Filtrando colunas sobre as doenças/exames\n",
    "        'REINF'\n",
    "    }\n",
    "\n",
    "    df = df.drop(columns=mapa_deletar)\n",
    "    return df"
   ]
  },
  {
   "cell_type": "code",
   "execution_count": 5,
   "metadata": {},
   "outputs": [],
   "source": [
    "def proporcao_pacientes_por_sexo(df):\n",
    "    df_sexo = df['CS_SEXO'].value_counts(normalize=True)\n",
    "    return df_sexo "
   ]
  },
  {
   "cell_type": "code",
   "execution_count": 6,
   "metadata": {},
   "outputs": [],
   "source": [
    "def sintomas_mais_frequente(df):\n",
    "    mapa_sintomas = {\n",
    "        'NOSOCOMIAL',\n",
    "        'AVE_SUINO',\n",
    "        'FEBRE',\n",
    "        'TOSSE',\n",
    "        'GARGANTA',\n",
    "        'DISPNEIA',\n",
    "        'DESC_RESP',\n",
    "        'SATURACAO',\n",
    "        'DIARREIA',\n",
    "        'VOMITO',\n",
    "        'OUTRO_SIN'\n",
    "    }\n",
    "\n",
    "    df_sintomas = df[list(mapa_sintomas)]\n",
    "    \n",
    "    contagem = df_sintomas.applymap(lambda x: 1 if x == 1 else 0).sum()\n",
    "    \n",
    "    df_contagem = pd.DataFrame(contagem, columns=['frequencia']).reset_index()\n",
    "    df_contagem.columns = ['sintoma', 'frequencia']\n",
    "    \n",
    "    return df_contagem"
   ]
  },
  {
   "cell_type": "code",
   "execution_count": 7,
   "metadata": {},
   "outputs": [],
   "source": [
    "def doenca_mais_frequente(df):\n",
    "    mapa_doencas = {\n",
    "        '',\n",
    "        \n",
    "    }\n",
    "\n",
    "\n",
    "    return df_doencas "
   ]
  },
  {
   "cell_type": "code",
   "execution_count": 17,
   "metadata": {},
   "outputs": [],
   "source": [
    "def fator_risco(df):\n",
    "    df_risco = df['FATOR_RISC'].value_counts(normalize=True)\n",
    "    return df_risco"
   ]
  },
  {
   "cell_type": "code",
   "execution_count": 32,
   "metadata": {},
   "outputs": [],
   "source": [
    "def media_idade_pacientes(df):\n",
    "    idades = df[df['TP_IDADE'] == 3]\n",
    "    return idades"
   ]
  },
  {
   "cell_type": "code",
   "execution_count": 10,
   "metadata": {},
   "outputs": [],
   "source": [
    "def media_idade_pacientes_por_doenca(df):\n",
    "    pass"
   ]
  },
  {
   "cell_type": "code",
   "execution_count": 11,
   "metadata": {},
   "outputs": [],
   "source": [
    "def media_idade_pacientes_por_doenca_e_sexo(df):\n",
    "    pass"
   ]
  },
  {
   "cell_type": "markdown",
   "metadata": {},
   "source": [
    "# Chamando funções e aplicando filtros"
   ]
  },
  {
   "cell_type": "markdown",
   "metadata": {},
   "source": [
    "# Pré processamento de dados "
   ]
  },
  {
   "cell_type": "code",
   "execution_count": 12,
   "metadata": {},
   "outputs": [],
   "source": [
    "df_sivep = ler_planilha()\n",
    "df_sivep = remover_colunas_vazias(df_sivep)\n",
    "df_sivep = remover_futeis(df_sivep)"
   ]
  },
  {
   "cell_type": "markdown",
   "metadata": {},
   "source": [
    "## calcular proporção de pacientes por sexo"
   ]
  },
  {
   "cell_type": "code",
   "execution_count": 13,
   "metadata": {},
   "outputs": [
    {
     "data": {
      "text/plain": [
       "CS_SEXO\n",
       "M    0.508893\n",
       "F    0.491107\n",
       "Name: proportion, dtype: float64"
      ]
     },
     "execution_count": 13,
     "metadata": {},
     "output_type": "execute_result"
    }
   ],
   "source": [
    "df_sexo = proporcao_pacientes_por_sexo(df_sivep)\n",
    "df_sexo.head()"
   ]
  },
  {
   "cell_type": "code",
   "execution_count": 14,
   "metadata": {},
   "outputs": [
    {
     "data": {
      "image/png": "[encoded data removed]",
      "text/plain": [
       "<Figure size 640x480 with 1 Axes>"
      ]
     },
     "metadata": {},
     "output_type": "display_data"
    }
   ],
   "source": [
    "df_sexo.plot(kind='bar', color=['blue', 'pink'])\n",
    "\n",
    "plt.title('Proporção de Pacientes por Sexo')\n",
    "plt.xlabel('Sexo')\n",
    "plt.ylabel('Proporção')\n",
    "plt.show()\n"
   ]
  },
  {
   "cell_type": "markdown",
   "metadata": {},
   "source": [
    "## calcular doenças mais frequentes"
   ]
  },
  {
   "cell_type": "code",
   "execution_count": null,
   "metadata": {},
   "outputs": [],
   "source": []
  },
  {
   "cell_type": "markdown",
   "metadata": {},
   "source": [
    "## calcular sintomas mais frequentes"
   ]
  },
  {
   "cell_type": "code",
   "execution_count": 29,
   "metadata": {},
   "outputs": [
    {
     "name": "stderr",
     "output_type": "stream",
     "text": [
      "/tmp/ipykernel_19941/1879116101.py:18: FutureWarning: DataFrame.applymap has been deprecated. Use DataFrame.map instead.\n",
      "  contagem = df_sintomas.applymap(lambda x: 1 if x == 1 else 0).sum()\n"
     ]
    },
    {
     "data": {
      "text/html": [
       "<div>\n",
       "<style scoped>\n",
       "    .dataframe tbody tr th:only-of-type {\n",
       "        vertical-align: middle;\n",
       "    }\n",
       "\n",
       "    .dataframe tbody tr th {\n",
       "        vertical-align: top;\n",
       "    }\n",
       "\n",
       "    .dataframe thead th {\n",
       "        text-align: right;\n",
       "    }\n",
       "</style>\n",
       "<table border=\"1\" class=\"dataframe\">\n",
       "  <thead>\n",
       "    <tr style=\"text-align: right;\">\n",
       "      <th></th>\n",
       "      <th>sintoma</th>\n",
       "      <th>frequencia</th>\n",
       "    </tr>\n",
       "  </thead>\n",
       "  <tbody>\n",
       "    <tr>\n",
       "      <th>0</th>\n",
       "      <td>GARGANTA</td>\n",
       "      <td>237</td>\n",
       "    </tr>\n",
       "    <tr>\n",
       "      <th>1</th>\n",
       "      <td>DESC_RESP</td>\n",
       "      <td>1588</td>\n",
       "    </tr>\n",
       "    <tr>\n",
       "      <th>2</th>\n",
       "      <td>OUTRO_SIN</td>\n",
       "      <td>668</td>\n",
       "    </tr>\n",
       "    <tr>\n",
       "      <th>3</th>\n",
       "      <td>SATURACAO</td>\n",
       "      <td>1246</td>\n",
       "    </tr>\n",
       "    <tr>\n",
       "      <th>4</th>\n",
       "      <td>NOSOCOMIAL</td>\n",
       "      <td>143</td>\n",
       "    </tr>\n",
       "    <tr>\n",
       "      <th>5</th>\n",
       "      <td>FEBRE</td>\n",
       "      <td>1625</td>\n",
       "    </tr>\n",
       "    <tr>\n",
       "      <th>6</th>\n",
       "      <td>DIARREIA</td>\n",
       "      <td>214</td>\n",
       "    </tr>\n",
       "    <tr>\n",
       "      <th>7</th>\n",
       "      <td>AVE_SUINO</td>\n",
       "      <td>7</td>\n",
       "    </tr>\n",
       "    <tr>\n",
       "      <th>8</th>\n",
       "      <td>DISPNEIA</td>\n",
       "      <td>1382</td>\n",
       "    </tr>\n",
       "    <tr>\n",
       "      <th>9</th>\n",
       "      <td>VOMITO</td>\n",
       "      <td>240</td>\n",
       "    </tr>\n",
       "    <tr>\n",
       "      <th>10</th>\n",
       "      <td>TOSSE</td>\n",
       "      <td>1692</td>\n",
       "    </tr>\n",
       "  </tbody>\n",
       "</table>\n",
       "</div>"
      ],
      "text/plain": [
       "       sintoma  frequencia\n",
       "0     GARGANTA         237\n",
       "1    DESC_RESP        1588\n",
       "2    OUTRO_SIN         668\n",
       "3    SATURACAO        1246\n",
       "4   NOSOCOMIAL         143\n",
       "5        FEBRE        1625\n",
       "6     DIARREIA         214\n",
       "7    AVE_SUINO           7\n",
       "8     DISPNEIA        1382\n",
       "9       VOMITO         240\n",
       "10       TOSSE        1692"
      ]
     },
     "execution_count": 29,
     "metadata": {},
     "output_type": "execute_result"
    }
   ],
   "source": [
    "df_sintomas = sintomas_mais_frequente(df_sivep)\n",
    "df_sintomas.head(11)"
   ]
  },
  {
   "cell_type": "code",
   "execution_count": 16,
   "metadata": {},
   "outputs": [
    {
     "data": {
      "image/png": "[encoded data removed]",
      "text/plain": [
       "<Figure size 640x480 with 1 Axes>"
      ]
     },
     "metadata": {},
     "output_type": "display_data"
    }
   ],
   "source": [
    "df_sintomas.plot(kind='bar', x='sintoma', y='frequencia', color='blue')\n",
    "\n",
    "plt.title('Sintomas mais frequentes')\n",
    "plt.xlabel('Sintoma')\n",
    "plt.ylabel('Frequência')\n",
    "plt.show()"
   ]
  },
  {
   "cell_type": "markdown",
   "metadata": {},
   "source": [
    "## calcular pacientes com fator de risco "
   ]
  },
  {
   "cell_type": "code",
   "execution_count": 25,
   "metadata": {},
   "outputs": [
    {
     "data": {
      "text/plain": [
       "FATOR_RISC\n",
       "Sim    0.525692\n",
       "Não    0.474308\n",
       "Name: proportion, dtype: float64"
      ]
     },
     "execution_count": 25,
     "metadata": {},
     "output_type": "execute_result"
    }
   ],
   "source": [
    "df_risco = fator_risco(df_sivep)\n",
    "df_risco.rename(index={1: 'Sim', 2: 'Não'}, inplace=True)\n",
    "df_risco.head()"
   ]
  },
  {
   "cell_type": "code",
   "execution_count": 26,
   "metadata": {},
   "outputs": [
    {
     "data": {
      "image/png": "[encoded data removed]",
      "text/plain": [
       "<Figure size 640x480 with 1 Axes>"
      ]
     },
     "metadata": {},
     "output_type": "display_data"
    }
   ],
   "source": [
    "df_risco.plot(kind='bar', color='blue')\n",
    "\n",
    "plt.title('Fatores de Risco')\n",
    "plt.xlabel('Fator de Risco')\n",
    "plt.ylabel('Proporção')\n",
    "plt.show()"
   ]
  },
  {
   "cell_type": "markdown",
   "metadata": {},
   "source": [
    "## calcular media de idade dos pacientes"
   ]
  },
  {
   "cell_type": "code",
   "execution_count": 33,
   "metadata": {},
   "outputs": [],
   "source": [
    "df_idades, media_idades, = media_idade_pacientes(df_sivep)\n",
    "media_idade = df_idades['NU_IDADE_N'].mean() \n",
    "dp = df_idades['NU_IDADE_N'].std()"
   ]
  },
  {
   "cell_type": "markdown",
   "metadata": {},
   "source": [
    "## calcular media de idade dos pacientes por doença"
   ]
  },
  {
   "cell_type": "code",
   "execution_count": null,
   "metadata": {},
   "outputs": [],
   "source": []
  },
  {
   "cell_type": "markdown",
   "metadata": {},
   "source": [
    "## calcular media de idade dos pacientes por doença e por sexo"
   ]
  },
  {
   "cell_type": "code",
   "execution_count": null,
   "metadata": {},
   "outputs": [],
   "source": []
  }
 ],
 "metadata": {
  "kernelspec": {
   "display_name": "Python 3",
   "language": "python",
   "name": "python3"
  },
  "language_info": {
   "codemirror_mode": {
    "name": "ipython",
    "version": 3
   },
   "file_extension": ".py",
   "mimetype": "text/x-python",
   "name": "python",
   "nbconvert_exporter": "python",
   "pygments_lexer": "ipython3",
   "version": "3.10.12"
  }
 },
 "nbformat": 4,
 "nbformat_minor": 2
}
