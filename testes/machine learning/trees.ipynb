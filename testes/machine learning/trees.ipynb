{
 "cells": [
  {
   "cell_type": "markdown",
   "metadata": {},
   "source": [
    "# Importando e instalando dependências "
   ]
  },
  {
   "cell_type": "code",
   "execution_count": 1,
   "metadata": {},
   "outputs": [
    {
     "name": "stderr",
     "output_type": "stream",
     "text": [
      "/home/geffte-caetano/.local/lib/python3.10/site-packages/matplotlib/projections/__init__.py:63: UserWarning: Unable to import Axes3D. This may be due to multiple versions of Matplotlib being installed (e.g. as a system package and as a pip package). As a result, the 3D projection is not available.\n",
      "  warnings.warn(\"Unable to import Axes3D. This may be due to multiple versions of \"\n"
     ]
    }
   ],
   "source": [
    "import funcs as f\n",
    "import pandas as pd\n",
    "import math\n",
    "from xgboost import XGBClassifier\n",
    "from sklearn.ensemble import RandomForestClassifier, HistGradientBoostingClassifier, AdaBoostClassifier\n",
    "from sklearn.model_selection import train_test_split\n",
    "from sklearn.metrics import accuracy_score, classification_report, confusion_matrix\n",
    "import matplotlib.pyplot as plt\n",
    "import seaborn as sns"
   ]
  },
  {
   "cell_type": "markdown",
   "metadata": {},
   "source": [
    "# Lendo planilha e definindo df"
   ]
  },
  {
   "cell_type": "code",
   "execution_count": 2,
   "metadata": {},
   "outputs": [],
   "source": [
    "df_leitura = f.ler_planilha()"
   ]
  },
  {
   "cell_type": "code",
   "execution_count": 3,
   "metadata": {},
   "outputs": [],
   "source": [
    "mapa_sintomas = {\n",
    "    'NOSOCOMIAL',\n",
    "    'AVE_SUINO',\n",
    "    'FEBRE',\n",
    "    'TOSSE',\n",
    "    'GARGANTA',\n",
    "    'DISPNEIA',\n",
    "    'DESC_RESP',\n",
    "    'SATURACAO',\n",
    "    'DIARREIA',\n",
    "    'VOMITO',\n",
    "    'OUTRO_SIN',\n",
    "    'CLASSI_FIN'\n",
    "}"
   ]
  },
  {
   "cell_type": "code",
   "execution_count": 4,
   "metadata": {},
   "outputs": [],
   "source": [
    "df_sivep = pd.DataFrame() \n",
    "\n",
    "for column in df_leitura:\n",
    "    if column in mapa_sintomas:\n",
    "        df_sivep[column] = df_leitura[column]"
   ]
  },
  {
   "cell_type": "code",
   "execution_count": 5,
   "metadata": {},
   "outputs": [],
   "source": [
    "for key in df_sivep.keys():\n",
    "    for linha in df_sivep[key]:\n",
    "        if math.isnan(linha) and key != 'CLASSI_FIN':\n",
    "            df_sivep[key] = df_sivep[key].replace(linha, 9)\n",
    "        elif math.isnan(linha) and key == 'CLASSI_FIN':\n",
    "            df_sivep[key] = df_sivep[key].replace(linha, 4)"
   ]
  },
  {
   "cell_type": "code",
   "execution_count": 6,
   "metadata": {},
   "outputs": [],
   "source": [
    "for column in df_sivep:\n",
    "    if column in mapa_sintomas:\n",
    "        df_sivep[column] = df_sivep[column].astype(int)"
   ]
  },
  {
   "cell_type": "code",
   "execution_count": 7,
   "metadata": {},
   "outputs": [
    {
     "data": {
      "text/html": [
       "<div>\n",
       "<style scoped>\n",
       "    .dataframe tbody tr th:only-of-type {\n",
       "        vertical-align: middle;\n",
       "    }\n",
       "\n",
       "    .dataframe tbody tr th {\n",
       "        vertical-align: top;\n",
       "    }\n",
       "\n",
       "    .dataframe thead th {\n",
       "        text-align: right;\n",
       "    }\n",
       "</style>\n",
       "<table border=\"1\" class=\"dataframe\">\n",
       "  <thead>\n",
       "    <tr style=\"text-align: right;\">\n",
       "      <th></th>\n",
       "      <th>NOSOCOMIAL</th>\n",
       "      <th>AVE_SUINO</th>\n",
       "      <th>FEBRE</th>\n",
       "      <th>TOSSE</th>\n",
       "      <th>GARGANTA</th>\n",
       "      <th>DISPNEIA</th>\n",
       "      <th>DESC_RESP</th>\n",
       "      <th>SATURACAO</th>\n",
       "      <th>DIARREIA</th>\n",
       "      <th>VOMITO</th>\n",
       "      <th>OUTRO_SIN</th>\n",
       "      <th>CLASSI_FIN</th>\n",
       "    </tr>\n",
       "  </thead>\n",
       "  <tbody>\n",
       "    <tr>\n",
       "      <th>0</th>\n",
       "      <td>2</td>\n",
       "      <td>2</td>\n",
       "      <td>1</td>\n",
       "      <td>1</td>\n",
       "      <td>2</td>\n",
       "      <td>2</td>\n",
       "      <td>1</td>\n",
       "      <td>2</td>\n",
       "      <td>2</td>\n",
       "      <td>2</td>\n",
       "      <td>2</td>\n",
       "      <td>4</td>\n",
       "    </tr>\n",
       "    <tr>\n",
       "      <th>1</th>\n",
       "      <td>2</td>\n",
       "      <td>2</td>\n",
       "      <td>1</td>\n",
       "      <td>1</td>\n",
       "      <td>9</td>\n",
       "      <td>1</td>\n",
       "      <td>1</td>\n",
       "      <td>1</td>\n",
       "      <td>9</td>\n",
       "      <td>9</td>\n",
       "      <td>9</td>\n",
       "      <td>4</td>\n",
       "    </tr>\n",
       "    <tr>\n",
       "      <th>2</th>\n",
       "      <td>2</td>\n",
       "      <td>2</td>\n",
       "      <td>1</td>\n",
       "      <td>1</td>\n",
       "      <td>2</td>\n",
       "      <td>1</td>\n",
       "      <td>1</td>\n",
       "      <td>1</td>\n",
       "      <td>2</td>\n",
       "      <td>2</td>\n",
       "      <td>2</td>\n",
       "      <td>5</td>\n",
       "    </tr>\n",
       "    <tr>\n",
       "      <th>3</th>\n",
       "      <td>2</td>\n",
       "      <td>2</td>\n",
       "      <td>1</td>\n",
       "      <td>1</td>\n",
       "      <td>2</td>\n",
       "      <td>1</td>\n",
       "      <td>1</td>\n",
       "      <td>1</td>\n",
       "      <td>2</td>\n",
       "      <td>2</td>\n",
       "      <td>2</td>\n",
       "      <td>4</td>\n",
       "    </tr>\n",
       "    <tr>\n",
       "      <th>4</th>\n",
       "      <td>2</td>\n",
       "      <td>2</td>\n",
       "      <td>1</td>\n",
       "      <td>1</td>\n",
       "      <td>2</td>\n",
       "      <td>1</td>\n",
       "      <td>1</td>\n",
       "      <td>1</td>\n",
       "      <td>2</td>\n",
       "      <td>2</td>\n",
       "      <td>2</td>\n",
       "      <td>4</td>\n",
       "    </tr>\n",
       "    <tr>\n",
       "      <th>...</th>\n",
       "      <td>...</td>\n",
       "      <td>...</td>\n",
       "      <td>...</td>\n",
       "      <td>...</td>\n",
       "      <td>...</td>\n",
       "      <td>...</td>\n",
       "      <td>...</td>\n",
       "      <td>...</td>\n",
       "      <td>...</td>\n",
       "      <td>...</td>\n",
       "      <td>...</td>\n",
       "      <td>...</td>\n",
       "    </tr>\n",
       "    <tr>\n",
       "      <th>2019</th>\n",
       "      <td>2</td>\n",
       "      <td>2</td>\n",
       "      <td>1</td>\n",
       "      <td>1</td>\n",
       "      <td>2</td>\n",
       "      <td>1</td>\n",
       "      <td>1</td>\n",
       "      <td>1</td>\n",
       "      <td>2</td>\n",
       "      <td>2</td>\n",
       "      <td>2</td>\n",
       "      <td>4</td>\n",
       "    </tr>\n",
       "    <tr>\n",
       "      <th>2020</th>\n",
       "      <td>2</td>\n",
       "      <td>2</td>\n",
       "      <td>1</td>\n",
       "      <td>1</td>\n",
       "      <td>2</td>\n",
       "      <td>1</td>\n",
       "      <td>1</td>\n",
       "      <td>1</td>\n",
       "      <td>2</td>\n",
       "      <td>2</td>\n",
       "      <td>1</td>\n",
       "      <td>4</td>\n",
       "    </tr>\n",
       "    <tr>\n",
       "      <th>2021</th>\n",
       "      <td>2</td>\n",
       "      <td>2</td>\n",
       "      <td>1</td>\n",
       "      <td>1</td>\n",
       "      <td>2</td>\n",
       "      <td>1</td>\n",
       "      <td>1</td>\n",
       "      <td>1</td>\n",
       "      <td>2</td>\n",
       "      <td>2</td>\n",
       "      <td>2</td>\n",
       "      <td>4</td>\n",
       "    </tr>\n",
       "    <tr>\n",
       "      <th>2022</th>\n",
       "      <td>2</td>\n",
       "      <td>2</td>\n",
       "      <td>1</td>\n",
       "      <td>1</td>\n",
       "      <td>2</td>\n",
       "      <td>1</td>\n",
       "      <td>1</td>\n",
       "      <td>1</td>\n",
       "      <td>2</td>\n",
       "      <td>2</td>\n",
       "      <td>2</td>\n",
       "      <td>4</td>\n",
       "    </tr>\n",
       "    <tr>\n",
       "      <th>2023</th>\n",
       "      <td>2</td>\n",
       "      <td>2</td>\n",
       "      <td>1</td>\n",
       "      <td>1</td>\n",
       "      <td>2</td>\n",
       "      <td>1</td>\n",
       "      <td>1</td>\n",
       "      <td>1</td>\n",
       "      <td>2</td>\n",
       "      <td>2</td>\n",
       "      <td>1</td>\n",
       "      <td>4</td>\n",
       "    </tr>\n",
       "  </tbody>\n",
       "</table>\n",
       "<p>2024 rows × 12 columns</p>\n",
       "</div>"
      ],
      "text/plain": [
       "      NOSOCOMIAL  AVE_SUINO  FEBRE  TOSSE  GARGANTA  DISPNEIA  DESC_RESP  \\\n",
       "0              2          2      1      1         2         2          1   \n",
       "1              2          2      1      1         9         1          1   \n",
       "2              2          2      1      1         2         1          1   \n",
       "3              2          2      1      1         2         1          1   \n",
       "4              2          2      1      1         2         1          1   \n",
       "...          ...        ...    ...    ...       ...       ...        ...   \n",
       "2019           2          2      1      1         2         1          1   \n",
       "2020           2          2      1      1         2         1          1   \n",
       "2021           2          2      1      1         2         1          1   \n",
       "2022           2          2      1      1         2         1          1   \n",
       "2023           2          2      1      1         2         1          1   \n",
       "\n",
       "      SATURACAO  DIARREIA  VOMITO  OUTRO_SIN  CLASSI_FIN  \n",
       "0             2         2       2          2           4  \n",
       "1             1         9       9          9           4  \n",
       "2             1         2       2          2           5  \n",
       "3             1         2       2          2           4  \n",
       "4             1         2       2          2           4  \n",
       "...         ...       ...     ...        ...         ...  \n",
       "2019          1         2       2          2           4  \n",
       "2020          1         2       2          1           4  \n",
       "2021          1         2       2          2           4  \n",
       "2022          1         2       2          2           4  \n",
       "2023          1         2       2          1           4  \n",
       "\n",
       "[2024 rows x 12 columns]"
      ]
     },
     "execution_count": 7,
     "metadata": {},
     "output_type": "execute_result"
    }
   ],
   "source": [
    "df_sivep"
   ]
  },
  {
   "cell_type": "code",
   "execution_count": 8,
   "metadata": {},
   "outputs": [],
   "source": [
    "df_sivep['CLASSI_FIN'] = df_sivep['CLASSI_FIN'].replace(5, 0)"
   ]
  },
  {
   "cell_type": "code",
   "execution_count": 12,
   "metadata": {},
   "outputs": [
    {
     "data": {
      "text/plain": [
       "array([4, 0, 2, 3, 1])"
      ]
     },
     "execution_count": 12,
     "metadata": {},
     "output_type": "execute_result"
    }
   ],
   "source": [
    "df_sivep['CLASSI_FIN'].unique()"
   ]
  },
  {
   "cell_type": "markdown",
   "metadata": {},
   "source": [
    "# Classificadores"
   ]
  },
  {
   "cell_type": "markdown",
   "metadata": {},
   "source": [
    "## XGBOOST"
   ]
  },
  {
   "cell_type": "code",
   "execution_count": 9,
   "metadata": {},
   "outputs": [],
   "source": [
    "X = df_sivep.drop(columns=['CLASSI_FIN'])\n",
    "y = df_sivep['CLASSI_FIN']\n",
    "\n",
    "X_train, X_test, y_train, y_test = train_test_split(X, y, test_size=.2)\n",
    "\n",
    "bst = XGBClassifier(n_estimators=2, max_depth=2, learning_rate=1e-05, objective='multi:softprob', num_class=5)\n",
    "\n",
    "bst.fit(X_train, y_train)\n",
    "\n",
    "preds = bst.predict(X_test)"
   ]
  },
  {
   "cell_type": "code",
   "execution_count": 10,
   "metadata": {},
   "outputs": [
    {
     "name": "stdout",
     "output_type": "stream",
     "text": [
      "Acurácia: 0.43\n",
      "Relatório de Classificação:\n",
      "              precision    recall  f1-score   support\n",
      "\n",
      "           0       0.00      0.00      0.00        36\n",
      "           1       0.00      0.00      0.00        58\n",
      "           2       0.38      0.21      0.27       136\n",
      "           4       0.44      0.84      0.58       175\n",
      "\n",
      "    accuracy                           0.43       405\n",
      "   macro avg       0.21      0.26      0.21       405\n",
      "weighted avg       0.32      0.43      0.34       405\n",
      "\n",
      "Matriz de Confusão:\n",
      "[[  0   0   6  30]\n",
      " [  0   0  12  46]\n",
      " [  0   0  28 108]\n",
      " [  0   0  28 147]]\n"
     ]
    },
    {
     "name": "stderr",
     "output_type": "stream",
     "text": [
      "/home/geffte-caetano/.local/lib/python3.10/site-packages/sklearn/metrics/_classification.py:1531: UndefinedMetricWarning: Precision is ill-defined and being set to 0.0 in labels with no predicted samples. Use `zero_division` parameter to control this behavior.\n",
      "  _warn_prf(average, modifier, f\"{metric.capitalize()} is\", len(result))\n",
      "/home/geffte-caetano/.local/lib/python3.10/site-packages/sklearn/metrics/_classification.py:1531: UndefinedMetricWarning: Precision is ill-defined and being set to 0.0 in labels with no predicted samples. Use `zero_division` parameter to control this behavior.\n",
      "  _warn_prf(average, modifier, f\"{metric.capitalize()} is\", len(result))\n",
      "/home/geffte-caetano/.local/lib/python3.10/site-packages/sklearn/metrics/_classification.py:1531: UndefinedMetricWarning: Precision is ill-defined and being set to 0.0 in labels with no predicted samples. Use `zero_division` parameter to control this behavior.\n",
      "  _warn_prf(average, modifier, f\"{metric.capitalize()} is\", len(result))\n"
     ]
    },
    {
     "data": {
      "image/png": "[encoded data removed]",
      "text/plain": [
       "<Figure size 1000x700 with 2 Axes>"
      ]
     },
     "metadata": {},
     "output_type": "display_data"
    }
   ],
   "source": [
    "# Calcular a acurácia\n",
    "accuracy = accuracy_score(y_test, preds)\n",
    "print(f'Acurácia: {accuracy:.2f}')\n",
    "\n",
    "# Mostrar relatório de classificação\n",
    "print(\"Relatório de Classificação:\")\n",
    "print(classification_report(y_test, preds))\n",
    "\n",
    "# Mostrar a matriz de confusão\n",
    "conf_mat = confusion_matrix(y_test, preds)\n",
    "print(\"Matriz de Confusão:\")\n",
    "print(conf_mat)\n",
    "\n",
    "# Obter os nomes das classes\n",
    "class_names = y.unique()\n",
    "\n",
    "# Verificar se o número de classes é igual ao tamanho da matriz de confusão\n",
    "assert conf_mat.shape[0] == conf_mat.shape[1], 'A matriz de confusão deve ser quadrada' \n",
    "\n",
    "# Visualizar a matriz de confusão\n",
    "plt.figure(figsize=(10, 7))\n",
    "sns.heatmap(conf_mat, annot=True, fmt='d', cmap='Blues', \n",
    "            xticklabels=class_names, yticklabels= class_names)\n",
    "plt.ylabel('True label')\n",
    "plt.xlabel('Predicted label')\n",
    "plt.title('Matriz de Confusão')\n",
    "plt.show()"
   ]
  },
  {
   "cell_type": "markdown",
   "metadata": {},
   "source": [
    "## RandomForest"
   ]
  },
  {
   "cell_type": "code",
   "execution_count": 13,
   "metadata": {},
   "outputs": [],
   "source": [
    "X = df_sivep.drop(columns=['CLASSI_FIN'])\n",
    "y = df_sivep['CLASSI_FIN']\n",
    "\n",
    "X_train, X_test, y_train, y_test = train_test_split(X, y, test_size=.2)\n",
    "\n",
    "rf = RandomForestClassifier(max_depth=10, random_state=0)\n",
    "\n",
    "rf.fit(X_train, y_train)\n",
    "\n",
    "preds = rf.predict(X_test)"
   ]
  },
  {
   "cell_type": "code",
   "execution_count": 15,
   "metadata": {},
   "outputs": [
    {
     "data": {
      "text/plain": [
       "1773    2\n",
       "697     2\n",
       "88      4\n",
       "28      4\n",
       "724     4\n",
       "       ..\n",
       "990     0\n",
       "585     4\n",
       "292     4\n",
       "2007    4\n",
       "1081    1\n",
       "Name: CLASSI_FIN, Length: 1619, dtype: int64"
      ]
     },
     "execution_count": 15,
     "metadata": {},
     "output_type": "execute_result"
    }
   ],
   "source": [
    "y_train"
   ]
  },
  {
   "cell_type": "code",
   "execution_count": 14,
   "metadata": {},
   "outputs": [
    {
     "name": "stdout",
     "output_type": "stream",
     "text": [
      "Acurácia: 0.46\n",
      "Relatório de Classificação:\n",
      "              precision    recall  f1-score   support\n",
      "\n",
      "           0       0.23      0.15      0.18        39\n",
      "           1       0.00      0.00      0.00        51\n",
      "           2       0.44      0.36      0.40       136\n",
      "           3       0.00      0.00      0.00         1\n",
      "           4       0.50      0.74      0.60       178\n",
      "\n",
      "    accuracy                           0.46       405\n",
      "   macro avg       0.23      0.25      0.24       405\n",
      "weighted avg       0.39      0.46      0.41       405\n",
      "\n",
      "Matriz de Confusão:\n",
      "[[  6   2   7   0  24]\n",
      " [  4   0  19   0  28]\n",
      " [  6   0  49   0  81]\n",
      " [  0   0   1   0   0]\n",
      " [ 10   1  35   0 132]]\n"
     ]
    },
    {
     "name": "stderr",
     "output_type": "stream",
     "text": [
      "/home/geffte-caetano/.local/lib/python3.10/site-packages/sklearn/metrics/_classification.py:1531: UndefinedMetricWarning: Precision is ill-defined and being set to 0.0 in labels with no predicted samples. Use `zero_division` parameter to control this behavior.\n",
      "  _warn_prf(average, modifier, f\"{metric.capitalize()} is\", len(result))\n",
      "/home/geffte-caetano/.local/lib/python3.10/site-packages/sklearn/metrics/_classification.py:1531: UndefinedMetricWarning: Precision is ill-defined and being set to 0.0 in labels with no predicted samples. Use `zero_division` parameter to control this behavior.\n",
      "  _warn_prf(average, modifier, f\"{metric.capitalize()} is\", len(result))\n",
      "/home/geffte-caetano/.local/lib/python3.10/site-packages/sklearn/metrics/_classification.py:1531: UndefinedMetricWarning: Precision is ill-defined and being set to 0.0 in labels with no predicted samples. Use `zero_division` parameter to control this behavior.\n",
      "  _warn_prf(average, modifier, f\"{metric.capitalize()} is\", len(result))\n"
     ]
    },
    {
     "data": {
      "image/png": "[encoded data removed]",
      "text/plain": [
       "<Figure size 1000x700 with 2 Axes>"
      ]
     },
     "metadata": {},
     "output_type": "display_data"
    }
   ],
   "source": [
    "# Calcular a acurácia\n",
    "accuracy = accuracy_score(y_test, preds)\n",
    "print(f'Acurácia: {accuracy:.2f}')\n",
    "\n",
    "# Mostrar relatório de classificação\n",
    "print(\"Relatório de Classificação:\")\n",
    "print(classification_report(y_test, preds))\n",
    "\n",
    "# Mostrar a matriz de confusão\n",
    "conf_mat = confusion_matrix(y_test, preds)\n",
    "print(\"Matriz de Confusão:\")\n",
    "print(conf_mat)\n",
    "\n",
    "# Obter os nomes das classes\n",
    "class_names = y.unique()\n",
    "\n",
    "# Verificar se o número de classes é igual ao tamanho da matriz de confusão\n",
    "assert conf_mat.shape[0] == conf_mat.shape[1], 'A matriz de confusão deve ser quadrada'\n",
    "\n",
    "# Visualizar a matriz de confusão\n",
    "plt.figure(figsize=(10, 7))\n",
    "sns.heatmap(conf_mat, annot=True, fmt='d', cmap='Blues', \n",
    "            xticklabels=class_names, yticklabels= class_names)\n",
    "plt.ylabel('True label')\n",
    "plt.xlabel('Predicted label')\n",
    "plt.title('Matriz de Confusão')\n",
    "plt.show()\n",
    "\n"
   ]
  },
  {
   "cell_type": "markdown",
   "metadata": {},
   "source": [
    "## HistGradient"
   ]
  },
  {
   "cell_type": "code",
   "execution_count": 18,
   "metadata": {},
   "outputs": [],
   "source": [
    "X = df_sivep.drop(columns=['CLASSI_FIN'])\n",
    "y = df_sivep['CLASSI_FIN']\n",
    "\n",
    "X_train, X_test, y_train, y_test = train_test_split(X, y, test_size=.2)\n",
    "\n",
    "hgb = HistGradientBoostingClassifier(max_iter=2, max_depth=2, learning_rate=1e-05)\n",
    "\n",
    "hgb.fit(X_train, y_train)\n",
    "\n",
    "preds = hgb.predict(X_test)"
   ]
  },
  {
   "cell_type": "code",
   "execution_count": 19,
   "metadata": {},
   "outputs": [
    {
     "name": "stdout",
     "output_type": "stream",
     "text": [
      "Acurácia: 0.48\n",
      "Relatório de Classificação:\n",
      "              precision    recall  f1-score   support\n",
      "\n",
      "           0       0.00      0.00      0.00        43\n",
      "           1       0.00      0.00      0.00        40\n",
      "           2       0.00      0.00      0.00       128\n",
      "           3       0.00      0.00      0.00         1\n",
      "           4       0.48      1.00      0.65       193\n",
      "\n",
      "    accuracy                           0.48       405\n",
      "   macro avg       0.10      0.20      0.13       405\n",
      "weighted avg       0.23      0.48      0.31       405\n",
      "\n",
      "Matriz de Confusão:\n",
      "[[  0   0   0   0  43]\n",
      " [  0   0   0   0  40]\n",
      " [  0   0   0   0 128]\n",
      " [  0   0   0   0   1]\n",
      " [  0   0   0   0 193]]\n"
     ]
    },
    {
     "name": "stderr",
     "output_type": "stream",
     "text": [
      "/home/geffte-caetano/.local/lib/python3.10/site-packages/sklearn/metrics/_classification.py:1531: UndefinedMetricWarning: Precision is ill-defined and being set to 0.0 in labels with no predicted samples. Use `zero_division` parameter to control this behavior.\n",
      "  _warn_prf(average, modifier, f\"{metric.capitalize()} is\", len(result))\n",
      "/home/geffte-caetano/.local/lib/python3.10/site-packages/sklearn/metrics/_classification.py:1531: UndefinedMetricWarning: Precision is ill-defined and being set to 0.0 in labels with no predicted samples. Use `zero_division` parameter to control this behavior.\n",
      "  _warn_prf(average, modifier, f\"{metric.capitalize()} is\", len(result))\n",
      "/home/geffte-caetano/.local/lib/python3.10/site-packages/sklearn/metrics/_classification.py:1531: UndefinedMetricWarning: Precision is ill-defined and being set to 0.0 in labels with no predicted samples. Use `zero_division` parameter to control this behavior.\n",
      "  _warn_prf(average, modifier, f\"{metric.capitalize()} is\", len(result))\n"
     ]
    },
    {
     "data": {
      "image/png": "[encoded data removed]",
      "text/plain": [
       "<Figure size 1000x700 with 2 Axes>"
      ]
     },
     "metadata": {},
     "output_type": "display_data"
    }
   ],
   "source": [
    "#Calcular a acurácia\n",
    "accuracy = accuracy_score(y_test, preds)\n",
    "print(f'Acurácia: {accuracy:.2f}')\n",
    "\n",
    "# Mostrar relatório de classificação\n",
    "print(\"Relatório de Classificação:\")\n",
    "print(classification_report(y_test, preds))\n",
    "\n",
    "# Mostrar a matriz de confusão\n",
    "conf_mat = confusion_matrix(y_test, preds)\n",
    "print(\"Matriz de Confusão:\")\n",
    "print(conf_mat)\n",
    "\n",
    "# Obter os nomes das classes\n",
    "class_names = y.unique()\n",
    "\n",
    "# Verificar se o número de classes é igual ao tamanho da matriz de confusão\n",
    "assert conf_mat.shape[0] == conf_mat.shape[1], 'A matriz de confusão deve ser quadrada'\n",
    "\n",
    "# Visualizar a matriz de confusão\n",
    "plt.figure(figsize=(10, 7))\n",
    "sns.heatmap(conf_mat, annot=True, fmt='d', cmap='Blues', \n",
    "            xticklabels=class_names, yticklabels= class_names)\n",
    "plt.ylabel('True label')\n",
    "plt.xlabel('Predicted label')\n",
    "plt.title('Matriz de Confusão')\n",
    "plt.show()"
   ]
  },
  {
   "cell_type": "markdown",
   "metadata": {},
   "source": [
    "## AdaBoostClassifier"
   ]
  },
  {
   "cell_type": "code",
   "execution_count": 20,
   "metadata": {},
   "outputs": [],
   "source": [
    "X = df_sivep.drop(columns=['CLASSI_FIN'])\n",
    "y = df_sivep['CLASSI_FIN']\n",
    "\n",
    "X_train, X_test, y_train, y_test = train_test_split(X, y, test_size=.2)\n",
    "\n",
    "ada = AdaBoostClassifier(n_estimators=100, algorithm=\"SAMME\", random_state=0, learning_rate=1e-05)\n",
    "\n",
    "ada.fit(X_train, y_train)\n",
    "\n",
    "preds = ada.predict(X_test)"
   ]
  },
  {
   "cell_type": "code",
   "execution_count": 21,
   "metadata": {},
   "outputs": [
    {
     "name": "stdout",
     "output_type": "stream",
     "text": [
      "Acurácia: 0.46\n",
      "Relatório de Classificação:\n",
      "              precision    recall  f1-score   support\n",
      "\n",
      "           0       0.00      0.00      0.00        45\n",
      "           1       0.00      0.00      0.00        56\n",
      "           2       0.00      0.00      0.00       116\n",
      "           3       0.00      0.00      0.00         3\n",
      "           4       0.46      1.00      0.63       185\n",
      "\n",
      "    accuracy                           0.46       405\n",
      "   macro avg       0.09      0.20      0.13       405\n",
      "weighted avg       0.21      0.46      0.29       405\n",
      "\n",
      "Matriz de Confusão:\n",
      "[[  0   0   0   0  45]\n",
      " [  0   0   0   0  56]\n",
      " [  0   0   0   0 116]\n",
      " [  0   0   0   0   3]\n",
      " [  0   0   0   0 185]]\n"
     ]
    },
    {
     "name": "stderr",
     "output_type": "stream",
     "text": [
      "/home/geffte-caetano/.local/lib/python3.10/site-packages/sklearn/metrics/_classification.py:1531: UndefinedMetricWarning: Precision is ill-defined and being set to 0.0 in labels with no predicted samples. Use `zero_division` parameter to control this behavior.\n",
      "  _warn_prf(average, modifier, f\"{metric.capitalize()} is\", len(result))\n",
      "/home/geffte-caetano/.local/lib/python3.10/site-packages/sklearn/metrics/_classification.py:1531: UndefinedMetricWarning: Precision is ill-defined and being set to 0.0 in labels with no predicted samples. Use `zero_division` parameter to control this behavior.\n",
      "  _warn_prf(average, modifier, f\"{metric.capitalize()} is\", len(result))\n",
      "/home/geffte-caetano/.local/lib/python3.10/site-packages/sklearn/metrics/_classification.py:1531: UndefinedMetricWarning: Precision is ill-defined and being set to 0.0 in labels with no predicted samples. Use `zero_division` parameter to control this behavior.\n",
      "  _warn_prf(average, modifier, f\"{metric.capitalize()} is\", len(result))\n"
     ]
    },
    {
     "data": {
      "image/png": "[encoded data removed]",
      "text/plain": [
       "<Figure size 1000x700 with 2 Axes>"
      ]
     },
     "metadata": {},
     "output_type": "display_data"
    }
   ],
   "source": [
    "# Calcular a acurácia\n",
    "accuracy = accuracy_score(y_test, preds)\n",
    "print(f'Acurácia: {accuracy:.2f}')\n",
    "\n",
    "# Mostrar relatório de classificação\n",
    "print(\"Relatório de Classificação:\")\n",
    "print(classification_report(y_test, preds))\n",
    "\n",
    "# Mostrar a matriz de confusão\n",
    "conf_mat = confusion_matrix(y_test, preds)\n",
    "print(\"Matriz de Confusão:\")\n",
    "print(conf_mat)\n",
    "\n",
    "# Obter os nomes das classes\n",
    "class_names = y.unique()\n",
    "\n",
    "# Verificar se o número de classes é igual ao tamanho da matriz de confusão\n",
    "assert conf_mat.shape[0] == conf_mat.shape[1], 'A matriz de confusão deve ser quadrada'\n",
    "\n",
    "# Visualizar a matriz de confusão\n",
    "plt.figure(figsize=(10, 7))\n",
    "sns.heatmap(conf_mat, annot=True, fmt='d', cmap='Blues', \n",
    "            xticklabels=class_names, yticklabels= class_names)\n",
    "plt.ylabel('True label')\n",
    "plt.xlabel('Predicted label')\n",
    "plt.title('Matriz de Confusão')\n",
    "plt.show()"
   ]
  }
 ],
 "metadata": {
  "kernelspec": {
   "display_name": "Python 3",
   "language": "python",
   "name": "python3"
  },
  "language_info": {
   "codemirror_mode": {
    "name": "ipython",
    "version": 3
   },
   "file_extension": ".py",
   "mimetype": "text/x-python",
   "name": "python",
   "nbconvert_exporter": "python",
   "pygments_lexer": "ipython3",
   "version": "3.10.12"
  }
 },
 "nbformat": 4,
 "nbformat_minor": 2
}
