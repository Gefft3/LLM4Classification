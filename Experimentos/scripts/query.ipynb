{
 "cells": [
  {
   "cell_type": "code",
   "execution_count": 1,
   "metadata": {},
   "outputs": [],
   "source": [
    "import pandas as pd \n",
    "from langchain_ollama import ChatOllama\n",
    "from langchain.prompts import PromptTemplate\n",
    "from langchain_core.runnables import chain\n",
    "from bs4 import BeautifulSoup\n",
    "import requests\n",
    "from pydantic import BaseModel, Field"
   ]
  },
  {
   "cell_type": "code",
   "execution_count": 2,
   "metadata": {},
   "outputs": [
    {
     "data": {
      "text/html": [
       "<div>\n",
       "<style scoped>\n",
       "    .dataframe tbody tr th:only-of-type {\n",
       "        vertical-align: middle;\n",
       "    }\n",
       "\n",
       "    .dataframe tbody tr th {\n",
       "        vertical-align: top;\n",
       "    }\n",
       "\n",
       "    .dataframe thead th {\n",
       "        text-align: right;\n",
       "    }\n",
       "</style>\n",
       "<table border=\"1\" class=\"dataframe\">\n",
       "  <thead>\n",
       "    <tr style=\"text-align: right;\">\n",
       "      <th></th>\n",
       "      <th>link</th>\n",
       "    </tr>\n",
       "  </thead>\n",
       "  <tbody>\n",
       "    <tr>\n",
       "      <th>0</th>\n",
       "      <td>https://bit.ly/3lUcz1t</td>\n",
       "    </tr>\n",
       "    <tr>\n",
       "      <th>1</th>\n",
       "      <td>https://bit.ly/3g4FlsE</td>\n",
       "    </tr>\n",
       "    <tr>\n",
       "      <th>2</th>\n",
       "      <td>https://bit.ly/3g7mn4w</td>\n",
       "    </tr>\n",
       "    <tr>\n",
       "      <th>3</th>\n",
       "      <td>https://bit.ly/3sjQ0UY</td>\n",
       "    </tr>\n",
       "    <tr>\n",
       "      <th>4</th>\n",
       "      <td>https://bit.ly/3m6uVwh</td>\n",
       "    </tr>\n",
       "  </tbody>\n",
       "</table>\n",
       "</div>"
      ],
      "text/plain": [
       "                     link\n",
       "0  https://bit.ly/3lUcz1t\n",
       "1  https://bit.ly/3g4FlsE\n",
       "2  https://bit.ly/3g7mn4w\n",
       "3  https://bit.ly/3sjQ0UY\n",
       "4  https://bit.ly/3m6uVwh"
      ]
     },
     "execution_count": 2,
     "metadata": {},
     "output_type": "execute_result"
    }
   ],
   "source": [
    "url_dataset = '../../datasets/relevantes/dataset_links.csv'\n",
    "\n",
    "dataset = pd.read_csv(url_dataset)\n",
    "\n",
    "dataset.head()"
   ]
  },
  {
   "cell_type": "code",
   "execution_count": 3,
   "metadata": {},
   "outputs": [
    {
     "data": {
      "text/plain": [
       "'https://bit.ly/3lUcz1t'"
      ]
     },
     "execution_count": 3,
     "metadata": {},
     "output_type": "execute_result"
    }
   ],
   "source": [
    "dataset['link'][0]"
   ]
  },
  {
   "cell_type": "markdown",
   "metadata": {},
   "source": [
    "# na mão"
   ]
  },
  {
   "cell_type": "code",
   "execution_count": 18,
   "metadata": {},
   "outputs": [],
   "source": [
    "def fetch_page_content(url):\n",
    "    headers = {\n",
    "        \"User-Agent\": \"Mozilla/5.0 (Windows NT 10.0; Win64; x64) AppleWebKit/537.36 (KHTML, like Gecko) Chrome/114.0.0.0 Safari/537.36\"\n",
    "    }\n",
    "    try:\n",
    "        response = requests.get(url, headers=headers)\n",
    "        response.raise_for_status()  # Checa se houve erro na resposta\n",
    "        soup = BeautifulSoup(response.content, \"html.parser\")\n",
    "        text = soup.get_text(separator=\"\\n\").strip()\n",
    "        return text if text else \"Conteúdo vazio ou indisponível.\"\n",
    "    except Exception as e:\n",
    "        return f\"Erro ao acessar o link: {e}\""
   ]
  },
  {
   "cell_type": "code",
   "execution_count": 19,
   "metadata": {},
   "outputs": [],
   "source": [
    "class Response(BaseModel):\n",
    "    summary: str = Field(description=\"Resumo da notícia fornecida.\", required=True)"
   ]
  },
  {
   "cell_type": "code",
   "execution_count": 20,
   "metadata": {},
   "outputs": [],
   "source": [
    "summary_prompt = PromptTemplate(\n",
    "    input_variables=[\"content\"],\n",
    "    template=\"\"\"\n",
    "Você é um assistente especializado em gerar resumos detalhados.\n",
    "\n",
    "Seu objetivo é fornecer um resumo claro e completo, destacando os principais pontos, argumentos e informações relevantes do conteúdo. O resumo deve ser informativo e bem estruturado, com foco nas ideias principais. \n",
    "\n",
    "Lembre-se de que o resumo deve ser coeso e coerente, respeitando um limite máximo de 350 palavras, para permitir um pouco mais de profundidade e detalhes.\n",
    "\n",
    "Texto:\n",
    "{content}\n",
    "\"\"\"\n",
    ")\n",
    "\n",
    "llm = ChatOllama(model=\"llama3.1\", format=\"json\", temperature=0.1)\n",
    "\n",
    "structured_llm = llm.with_structured_output(Response)\n",
    "\n",
    "summary_chain = summary_prompt | structured_llm\n"
   ]
  },
  {
   "cell_type": "code",
   "execution_count": 21,
   "metadata": {},
   "outputs": [],
   "source": [
    "def summarize_web_content(url):\n",
    "    page_content = fetch_page_content(url)\n",
    "    \n",
    "    if \"Erro\" in page_content or \"Conteúdo vazio\" in page_content:\n",
    "        return page_content  \n",
    "    \n",
    "    summary = summary_chain.invoke(page_content)\n",
    "    return summary\n"
   ]
  },
  {
   "cell_type": "code",
   "execution_count": 22,
   "metadata": {},
   "outputs": [],
   "source": [
    "url = dataset['link'][0]\n",
    "response = summarize_web_content(url)"
   ]
  },
  {
   "cell_type": "code",
   "execution_count": 23,
   "metadata": {},
   "outputs": [
    {
     "data": {
      "text/plain": [
       "'Queimada atinge casa de festas e empresário estima R$ 80 mil de prejuízo - Capital - Campo Grande News\\n \\n \\n\\n\\n \\n \\n \\n\\n\\n\\n\\n\\n\\nmenu\\n\\n\\nMenu\\n\\n\\n\\n\\n\\n\\n\\n\\n\\n\\n\\n\\n\\n\\n\\n\\n\\n\\nACOMPANHE-NOS\\n\\n\\xa0\\xa0\\xa0\\n\\n\\n\\n\\n\\n\\n\\n (67) 99669-9563\\n\\n\\n \\nDEZEMBRO, QUARTA\\n \\xa0\\n18\\n\\n\\xa0\\xa0\\n\\xa0\\nCAMPO GRANDE\\n\\xa0\\n29º\\n\\n\\n\\n\\nsearch\\nBusca\\n\\n\\n\\n\\n\\n\\n\\n\\nAs mais\\n \\nMais\\n lidas\\n\\n\\n\\n\\nMotociclista de aplicativo morre ao ser atingido por moto de alta cilindrada\\nEmpresário \"acorrenta\" carro que parou em vaga exclusiva para clientes\\nAcidente mata 2 adultos, 1 criança e deixa 3 feridos\\nAcidente que matou motociclista de aplicativo foi gravado por câmeras \\nMais uma gigante da laranja deve se instalar na costa leste do Estado\\n\\n\\nÚltimas notícias\\nCapital\\nQueimada atinge casa de festas e empresário estima R$ 80 mil de prejuízo\\nFogo teve início em terrenos próximos do local e se espalhou até espaço de eventos\\n\\nAletheya Alves e Cristiano Arruda | 10/08/2021 17:08\\n\\n\\n\\n\\n\\n\\n\\n\\n\\n\\n\\n\\nEmpresário, Gilberto Aparecido Alves, de 62 anos, estima prejuízo de R$ 82 mil. (Foto: Kísie Ainoã)\\nRotineiro durante época de seca, incêndio em vegetação se espalhou e destruiu uma casa de festas nas Moreninhas durante a tarde desta terça-feira (10). Após um ano e meio de portas fechadas, o espaço localizado na Rua Serrita estava sendo preparado para retomar eventos em setembro.\\nAinda sem saber o que fazer, o empresário Gilberto Aparecido Alves, de 62 anos, conta que imagina ter perdido R$ 80 mil durante as poucas horas de incêndio. Sentado próximo ao espaço que foi tomado pelas chamas, ele explica que foram cerca de 35 hectares queimados entre o espaço de sua chácara e os vizinhos.\\nCerca de 380 cadeiras de plástico queimaram durante o incêndio. (Foto: Kísie Ainoã)\\nRelembrando, Gilberto contou que sentiu o cheiro da fumaça por volta de 12h45min. “Foi muito rápido e logo tudo já estava dominado pelas chamas. Depois de um ano e meio de pandemia, a gente ia retomar os eventos com uma boda de prata. Agora não sabemos o que fazer”.\\nEntre as perdas, o empresário contou cerca de 380 cadeiras, 50 mesas, geladeira, maquinários, botijões de gás e acessórios para eventos. “Os terrenos no entorno não costumam ser cuidados e com o \\ntempo\\n seco, isso deve ter ajudado com o incêndio”.\\nCerca de 35 hectares foram queimados durante o incêndio desta terça-feira (10). (Foto: Kísie Ainoã)\\nCom o incêndio, toda a fiação do local também prejudicada. O Corpo de Bombeiros Militar conseguiu controlar as chamas, mas ainda há fumaça e focos espalhados pela região.\\nOntem (9), o \\nCampo Grande News\\n noticiou outro incêndio próximo ao desta terça-feira. As chamas haviam retornado após 12 horas de incêndio, atrás do Fort da Avenida Gury Marques e tomaram toda a pastagem da Chácara Flor do Oriente.\\n\\n\\nNos siga no \\n\\n\\n\\n\\n\\n\\nVeja Também\\n\\n\\n\\n\\n\\n\\nSaída para SP volta a ter fogo em vegetação 12h depois de incêndio\\n\\n\\n\\n\\n\\n\\n\\n\\nFogo toma conta de vegetação e chamas assustam moradores na saída para SP  \\n\\n\\n\\n\\n\\n\\n\\n\\nIncêndio próximo a usina sai do controle e interdita estrada na região Sul\\n\\n\\n\\n\\n\\n\\n\\n\\nTrês meses após ser liberado, homem que matou porteiro é preso novamente\\n\\n\\nCampo Grande News\\nÚltimas Notícias\\nQuarta, 18 de Dezembro\\n\\n\\n19:09\\n\\xa0\\xa0 Mercado financeiro\\n\\n\\nDólar bate recorde após votação do pacote fiscal, cotado a R$ 6,26\\n\\n\\n18:45\\n\\xa0\\xa0 Em Bonito \\n\\n\\n\"Não sabia que era crime\", diz artesã que teve arte com crânios apreendida\\n\\n\\n18:21\\n\\xa0\\xa0 Fatal\\n\\n\\nMãe e filha morreram em acidente que também matou criança na BR-163\\n\\n\\n18:00\\n\\xa0\\xa0 Senado\\n\\n\\nDiretrizes Orçamentárias para 2025 é aprovada e traz salário mínimo de R$ 1.502\\n\\n\\n17:53\\n\\xa0\\xa0 Momento Saúde Bucal\\n\\n\\nTransforme seu Natal e o Ano Novo com um sorriso poderoso\\n\\n\\n17:49\\n\\xa0\\xa0 Modernizar o clube\\n\\n\\nNovo presidente quer transformar Comercial em SAF e projeta 2025 \\n\\n\\n17:38\\n\\xa0\\xa0 Risco de queimadura\\n\\n\\nStanley vai fazer recall de 401 mil garrafas térmicas no Brasil; veja como \\n\\n\\n17:29\\n\\xa0\\xa0 Mata do Jacinto\\n\\n\\nTrês meses após ser liberado, homem que matou porteiro é preso novamente\\n\\n\\n17:14\\n\\xa0\\xa0 Luzes e fogos\\n\\n\\nEm ano de escândalos, TJMS gasta mais de R$ 1,1 milhão com \"espírito natalino\"\\n\\n\\n17:08\\n\\xa0\\xa0 Atenção, concurseiros\\n\\n\\nEbserh abre concurso para cadastro de reserva nos hospitais universitários de MS\\n\\n\\n16:55\\n\\xa0\\xa0 Direto das Ruas\\n\\n\\nEm menos de 50 metros, mesma rua tem 2 quebra-molas e faixa elevada \\n\\n\\n16:49\\n\\xa0\\xa0 Terenos\\n\\n\\nHomem que esfaqueou amigo e agrediu esposa será monitorado por tornozeleira\\n\\n\\n16:38\\n\\xa0\\xa0 Pis/Pasep 2025\\n\\n\\nAbono salarial será pago a partir de fevereiro; veja quem tem direito\\n\\n\\n16:27\\n\\xa0\\xa0 Justiça de MS\\n\\n\\nInvestigados, presidente e vice eleitos no TJ são substituídos em nova eleição\\n\\n\\n16:15\\n\\xa0\\xa0 De 20 a 25 de dezembro\\n\\n\\nCom auxílio de câmeras, PRF inicia “Operação Natal 2024” nesta sexta-feira\\n\\n\\n16:09\\n\\xa0\\xa0 Em MS e MT \\n\\n\\nPantanal registra queda de 77,2% no desmate de vegetação nativa\\n\\n\\n15:58\\n\\xa0\\xa0 Operação Xapiri\\n\\n\\nIndígenas são flagrados em exploração ilegal de madeira em terra Kadiwéu\\n\\n\\n15:47\\n\\xa0\\xa0 Pantanal\\n\\n\\nForças policiais se mobilizam para resgatar filhotes de periquito\\n\\n\\n15:32\\n\\xa0\\xa0 Jardim Sumatra\\n\\n\\nRapaz diz que foi contratado para guardar droga em casa e inocenta amigos\\n\\n\\n15:29\\n\\xa0\\xa0 Brasilândia\\n\\n\\nHomem é morto com mais de 30 facadas \\n+\\n Notícias\\nRedes Sociais\\nAssine Nossa Newsletter\\n\\n\\n\\n\\n\\n\\n\\n\\n\\n\\n\\n\\nAssine Nossa Newsletter\\n\\n\\n\\n\\nExpediente\\nAnunciar\\nPolítica de Privacidade\\nFale Conosco\\nReportar Erro\\n\\nRUA ANTÔNIO MARIA COELHO, 4681 - VIVENDA DO BOSQUE CEP 79021-170 - CAMPO GRANDE - MS (67) 3316-7200\\n\\n\\n\\nTodos os direitos reservados. As notícias veiculadas nos blogs, colunas ou artigos são de inteira responsabilidade dos autores. Campo Grande News © 2020.\\n\\n\\n\\n\\nDesign by MV Agência | Desenvolvimento \\nIdalus Internet Solutions\\n.\\n\\n\\n\\n\\n\\n\\nCapa\\n\\n\\nÚltimas Notícias\\n\\n\\n\\n\\nEleições 2024\\n\\n\\n\\n\\n\\n\\nEntrevistas\\n\\n\\nApuração 1º Turno\\n\\n\\nApuração 2º Turno\\n\\n\\n\\n\\nEditorias\\n\\n\\n\\n\\n\\n\\nArtigos\\n\\n\\nCapital\\n\\n\\nCidades\\n\\n\\nConteúdo Patrocinado\\n\\n\\nEconomia\\n\\n\\nEducação e Tecnologia\\n\\n\\nEmpregos\\n\\n\\nEnquetes\\n\\n\\nEsportes\\n\\n\\nInterior\\n\\n\\nLoterias\\n\\n\\nMapa Interativo\\n\\n\\nMeio Ambiente\\n\\n\\nPolítica\\n\\n\\nReportagens Especiais\\n\\n\\nTV News\\n\\n\\n\\n\\nLado-B\\n\\n\\n\\n\\n\\n\\nCapa Lado-B\\n\\n\\nArquitetura\\n\\n\\nArtes\\n\\n\\nComportamento\\n\\n\\nConsumo\\n\\n\\nDiversão\\n\\n\\nFaz Bem!\\n\\n\\nGames\\n\\n\\nSabor\\n\\n\\nMiAuNews\\n\\n\\n\\n\\nDireto das Ruas\\n\\n\\n\\n\\n\\n\\nComo Funciona\\n\\n\\nEnvie sua Matéria\\n\\n\\nNotícias Direto das Ruas\\n\\n\\n\\n\\nConteúdo Patrocinado\\n\\n\\n\\n\\n\\n\\nCapa Conteúdo Patrocinado\\n\\n\\nDr Diogo Coelho\\n\\n\\nFestas e Eventos TV\\n\\n\\nLotérica Campo Grande\\n\\n\\nNews Saúde\\n\\n\\n\\n\\nColunistas\\n\\n\\n\\n\\n\\n\\nAmpla Visão\\n\\n\\nBeba das Crônicas\\n\\n\\nBoa Imagem\\n\\n\\nCompartilhando Justiça\\n\\n\\nEm Pauta\\n\\n\\nEnsinar Juntos\\n\\n\\nFestas e Eventos TV\\n\\n\\nGrupo Infoshop\\n\\n\\nJogo Aberto\\n\\n\\nLugares por Onde Ando\\n\\n\\nMomento Saúde Bucal\\n\\n\\nRede de apoio\\n\\n\\nSaúde em Equilíbrio\\n\\n\\nSaúde Viva\\n\\n\\nSeu Direito, Seu Dinheiro\\n\\n\\nSua Saúde\\n\\n\\nVeículos\\n\\n\\nLado Rural\\n\\n\\n\\n\\nClassificados\\n\\n\\n\\n\\n\\n\\nCapa Classificados\\n\\n\\nAnuncie Grátis\\n\\n\\nRegras\\n\\n\\nDicas\\n\\n\\nContato\\n\\n\\nAchados e Perdidos\\nAgronegócio\\nAutomóveis\\nBebês e Crianças\\nEmprego\\nImóveis\\nInformática\\nModa e Beleza\\nNegócios e Oportunidades\\nPet\\nServiços\\n\\n\\n\\n\\nPodcasts\\n\\n\\n\\n\\n\\n\\nB Cast\\n\\n\\nEpiMania\\n\\n\\nNa Íntegra\\n\\n\\nNão sei Nada da Vida\\n\\n\\nExpediente\\n\\n\\nAnunciar\\n\\n\\nPolítica de Privacidade\\n\\n\\nFale Conosco\\n\\n\\nReportar Erro\\n\\n\\n\\nR. ANTÔNIO MARIA COELHO, 4681\\n\\nVIVENDA DO BOSQUE \\n\\nCEP 79021-170\\n\\nCAMPO GRANDE - MS\\n\\n\\n(67) 3316-7200\\n\\n\\n (67) 99669-9563\\n\\n\\nRedes Sociais\\n\\n\\n\\n\\n\\n\\n\\n\\n\\n\\n\\n\\n\\n\\n\\n\\n\\n\\nRegras de comentários\\n\\n\\n\\n\\n×\\n\\n\\n\\n\\nSerão excluídos comentários:\\nCom palavras de baixo calão;\\nCom injúrias e difamação direcionadas tanto a personagens da notícia em questão ou à equipe;\\nCom teor político partidário;\\nCom informações falsas ou não procedentes;\\nCom links para outros sites/vídeos;\\nCom imagens ou gifs com teor desrespeitoso;\\n\\n\\nOK'"
      ]
     },
     "execution_count": 23,
     "metadata": {},
     "output_type": "execute_result"
    }
   ],
   "source": [
    "response"
   ]
  },
  {
   "cell_type": "markdown",
   "metadata": {},
   "source": [
    "# usando biblioteca  "
   ]
  },
  {
   "cell_type": "code",
   "execution_count": 13,
   "metadata": {},
   "outputs": [],
   "source": [
    "import bs4\n",
    "from langchain_community.document_loaders import WebBaseLoader\n",
    "\n",
    "page_url = \"https://bit.ly/3lUcz1t\"\n",
    "\n",
    "loader = WebBaseLoader(web_paths=[page_url])\n",
    "docs = []\n",
    "async for doc in loader.alazy_load():\n",
    "    docs.append(doc)\n",
    "\n",
    "assert len(docs) == 1\n",
    "doc = docs[0]"
   ]
  },
  {
   "cell_type": "code",
   "execution_count": 23,
   "metadata": {},
   "outputs": [
    {
     "name": "stdout",
     "output_type": "stream",
     "text": [
      "{'source': 'https://bit.ly/3lUcz1t', 'title': 'Queimada atinge casa de festas e empresário estima R$ 80 mil de prejuízo - Capital - Campo Grande News', 'description': 'Rotineiro durante época de seca, incêndio em vegetação se espalhou e destruiu uma casa de festas nas Moreninhas durante a tarde desta terça-feira (10). Ap...', 'language': 'pt-br'}\n",
      "\n",
      "Queimada atinge casa de festas e empresário estima R$ 80 mil de prejuízo - Capital - Campo Grande News  \n",
      "   \n",
      "\n",
      "\n",
      "menu\n",
      "Menu\n",
      "\n",
      "\n",
      "\n",
      "\n",
      "\n",
      "\n",
      "\n",
      "\n",
      "ACOMPANHE-NOS\n",
      "   \n",
      "\n",
      "\n",
      "\n",
      " (67) 99669-9563\n",
      " DEZEMBRO, QUARTA  11\n",
      "   CAMPO GRANDE 33º\n",
      "\n",
      "searchBusca\n",
      "\n",
      "\n",
      "\n",
      "As mais Mais lidas\n",
      "\n",
      "Espetaria usava corante em carne, armazenada entre moscas e baratasGrupo decide \"fazer justiça\" e espanca suspeito de furto no GuanandiPara surpresa de Ayache, filiados à Cassems votaram por manter eleição ilimitadaPM confunde celular com arma e atira e\n"
     ]
    }
   ],
   "source": [
    "print(f\"{doc.metadata}\\n\")\n",
    "print(doc.page_content[:500].strip())\n",
    "# print(doc.page_content[:500].strip())"
   ]
  },
  {
   "cell_type": "code",
   "execution_count": 9,
   "metadata": {},
   "outputs": [],
   "source": [
    "loader = WebBaseLoader(\n",
    "    web_paths=[page_url],\n",
    "    bs_kwargs={\n",
    "        \"parse_only\": bs4.SoupStrainer(class_=\"theme-doc-markdown markdown\"),\n",
    "    },\n",
    "    bs_get_text_kwargs={\"separator\": \" | \", \"strip\": True},\n",
    ")\n",
    "\n",
    "docs = []\n",
    "async for doc in loader.alazy_load():\n",
    "    docs.append(doc)\n",
    "\n",
    "assert len(docs) == 1\n",
    "doc = docs[0]"
   ]
  },
  {
   "cell_type": "code",
   "execution_count": 10,
   "metadata": {},
   "outputs": [
    {
     "name": "stdout",
     "output_type": "stream",
     "text": [
      "{'source': 'https://bit.ly/3lUcz1t'}\n",
      "\n",
      "\n"
     ]
    }
   ],
   "source": [
    "print(f\"{doc.metadata}\\n\")\n",
    "print(doc.page_content[:500])"
   ]
  },
  {
   "cell_type": "code",
   "execution_count": 4,
   "metadata": {},
   "outputs": [],
   "source": [
    "from langchain_unstructured import UnstructuredLoader\n",
    "\n",
    "page_url = \"https://siscad.ufms.br/\"\n",
    "\n",
    "loader = UnstructuredLoader(web_url=page_url)\n",
    "\n",
    "docs = []\n",
    "async for doc in loader.alazy_load():\n",
    "    docs.append(doc)"
   ]
  },
  {
   "cell_type": "code",
   "execution_count": 5,
   "metadata": {},
   "outputs": [
    {
     "name": "stdout",
     "output_type": "stream",
     "text": [
      "Bem-vindo ao Portal de Graduação!\n",
      "Para acessar o sistema acadêmico, clique no botão abaixo:\n",
      "Acessar o Siscad\n",
      "Para outros você pode conferir abaixo:\n",
      "Bem-vindo ao Portal de Graduação!\n"
     ]
    }
   ],
   "source": [
    "for doc in docs[:5]:\n",
    "    print(doc.page_content)"
   ]
  },
  {
   "cell_type": "code",
   "execution_count": 6,
   "metadata": {},
   "outputs": [
    {
     "name": "stdout",
     "output_type": "stream",
     "text": [
      "Title: Bem-vindo ao Portal de Graduação!\n",
      "Title: Para acessar o sistema acadêmico, clique no botão abaixo:\n",
      "Title: Acessar o Siscad\n",
      "NarrativeText: Para outros você pode conferir abaixo:\n",
      "Title: Bem-vindo ao Portal de Graduação!\n"
     ]
    }
   ],
   "source": [
    "for doc in docs[:5]:\n",
    "    print(f'{doc.metadata[\"category\"]}: {doc.page_content}')"
   ]
  },
  {
   "cell_type": "markdown",
   "metadata": {},
   "source": []
  },
  {
   "cell_type": "markdown",
   "metadata": {},
   "source": [
    " # Refazendo scraping"
   ]
  },
  {
   "cell_type": "code",
   "execution_count": null,
   "metadata": {},
   "outputs": [],
   "source": []
  }
 ],
 "metadata": {
  "kernelspec": {
   "display_name": "Python 3",
   "language": "python",
   "name": "python3"
  },
  "language_info": {
   "codemirror_mode": {
    "name": "ipython",
    "version": 3
   },
   "file_extension": ".py",
   "mimetype": "text/x-python",
   "name": "python",
   "nbconvert_exporter": "python",
   "pygments_lexer": "ipython3",
   "version": "3.10.12"
  }
 },
 "nbformat": 4,
 "nbformat_minor": 2
}
