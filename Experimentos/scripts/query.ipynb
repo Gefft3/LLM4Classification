{
 "cells": [
  {
   "cell_type": "code",
   "execution_count": 1,
   "metadata": {},
   "outputs": [],
   "source": [
    "import pandas as pd \n",
    "from langchain_ollama import ChatOllama\n",
    "from langchain.prompts import PromptTemplate\n",
    "from langchain_core.runnables import chain\n",
    "from bs4 import BeautifulSoup\n",
    "import requests\n",
    "from pydantic import BaseModel, Field"
   ]
  },
  {
   "cell_type": "code",
   "execution_count": 2,
   "metadata": {},
   "outputs": [
    {
     "data": {
      "text/html": [
       "<div>\n",
       "<style scoped>\n",
       "    .dataframe tbody tr th:only-of-type {\n",
       "        vertical-align: middle;\n",
       "    }\n",
       "\n",
       "    .dataframe tbody tr th {\n",
       "        vertical-align: top;\n",
       "    }\n",
       "\n",
       "    .dataframe thead th {\n",
       "        text-align: right;\n",
       "    }\n",
       "</style>\n",
       "<table border=\"1\" class=\"dataframe\">\n",
       "  <thead>\n",
       "    <tr style=\"text-align: right;\">\n",
       "      <th></th>\n",
       "      <th>link</th>\n",
       "    </tr>\n",
       "  </thead>\n",
       "  <tbody>\n",
       "    <tr>\n",
       "      <th>0</th>\n",
       "      <td>https://marcosdantas.com/idosa-morre-ao-ser-at...</td>\n",
       "    </tr>\n",
       "    <tr>\n",
       "      <th>1</th>\n",
       "      <td>https://reporterpb.com.br/noticia/paraiba/2024...</td>\n",
       "    </tr>\n",
       "    <tr>\n",
       "      <th>2</th>\n",
       "      <td>https://thmais.com.br/giro-de-noticias/com-exa...</td>\n",
       "    </tr>\n",
       "    <tr>\n",
       "      <th>3</th>\n",
       "      <td>https://oglobo.globo.com/saude/epoca/noticia/2...</td>\n",
       "    </tr>\n",
       "    <tr>\n",
       "      <th>4</th>\n",
       "      <td>https://www.cnnbrasil.com.br/economia/negocios...</td>\n",
       "    </tr>\n",
       "  </tbody>\n",
       "</table>\n",
       "</div>"
      ],
      "text/plain": [
       "                                                link\n",
       "0  https://marcosdantas.com/idosa-morre-ao-ser-at...\n",
       "1  https://reporterpb.com.br/noticia/paraiba/2024...\n",
       "2  https://thmais.com.br/giro-de-noticias/com-exa...\n",
       "3  https://oglobo.globo.com/saude/epoca/noticia/2...\n",
       "4  https://www.cnnbrasil.com.br/economia/negocios..."
      ]
     },
     "execution_count": 2,
     "metadata": {},
     "output_type": "execute_result"
    }
   ],
   "source": [
    "url_dataset = '../../datasets/irrelevantes/dataset_links.csv'\n",
    "\n",
    "dataset = pd.read_csv(url_dataset)\n",
    "\n",
    "dataset.head()"
   ]
  },
  {
   "cell_type": "code",
   "execution_count": 3,
   "metadata": {},
   "outputs": [
    {
     "data": {
      "text/plain": [
       "'https://marcosdantas.com/idosa-morre-ao-ser-atacada-por-pitbull-que-cuidava-em-sp/'"
      ]
     },
     "execution_count": 3,
     "metadata": {},
     "output_type": "execute_result"
    }
   ],
   "source": [
    "dataset['link'][0]"
   ]
  },
  {
   "cell_type": "code",
   "execution_count": 4,
   "metadata": {},
   "outputs": [],
   "source": [
    "def fetch_page_content(url):\n",
    "    try:\n",
    "        response = requests.get(url)\n",
    "        soup = BeautifulSoup(response.content, \"html.parser\")\n",
    "        text = soup.get_text(separator=\"\\n\").strip()\n",
    "        return text if text else \"Conteúdo vazio ou indisponível.\"\n",
    "    except Exception as e:\n",
    "        return f\"Erro ao acessar o link: {e}\""
   ]
  },
  {
   "cell_type": "code",
   "execution_count": 5,
   "metadata": {},
   "outputs": [],
   "source": [
    "class Response(BaseModel):\n",
    "    summary: str = Field(description=\"Resumo da notícia fornecida.\", required=True)"
   ]
  },
  {
   "cell_type": "code",
   "execution_count": 13,
   "metadata": {},
   "outputs": [],
   "source": [
    "summary_prompt = PromptTemplate(\n",
    "    input_variables=[\"content\"],\n",
    "    template=\"\"\"\n",
    "Você é um assistente especializado em gerar resumos detalhados.\n",
    "\n",
    "Seu objetivo é fornecer um resumo claro e completo, destacando os principais pontos, argumentos e informações relevantes do conteúdo. O resumo deve ser informativo e bem estruturado, com foco nas ideias principais. \n",
    "\n",
    "Lembre-se de que o resumo deve ser coeso e coerente, respeitando um limite máximo de 350 palavras, para permitir um pouco mais de profundidade e detalhes.\n",
    "\n",
    "Texto:\n",
    "{content}\n",
    "\"\"\"\n",
    ")\n",
    "\n",
    "llm = ChatOllama(model=\"llama3.1\", format=\"json\", temperature=0.1)\n",
    "\n",
    "structured_llm = llm.with_structured_output(Response)\n",
    "\n",
    "summary_chain = summary_prompt | structured_llm\n"
   ]
  },
  {
   "cell_type": "code",
   "execution_count": 7,
   "metadata": {},
   "outputs": [],
   "source": [
    "def summarize_web_content(url):\n",
    "    page_content = fetch_page_content(url)\n",
    "    \n",
    "    if \"Erro\" in page_content or \"Conteúdo vazio\" in page_content:\n",
    "        return page_content  \n",
    "    \n",
    "    summary = summary_chain.invoke(page_content)\n",
    "    return summary\n"
   ]
  },
  {
   "cell_type": "code",
   "execution_count": 14,
   "metadata": {},
   "outputs": [],
   "source": [
    "url = dataset['link'][0]\n",
    "response = summarize_web_content(url)"
   ]
  },
  {
   "cell_type": "code",
   "execution_count": 15,
   "metadata": {},
   "outputs": [
    {
     "data": {
      "text/plain": [
       "'Uma idosa de 80 anos morreu em São Paulo após ser atacada por um cachorro da raça Pitbull que ela cuidava. O tutor do animal, de 27 anos, está sendo investigado e disse que o cão estava preso, mas conseguiu escapar e atacou a vítima. A polícia está apurando as circunstâncias do caso e o tutor pode ser responsabilizado criminalmente. O incidente ocorreu no bairro do Grajaú, zona sul da capital paulista.'"
      ]
     },
     "execution_count": 15,
     "metadata": {},
     "output_type": "execute_result"
    }
   ],
   "source": [
    "response.summary"
   ]
  }
 ],
 "metadata": {
  "kernelspec": {
   "display_name": "Python 3",
   "language": "python",
   "name": "python3"
  },
  "language_info": {
   "codemirror_mode": {
    "name": "ipython",
    "version": 3
   },
   "file_extension": ".py",
   "mimetype": "text/x-python",
   "name": "python",
   "nbconvert_exporter": "python",
   "pygments_lexer": "ipython3",
   "version": "3.10.12"
  }
 },
 "nbformat": 4,
 "nbformat_minor": 2
}
