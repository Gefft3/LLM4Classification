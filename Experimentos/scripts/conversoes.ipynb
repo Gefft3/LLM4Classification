{
 "cells": [
  {
   "cell_type": "code",
   "execution_count": 1,
   "metadata": {},
   "outputs": [],
   "source": [
    "import os \n",
    "import pandas as pd \n",
    "\n",
    "arquivo_raiz = '../Logs Relevantes/k = 30/distancias'"
   ]
  },
  {
   "cell_type": "code",
   "execution_count": 14,
   "metadata": {},
   "outputs": [],
   "source": [
    "df_final = pd.DataFrame()\n",
    "\n",
    "indices_arquivos = []\n",
    "\n",
    "for arquivo in os.listdir(arquivo_raiz):\n",
    "    indices_arquivos.append(int(arquivo.split('.')[0]))\n",
    "\n",
    "indices_arquivos.sort()\n",
    "\n",
    "for indice in indices_arquivos:\n",
    "    with open(f'{arquivo_raiz}/{indice}.txt', 'r') as f:\n",
    "        linhas = f.readlines()\n",
    "        linhas = [linha.split() for linha in linhas]\n",
    "        linhas = [[int(linha[0]), float(linha[1])] for linha in linhas]\n",
    "        \n",
    "        \n",
    "        df_temp = pd.DataFrame(linhas, columns=['Index', indice])\n",
    "    \n",
    "        if df_final.empty:\n",
    "            df_final = df_temp\n",
    "        else:\n",
    "            df_final = pd.merge(df_final, df_temp, on='Index', how='outer')\n",
    "        \n",
    "df_final.set_index('Index', inplace=True)\n",
    "df_final = df_final.transpose()\n",
    "\n",
    "df_final.to_csv('../Logs Relevantes/k = 30/distancias.csv')\n",
    "df_final.describe().to_csv('../Logs Relevantes/k = 30/distancias_describe.csv')"
   ]
  },
  {
   "cell_type": "code",
   "execution_count": 17,
   "metadata": {},
   "outputs": [],
   "source": [
    "for k in list(range(1, 11)) + [15] + [30]:\n",
    "\tdf_k = df_final.drop(columns=[col for col in df_final.columns if col+1 > k])\n",
    "\tdf_k.columns = [col + 1 for col in df_k.columns]\n",
    "\tdf_k.to_csv(f'../Logs Relevantes/k = {k}/distancias.csv')\n",
    "\tdf_k.describe().to_csv(f'../Logs Relevantes/k = {k}/distancias_describe.csv')\n"
   ]
  }
 ],
 "metadata": {
  "kernelspec": {
   "display_name": "Python 3",
   "language": "python",
   "name": "python3"
  },
  "language_info": {
   "codemirror_mode": {
    "name": "ipython",
    "version": 3
   },
   "file_extension": ".py",
   "mimetype": "text/x-python",
   "name": "python",
   "nbconvert_exporter": "python",
   "pygments_lexer": "ipython3",
   "version": "3.10.12"
  }
 },
 "nbformat": 4,
 "nbformat_minor": 2
}
