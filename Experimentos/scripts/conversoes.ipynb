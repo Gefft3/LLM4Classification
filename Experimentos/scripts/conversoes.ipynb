{
 "cells": [
  {
   "cell_type": "code",
   "execution_count": 2,
   "metadata": {},
   "outputs": [],
   "source": [
    "import os \n",
    "import pandas as pd \n",
    "import re"
   ]
  },
  {
   "cell_type": "markdown",
   "metadata": {},
   "source": [
    "# Convertendo as distancias"
   ]
  },
  {
   "cell_type": "code",
   "execution_count": 14,
   "metadata": {},
   "outputs": [],
   "source": [
    "arquivo_raiz = '../Logs Relevantes/k = 30/distancias'\n",
    "\n",
    "df_final = pd.DataFrame()\n",
    "\n",
    "indices_arquivos = []\n",
    "\n",
    "for arquivo in os.listdir(arquivo_raiz):\n",
    "    indices_arquivos.append(int(arquivo.split('.')[0]))\n",
    "\n",
    "indices_arquivos.sort()\n",
    "\n",
    "for indice in indices_arquivos:\n",
    "    with open(f'{arquivo_raiz}/{indice}.txt', 'r') as f:\n",
    "        linhas = f.readlines()\n",
    "        linhas = [linha.split() for linha in linhas]\n",
    "        linhas = [[int(linha[0]), float(linha[1])] for linha in linhas]\n",
    "        \n",
    "        \n",
    "        df_temp = pd.DataFrame(linhas, columns=['Index', indice])\n",
    "    \n",
    "        if df_final.empty:\n",
    "            df_final = df_temp\n",
    "        else:\n",
    "            df_final = pd.merge(df_final, df_temp, on='Index', how='outer')\n",
    "        \n",
    "df_final.set_index('Index', inplace=True)\n",
    "df_final = df_final.transpose()\n",
    "\n",
    "df_final.to_csv('../Logs Relevantes/k = 30/distancias.csv')\n",
    "df_final.describe().to_csv('../Logs Relevantes/k = 30/distancias_describe.csv')"
   ]
  },
  {
   "cell_type": "code",
   "execution_count": 17,
   "metadata": {},
   "outputs": [],
   "source": [
    "for k in list(range(1, 11)) + [15] + [30]:\n",
    "\tdf_k = df_final.drop(columns=[col for col in df_final.columns if col+1 > k])\n",
    "\tdf_k.columns = [col + 1 for col in df_k.columns]\n",
    "\tdf_k.to_csv(f'../Logs Relevantes/k = {k}/distancias.csv')\n",
    "\tdf_k.describe().to_csv(f'../Logs Relevantes/k = {k}/distancias_describe.csv')\n"
   ]
  },
  {
   "cell_type": "markdown",
   "metadata": {},
   "source": [
    "# Convertando dataset irrelevantes"
   ]
  },
  {
   "cell_type": "code",
   "execution_count": 7,
   "metadata": {},
   "outputs": [
    {
     "name": "stdout",
     "output_type": "stream",
     "text": [
      "                                                link\n",
      "0  https://marcosdantas.com/idosa-morre-ao-ser-at...\n",
      "1  https://reporterpb.com.br/noticia/paraiba/2024...\n",
      "2  https://thmais.com.br/giro-de-noticias/com-exa...\n",
      "3  https://oglobo.globo.com/saude/epoca/noticia/2...\n",
      "4  https://www.cnnbrasil.com.br/economia/negocios...\n",
      "Dataset de links gerado com sucesso!\n"
     ]
    }
   ],
   "source": [
    "arquivo_raiz = '../../datasets/irrelevantes/feed_eios_irrelevantes_Outubro_2024.txt'\n",
    "\n",
    "colunas = ['link']\n",
    "\n",
    "dataset_final = pd.DataFrame(columns=colunas)\n",
    "\n",
    "with open(arquivo_raiz, 'r') as file:\n",
    "    data = file.read()\n",
    "    \n",
    "blocos = re.split(r'#link', data)[1:]  \n",
    "\n",
    "links = []\n",
    "\n",
    "for bloco in blocos:\n",
    "    link = re.search(r'(https?://[^\\s]+)', bloco)\n",
    "    \n",
    "    if link:\n",
    "        links.append(link.group(1))\n",
    "\n",
    "df = pd.DataFrame(links, columns=colunas)\n",
    "\n",
    "print(df.head())\n",
    "\n",
    "df.to_csv('dataset_links.csv', index=False, encoding='utf-8')\n",
    "\n",
    "print(\"Dataset de links gerado com sucesso!\")\n"
   ]
  },
  {
   "cell_type": "code",
   "execution_count": 9,
   "metadata": {},
   "outputs": [
    {
     "data": {
      "text/html": [
       "<div>\n",
       "<style scoped>\n",
       "    .dataframe tbody tr th:only-of-type {\n",
       "        vertical-align: middle;\n",
       "    }\n",
       "\n",
       "    .dataframe tbody tr th {\n",
       "        vertical-align: top;\n",
       "    }\n",
       "\n",
       "    .dataframe thead th {\n",
       "        text-align: right;\n",
       "    }\n",
       "</style>\n",
       "<table border=\"1\" class=\"dataframe\">\n",
       "  <thead>\n",
       "    <tr style=\"text-align: right;\">\n",
       "      <th></th>\n",
       "      <th>link</th>\n",
       "    </tr>\n",
       "  </thead>\n",
       "  <tbody>\n",
       "    <tr>\n",
       "      <th>0</th>\n",
       "      <td>https://marcosdantas.com/idosa-morre-ao-ser-at...</td>\n",
       "    </tr>\n",
       "    <tr>\n",
       "      <th>1</th>\n",
       "      <td>https://reporterpb.com.br/noticia/paraiba/2024...</td>\n",
       "    </tr>\n",
       "    <tr>\n",
       "      <th>2</th>\n",
       "      <td>https://thmais.com.br/giro-de-noticias/com-exa...</td>\n",
       "    </tr>\n",
       "    <tr>\n",
       "      <th>3</th>\n",
       "      <td>https://oglobo.globo.com/saude/epoca/noticia/2...</td>\n",
       "    </tr>\n",
       "    <tr>\n",
       "      <th>4</th>\n",
       "      <td>https://www.cnnbrasil.com.br/economia/negocios...</td>\n",
       "    </tr>\n",
       "    <tr>\n",
       "      <th>5</th>\n",
       "      <td>https://sidneysilva.com.br/2024/10/01/leis-apr...</td>\n",
       "    </tr>\n",
       "    <tr>\n",
       "      <th>6</th>\n",
       "      <td>https://www.hojeemdia.com.br/esportes/atletico...</td>\n",
       "    </tr>\n",
       "    <tr>\n",
       "      <th>7</th>\n",
       "      <td>https://www.agoramt.com.br/2024/10/piracema-co...</td>\n",
       "    </tr>\n",
       "    <tr>\n",
       "      <th>8</th>\n",
       "      <td>https://revistaoeste.com/mundo/hezbollah-guerr...</td>\n",
       "    </tr>\n",
       "    <tr>\n",
       "      <th>9</th>\n",
       "      <td>https://www.cnnbrasil.com.br/internacional/ana...</td>\n",
       "    </tr>\n",
       "  </tbody>\n",
       "</table>\n",
       "</div>"
      ],
      "text/plain": [
       "                                                link\n",
       "0  https://marcosdantas.com/idosa-morre-ao-ser-at...\n",
       "1  https://reporterpb.com.br/noticia/paraiba/2024...\n",
       "2  https://thmais.com.br/giro-de-noticias/com-exa...\n",
       "3  https://oglobo.globo.com/saude/epoca/noticia/2...\n",
       "4  https://www.cnnbrasil.com.br/economia/negocios...\n",
       "5  https://sidneysilva.com.br/2024/10/01/leis-apr...\n",
       "6  https://www.hojeemdia.com.br/esportes/atletico...\n",
       "7  https://www.agoramt.com.br/2024/10/piracema-co...\n",
       "8  https://revistaoeste.com/mundo/hezbollah-guerr...\n",
       "9  https://www.cnnbrasil.com.br/internacional/ana..."
      ]
     },
     "execution_count": 9,
     "metadata": {},
     "output_type": "execute_result"
    }
   ],
   "source": [
    "df.head(10)"
   ]
  }
 ],
 "metadata": {
  "kernelspec": {
   "display_name": "Python 3",
   "language": "python",
   "name": "python3"
  },
  "language_info": {
   "codemirror_mode": {
    "name": "ipython",
    "version": 3
   },
   "file_extension": ".py",
   "mimetype": "text/x-python",
   "name": "python",
   "nbconvert_exporter": "python",
   "pygments_lexer": "ipython3",
   "version": "3.10.12"
  }
 },
 "nbformat": 4,
 "nbformat_minor": 2
}
