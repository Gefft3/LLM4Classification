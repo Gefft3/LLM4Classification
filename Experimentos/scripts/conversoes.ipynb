{
 "cells": [
  {
   "cell_type": "code",
   "execution_count": 6,
   "metadata": {},
   "outputs": [],
   "source": [
    "import os \n",
    "import pandas as pd \n",
    "import re"
   ]
  },
  {
   "cell_type": "markdown",
   "metadata": {},
   "source": [
    "# Convertendo as distancias"
   ]
  },
  {
   "cell_type": "code",
   "execution_count": 14,
   "metadata": {},
   "outputs": [],
   "source": [
    "arquivo_raiz = '../Logs Relevantes/k = 30/distancias'\n",
    "\n",
    "df_final = pd.DataFrame()\n",
    "\n",
    "indices_arquivos = []\n",
    "\n",
    "for arquivo in os.listdir(arquivo_raiz):\n",
    "    indices_arquivos.append(int(arquivo.split('.')[0]))\n",
    "\n",
    "indices_arquivos.sort()\n",
    "\n",
    "for indice in indices_arquivos:\n",
    "    with open(f'{arquivo_raiz}/{indice}.txt', 'r') as f:\n",
    "        linhas = f.readlines()\n",
    "        linhas = [linha.split() for linha in linhas]\n",
    "        linhas = [[int(linha[0]), float(linha[1])] for linha in linhas]\n",
    "        \n",
    "        \n",
    "        df_temp = pd.DataFrame(linhas, columns=['Index', indice])\n",
    "    \n",
    "        if df_final.empty:\n",
    "            df_final = df_temp\n",
    "        else:\n",
    "            df_final = pd.merge(df_final, df_temp, on='Index', how='outer')\n",
    "        \n",
    "df_final.set_index('Index', inplace=True)\n",
    "df_final = df_final.transpose()\n",
    "\n",
    "df_final.to_csv('../Logs Relevantes/k = 30/distancias.csv')\n",
    "df_final.describe().to_csv('../Logs Relevantes/k = 30/distancias_describe.csv')"
   ]
  },
  {
   "cell_type": "code",
   "execution_count": 17,
   "metadata": {},
   "outputs": [],
   "source": [
    "for k in list(range(1, 11)) + [15] + [30]:\n",
    "\tdf_k = df_final.drop(columns=[col for col in df_final.columns if col+1 > k])\n",
    "\tdf_k.columns = [col + 1 for col in df_k.columns]\n",
    "\tdf_k.to_csv(f'../Logs Relevantes/k = {k}/distancias.csv')\n",
    "\tdf_k.describe().to_csv(f'../Logs Relevantes/k = {k}/distancias_describe.csv')\n"
   ]
  },
  {
   "cell_type": "markdown",
   "metadata": {},
   "source": [
    "# Convertando dataset irrelevantes"
   ]
  },
  {
   "cell_type": "code",
   "execution_count": 10,
   "metadata": {},
   "outputs": [
    {
     "name": "stdout",
     "output_type": "stream",
     "text": [
      "                                                text\n",
      "0  Uma idosa de 80 anos morreu na manhã desta ter...\n",
      "1  O Tribunal de Contas do Estado da Paraíba (TCE...\n",
      "2  CIDADE DO MÉXICO, MÉXICO (FOLHAPRESS) – Primei...\n",
      "3  GERADO EM: 01/10/2024 - 08:45 Evaristo Costa p...\n",
      "4  A diretora-executiva do Movimento Bem Maior, C...\n",
      "Dataset de resumos gerado com sucesso!\n"
     ]
    }
   ],
   "source": [
    "arquivo_raiz = '../../datasets/irrelevantes/feed_eios_irrelevantes_Outubro_2024.txt'\n",
    "\n",
    "colunas = ['text']\n",
    "\n",
    "dataset_final = pd.DataFrame(columns=colunas)\n",
    "\n",
    "with open(arquivo_raiz, 'r') as file:\n",
    "    data = file.read()\n",
    "    \n",
    "blocos = re.split(r'#link', data)[1:]  \n",
    "\n",
    "resumos = []\n",
    "\n",
    "for bloco in blocos:\n",
    "    \n",
    "    summary = re.search(r'#summary\\n([^\\n]+)', bloco)\n",
    "    \n",
    "    if summary:\n",
    "        resumos.append(summary.group(1))\n",
    "\n",
    "df = pd.DataFrame(resumos, columns=['text'])\n",
    "\n",
    "print(df.head())\n",
    "\n",
    "df.to_csv('dataset_resumos.csv', index=False, encoding='utf-8')\n",
    "\n",
    "print(\"Dataset de resumos gerado com sucesso!\")\n",
    "\n"
   ]
  }
 ],
 "metadata": {
  "kernelspec": {
   "display_name": "Python 3",
   "language": "python",
   "name": "python3"
  },
  "language_info": {
   "codemirror_mode": {
    "name": "ipython",
    "version": 3
   },
   "file_extension": ".py",
   "mimetype": "text/x-python",
   "name": "python",
   "nbconvert_exporter": "python",
   "pygments_lexer": "ipython3",
   "version": "3.10.12"
  }
 },
 "nbformat": 4,
 "nbformat_minor": 2
}
