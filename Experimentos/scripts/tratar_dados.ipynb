{
 "cells": [
  {
   "cell_type": "code",
   "execution_count": 2,
   "metadata": {},
   "outputs": [],
   "source": [
    "import pandas as pd "
   ]
  },
  {
   "cell_type": "code",
   "execution_count": 12,
   "metadata": {},
   "outputs": [],
   "source": [
    "path = '../../datasets/irrelevantes/dataset_resumos.csv'\n",
    "\n",
    "df = pd.read_csv(path)\n",
    "\n",
    "df_random = df.sample(frac=0.2)\n",
    "df_restante = df.drop(df_random.index)\n",
    "\n",
    "df_random.to_csv('../../datasets/irrelevantes/EIOS_test_irrelevantes.csv', index=False)\n",
    "df_restante.to_csv('../../datasets/irrelevantes/EIOS_train_irrelevante.csv', index=False)\n",
    "\n"
   ]
  },
  {
   "cell_type": "code",
   "execution_count": 19,
   "metadata": {},
   "outputs": [],
   "source": [
    "df = pd.read_csv('../../datasets/irrelevantes/EIOS_test_irrelevantes.csv')\n",
    "\n",
    "arquivo = open('../Logs Irrelevantes/k = 10/classificacoes.txt', 'r')\n",
    "\n",
    "arquivo = arquivo.readlines()\n",
    "\n",
    "indices = []\n",
    "\n",
    "for linha in arquivo:\n",
    "    linha = linha.split()\n",
    "    indices.append(int(linha[0]))\n",
    "\n",
    "df = df.iloc[indices]"
   ]
  },
  {
   "cell_type": "code",
   "execution_count": 21,
   "metadata": {},
   "outputs": [],
   "source": [
    "df.to_csv('../../datasets/irrelevantes/EIOS_test_irrelevantes_filtrado.csv', index=False)"
   ]
  },
  {
   "cell_type": "markdown",
   "metadata": {},
   "source": [
    "# Limpar dados do dataset de resumos"
   ]
  },
  {
   "cell_type": "code",
   "execution_count": 3,
   "metadata": {},
   "outputs": [
    {
     "data": {
      "text/html": [
       "<div>\n",
       "<style scoped>\n",
       "    .dataframe tbody tr th:only-of-type {\n",
       "        vertical-align: middle;\n",
       "    }\n",
       "\n",
       "    .dataframe tbody tr th {\n",
       "        vertical-align: top;\n",
       "    }\n",
       "\n",
       "    .dataframe thead th {\n",
       "        text-align: right;\n",
       "    }\n",
       "</style>\n",
       "<table border=\"1\" class=\"dataframe\">\n",
       "  <thead>\n",
       "    <tr style=\"text-align: right;\">\n",
       "      <th></th>\n",
       "      <th>link</th>\n",
       "      <th>summary</th>\n",
       "    </tr>\n",
       "  </thead>\n",
       "  <tbody>\n",
       "    <tr>\n",
       "      <th>0</th>\n",
       "      <td>https://marcosdantas.com/idosa-morre-ao-ser-at...</td>\n",
       "      <td>Uma idosa de 80 anos morreu após ser atacada p...</td>\n",
       "    </tr>\n",
       "    <tr>\n",
       "      <th>1</th>\n",
       "      <td>https://reporterpb.com.br/noticia/paraiba/2024...</td>\n",
       "      <td>Não há informações disponíveis sobre o conteúd...</td>\n",
       "    </tr>\n",
       "    <tr>\n",
       "      <th>2</th>\n",
       "      <td>https://thmais.com.br/giro-de-noticias/com-exa...</td>\n",
       "      <td>Claudia Sheinbaum, a primeira mulher a liderar...</td>\n",
       "    </tr>\n",
       "    <tr>\n",
       "      <th>3</th>\n",
       "      <td>https://oglobo.globo.com/saude/epoca/noticia/2...</td>\n",
       "      <td>Evaristo Costa, apresentador de 48 anos, revel...</td>\n",
       "    </tr>\n",
       "    <tr>\n",
       "      <th>4</th>\n",
       "      <td>https://www.cnnbrasil.com.br/economia/negocios...</td>\n",
       "      <td>Carola Matarazzo, diretora-executiva do Movime...</td>\n",
       "    </tr>\n",
       "  </tbody>\n",
       "</table>\n",
       "</div>"
      ],
      "text/plain": [
       "                                                link  \\\n",
       "0  https://marcosdantas.com/idosa-morre-ao-ser-at...   \n",
       "1  https://reporterpb.com.br/noticia/paraiba/2024...   \n",
       "2  https://thmais.com.br/giro-de-noticias/com-exa...   \n",
       "3  https://oglobo.globo.com/saude/epoca/noticia/2...   \n",
       "4  https://www.cnnbrasil.com.br/economia/negocios...   \n",
       "\n",
       "                                             summary  \n",
       "0  Uma idosa de 80 anos morreu após ser atacada p...  \n",
       "1  Não há informações disponíveis sobre o conteúd...  \n",
       "2  Claudia Sheinbaum, a primeira mulher a liderar...  \n",
       "3  Evaristo Costa, apresentador de 48 anos, revel...  \n",
       "4  Carola Matarazzo, diretora-executiva do Movime...  "
      ]
     },
     "execution_count": 3,
     "metadata": {},
     "output_type": "execute_result"
    }
   ],
   "source": [
    "url_dataset_resumos = '../../datasets/irrelevantes/dataset_links_summary.csv'\n",
    "\n",
    "df = pd.read_csv(url_dataset_resumos)\n",
    "\n",
    "df.head()"
   ]
  },
  {
   "cell_type": "code",
   "execution_count": 20,
   "metadata": {},
   "outputs": [
    {
     "data": {
      "text/plain": [
       "4848"
      ]
     },
     "execution_count": 20,
     "metadata": {},
     "output_type": "execute_result"
    }
   ],
   "source": [
    "def is_valid_summary(text):\n",
    "\t\n",
    "\tif len(text) > 3000 or 'HTTP' in text or 'Não há informações' in text or 'Não há conteúdo' in text or 'Erro' in text or 'erro' in text or 'Error' in text or 'Erro de acesso' in text or 'Cloudflare' in text:\n",
    "\t\treturn False\n",
    "\treturn True\n",
    "\n",
    "df_filtered = df[df['summary'].apply(is_valid_summary)]\n",
    "\n",
    "df_filtered.to_csv('../../datasets/irrelevantes/dataset_links_summary_filtered.csv', index=False)\n",
    "\n",
    "# df_filtered.head()\n",
    "\n",
    "len(df_filtered)"
   ]
  }
 ],
 "metadata": {
  "kernelspec": {
   "display_name": "Python 3",
   "language": "python",
   "name": "python3"
  },
  "language_info": {
   "codemirror_mode": {
    "name": "ipython",
    "version": 3
   },
   "file_extension": ".py",
   "mimetype": "text/x-python",
   "name": "python",
   "nbconvert_exporter": "python",
   "pygments_lexer": "ipython3",
   "version": "3.10.12"
  }
 },
 "nbformat": 4,
 "nbformat_minor": 2
}
