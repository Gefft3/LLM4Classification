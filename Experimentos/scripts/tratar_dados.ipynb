{
 "cells": [
  {
   "cell_type": "code",
   "execution_count": 1,
   "metadata": {},
   "outputs": [],
   "source": [
    "import pandas as pd "
   ]
  },
  {
   "cell_type": "code",
   "execution_count": 12,
   "metadata": {},
   "outputs": [],
   "source": [
    "path = '../../datasets/irrelevantes/dataset_resumos.csv'\n",
    "\n",
    "df = pd.read_csv(path)\n",
    "\n",
    "df_random = df.sample(frac=0.2)\n",
    "df_restante = df.drop(df_random.index)\n",
    "\n",
    "df_random.to_csv('../../datasets/irrelevantes/EIOS_test_irrelevantes.csv', index=False)\n",
    "df_restante.to_csv('../../datasets/irrelevantes/EIOS_train_irrelevante.csv', index=False)\n",
    "\n"
   ]
  },
  {
   "cell_type": "code",
   "execution_count": 19,
   "metadata": {},
   "outputs": [],
   "source": [
    "df = pd.read_csv('../../datasets/irrelevantes/EIOS_test_irrelevantes.csv')\n",
    "\n",
    "arquivo = open('../Logs Irrelevantes/k = 10/classificacoes.txt', 'r')\n",
    "\n",
    "arquivo = arquivo.readlines()\n",
    "\n",
    "indices = []\n",
    "\n",
    "for linha in arquivo:\n",
    "    linha = linha.split()\n",
    "    indices.append(int(linha[0]))\n",
    "\n",
    "df = df.iloc[indices]"
   ]
  },
  {
   "cell_type": "code",
   "execution_count": 21,
   "metadata": {},
   "outputs": [],
   "source": [
    "df.to_csv('../../datasets/irrelevantes/EIOS_test_irrelevantes_filtrado.csv', index=False)"
   ]
  }
 ],
 "metadata": {
  "kernelspec": {
   "display_name": "Python 3",
   "language": "python",
   "name": "python3"
  },
  "language_info": {
   "codemirror_mode": {
    "name": "ipython",
    "version": 3
   },
   "file_extension": ".py",
   "mimetype": "text/x-python",
   "name": "python",
   "nbconvert_exporter": "python",
   "pygments_lexer": "ipython3",
   "version": "3.10.12"
  }
 },
 "nbformat": 4,
 "nbformat_minor": 2
}
