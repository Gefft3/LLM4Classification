{
 "cells": [
  {
   "cell_type": "code",
   "execution_count": 13,
   "metadata": {},
   "outputs": [],
   "source": [
    "import pandas as pd "
   ]
  },
  {
   "cell_type": "code",
   "execution_count": 12,
   "metadata": {},
   "outputs": [],
   "source": [
    "path = '../../datasets/irrelevantes/dataset_resumos.csv'\n",
    "\n",
    "df = pd.read_csv(path)\n",
    "\n",
    "df_random = df.sample(frac=0.2)\n",
    "df_restante = df.drop(df_random.index)\n",
    "\n",
    "df_random.to_csv('../../datasets/irrelevantes/EIOS_test_irrelevantes.csv', index=False)\n",
    "df_restante.to_csv('../../datasets/irrelevantes/EIOS_train_irrelevante.csv', index=False)\n",
    "\n"
   ]
  },
  {
   "cell_type": "code",
   "execution_count": 19,
   "metadata": {},
   "outputs": [
    {
     "name": "stdout",
     "output_type": "stream",
     "text": [
      "1543\n"
     ]
    }
   ],
   "source": [
    "df_ = pd.read_csv('../../datasets/irrelevantes/EIOS_test_irrelevantes.csv')\n",
    "print(len(df_))"
   ]
  }
 ],
 "metadata": {
  "kernelspec": {
   "display_name": "Python 3",
   "language": "python",
   "name": "python3"
  },
  "language_info": {
   "codemirror_mode": {
    "name": "ipython",
    "version": 3
   },
   "file_extension": ".py",
   "mimetype": "text/x-python",
   "name": "python",
   "nbconvert_exporter": "python",
   "pygments_lexer": "ipython3",
   "version": "3.10.12"
  }
 },
 "nbformat": 4,
 "nbformat_minor": 2
}
