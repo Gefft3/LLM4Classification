{
 "cells": [
  {
   "cell_type": "code",
   "execution_count": 1,
   "metadata": {},
   "outputs": [],
   "source": [
    "import pandas as pd\n",
    "import tiktoken"
   ]
  },
  {
   "cell_type": "markdown",
   "metadata": {},
   "source": [
    "# Extracting statistics and comparing datasets"
   ]
  },
  {
   "cell_type": "code",
   "execution_count": 4,
   "metadata": {},
   "outputs": [],
   "source": [
    "path_retrieved_html_success = '../../data/retrieved_html_success.csv'\n",
    "path_text_success = '../../data/retrieved_text_success.csv'"
   ]
  },
  {
   "cell_type": "code",
   "execution_count": 5,
   "metadata": {},
   "outputs": [],
   "source": [
    "df_retrieved_html_success = pd.read_csv(path_retrieved_html_success)\n",
    "df_text_success = pd.read_csv(path_text_success)"
   ]
  },
  {
   "cell_type": "code",
   "execution_count": 6,
   "metadata": {},
   "outputs": [
    {
     "name": "stdout",
     "output_type": "stream",
     "text": [
      "6590\n",
      "6590\n"
     ]
    }
   ],
   "source": [
    "print(len(df_retrieved_html_success))\n",
    "print(len(df_text_success))"
   ]
  },
  {
   "cell_type": "code",
   "execution_count": null,
   "metadata": {},
   "outputs": [],
   "source": [
    "def get_token_average(df):\n",
    "    sum = 0\n",
    "    encoder = tiktoken.get_encoding(\"cl100k_base\")\n",
    "    for index, row in df.iterrows():\n",
    "        html = row['html_content']\n",
    "        if type(html) != str:\n",
    "            continue\n",
    "        tokens = encoder.encode(html)\n",
    "        num_tokens = len(tokens)\n",
    "        sum += num_tokens\n",
    "\n",
    "    avg = sum / len(df)\n",
    "    return avg"
   ]
  },
  {
   "cell_type": "code",
   "execution_count": null,
   "metadata": {},
   "outputs": [
    {
     "data": {
      "text/plain": [
       "76188.75629742033"
      ]
     },
     "execution_count": 8,
     "metadata": {},
     "output_type": "execute_result"
    }
   ],
   "source": [
    "# Calculating the average number of tokens in the original DataFrame using the 'html_content' column\n",
    "# Using the tiktoken library with the cl100k_base encoding\n",
    "\n",
    "get_token_average(df_retrieved_html_success)"
   ]
  },
  {
   "cell_type": "code",
   "execution_count": null,
   "metadata": {},
   "outputs": [
    {
     "data": {
      "text/plain": [
       "2173.9285280728377"
      ]
     },
     "execution_count": 15,
     "metadata": {},
     "output_type": "execute_result"
    }
   ],
   "source": [
    "# Calculating the average number of tokens in the reduced DataFrame using the 'html_content' column\n",
    "# Using the tiktoken library with the cl100k_base encoding\n",
    "\n",
    "get_token_average(df_text_success)"
   ]
  },
  {
   "cell_type": "markdown",
   "metadata": {},
   "source": [
    "# Manual Extraction"
   ]
  },
  {
   "cell_type": "code",
   "execution_count": 18,
   "metadata": {},
   "outputs": [],
   "source": [
    "def get_token_count(text):\n",
    "    \"\"\"\n",
    "    Returns the number of tokens in a given text.\n",
    "    \"\"\"\n",
    "    encoder = tiktoken.get_encoding(\"cl100k_base\")\n",
    "    tokens = encoder.encode(text)\n",
    "    return len(tokens)"
   ]
  },
  {
   "cell_type": "code",
   "execution_count": 22,
   "metadata": {},
   "outputs": [],
   "source": [
    "path_html = '../data/html_dirty.txt'\n",
    "path_text_bs4 = '../data/text_bs4.txt'\n",
    "path_text_manual = '../data/text_manual.txt'"
   ]
  },
  {
   "cell_type": "code",
   "execution_count": 23,
   "metadata": {},
   "outputs": [],
   "source": [
    "# Read the HTML file\n",
    "with open(path_html, 'r', encoding='utf-8') as file:\n",
    "    html_content = file.read()\n",
    "\n",
    "# Read the bs4 text file\n",
    "with open(path_text_bs4, 'r', encoding='utf-8') as file:\n",
    "    text_bs4 = file.read()\n",
    "\n",
    "# Read the manual text file\n",
    "with open(path_text_manual, 'r', encoding='utf-8') as file:\n",
    "    text_manual = file.read()"
   ]
  },
  {
   "cell_type": "code",
   "execution_count": 24,
   "metadata": {},
   "outputs": [
    {
     "name": "stdout",
     "output_type": "stream",
     "text": [
      "Number of tokens in HTML content: 30897\n",
      "Number of tokens in bs4 text: 1746\n",
      "Number of tokens in manual text: 1987\n"
     ]
    }
   ],
   "source": [
    "# Calculate the number of tokens in the HTML content\n",
    "num_tokens_html = get_token_count(html_content)\n",
    "print(f\"Number of tokens in HTML content: {num_tokens_html}\")\n",
    "\n",
    "# Calculate the number of tokens in the bs4 text\n",
    "num_tokens_bs4 = get_token_count(text_bs4)\n",
    "print(f\"Number of tokens in bs4 text: {num_tokens_bs4}\")\n",
    "\n",
    "# Calculate the number of tokens in the manual text\n",
    "num_tokens_manual = get_token_count(text_manual)\n",
    "print(f\"Number of tokens in manual text: {num_tokens_manual}\")"
   ]
  },
  {
   "cell_type": "code",
   "execution_count": 25,
   "metadata": {},
   "outputs": [
    {
     "name": "stdout",
     "output_type": "stream",
     "text": [
      "Reduction in tokens from HTML to bs4 text: 94.35%\n",
      "Reduction in tokens from HTML to manual text: 93.57%\n"
     ]
    }
   ],
   "source": [
    "# Calculante reduction between the original HTML and the bs4 text\n",
    "reduction_bs4 = (num_tokens_html - num_tokens_bs4) / num_tokens_html * 100\n",
    "print(f\"Reduction in tokens from HTML to bs4 text: {reduction_bs4:.2f}%\")\n",
    "\n",
    "# Calculate the reduction between the original HTML and the manual text\n",
    "reduction_manual = (num_tokens_html - num_tokens_manual) / num_tokens_html * 100\n",
    "print(f\"Reduction in tokens from HTML to manual text: {reduction_manual:.2f}%\")"
   ]
  }
 ],
 "metadata": {
  "kernelspec": {
   "display_name": "venv",
   "language": "python",
   "name": "python3"
  },
  "language_info": {
   "codemirror_mode": {
    "name": "ipython",
    "version": 3
   },
   "file_extension": ".py",
   "mimetype": "text/x-python",
   "name": "python",
   "nbconvert_exporter": "python",
   "pygments_lexer": "ipython3",
   "version": "3.13.3"
  }
 },
 "nbformat": 4,
 "nbformat_minor": 2
}
