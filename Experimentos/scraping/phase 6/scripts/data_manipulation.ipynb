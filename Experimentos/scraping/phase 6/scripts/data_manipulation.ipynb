{
 "cells": [
  {
   "cell_type": "code",
   "execution_count": 3,
   "metadata": {},
   "outputs": [],
   "source": [
    "import pandas as pd \n",
    "from bs4 import BeautifulSoup\n",
    "import re"
   ]
  },
  {
   "cell_type": "code",
   "execution_count": 2,
   "metadata": {},
   "outputs": [],
   "source": [
    "path_retrieved_html_success = '../../data/retrieved_html_success.csv'\n",
    "df_retrieved_html_success = pd.read_csv(path_retrieved_html_success)"
   ]
  },
  {
   "cell_type": "markdown",
   "metadata": {},
   "source": [
    "## Performing dataset cleaning with bs4"
   ]
  },
  {
   "cell_type": "code",
   "execution_count": 3,
   "metadata": {},
   "outputs": [],
   "source": [
    "def extract_pure_html(html):\n",
    "    \"\"\"\n",
    "    Isola apenas o conteúdo dentro da tag <html>...</html>\n",
    "    \"\"\"\n",
    "    match = re.search(r'<html.*?>.*?</html>', html, flags=re.DOTALL | re.IGNORECASE)\n",
    "    return match.group(0) if match else ''"
   ]
  },
  {
   "cell_type": "code",
   "execution_count": 4,
   "metadata": {},
   "outputs": [],
   "source": [
    "def remove_js_css(html):\n",
    "    \"\"\"\n",
    "    Remove os scripts e estilos do HTML.\n",
    "    \"\"\"\n",
    "    soup = BeautifulSoup(html, 'html.parser')\n",
    "    for tag in soup(['script', 'style']):\n",
    "        tag.decompose()\n",
    "    return str(soup)"
   ]
  },
  {
   "cell_type": "code",
   "execution_count": 5,
   "metadata": {},
   "outputs": [],
   "source": [
    "def extract_text(html):\n",
    "    \"\"\"\n",
    "    Remove todas as tags HTML e extrai somente o texto visível.\n",
    "    \"\"\"\n",
    "    html_sem_js_css = remove_js_css(html)\n",
    "    html_limpo = extract_pure_html(html_sem_js_css)\n",
    "    soup = BeautifulSoup(html_limpo, 'html.parser')\n",
    "    return soup.get_text(separator=' ', strip=True)"
   ]
  },
  {
   "cell_type": "code",
   "execution_count": 6,
   "metadata": {},
   "outputs": [],
   "source": [
    "df_retrieved_html_success_clean = df_retrieved_html_success.copy()\n",
    "df_retrieved_html_success_clean['html_content'] = df_retrieved_html_success_clean['html_content'].apply(extract_text)"
   ]
  },
  {
   "cell_type": "code",
   "execution_count": 7,
   "metadata": {},
   "outputs": [],
   "source": [
    "df_retrieved_html_success_clean.to_csv('../../data/retrieved_text_success.csv', index=False)"
   ]
  },
  {
   "cell_type": "markdown",
   "metadata": {},
   "source": [
    "## Extracting the first html to do the cleaning manually"
   ]
  },
  {
   "cell_type": "code",
   "execution_count": 6,
   "metadata": {},
   "outputs": [],
   "source": [
    "first_html = df_retrieved_html_success.iloc[0]['html_content']"
   ]
  },
  {
   "cell_type": "code",
   "execution_count": null,
   "metadata": {},
   "outputs": [],
   "source": [
    "with open('../data/html_dirty.txt', 'w') as f:\n",
    "    f.write(first_html)"
   ]
  },
  {
   "cell_type": "code",
   "execution_count": null,
   "metadata": {},
   "outputs": [],
   "source": [
    "html_clean_bs4 = extract_text(first_html)\n",
    "with open('../data/html_clean_bs4.txt', 'w') as f:\n",
    "    f.write(html_clean_bs4)"
   ]
  },
  {
   "cell_type": "markdown",
   "metadata": {},
   "source": [
    "# Concatenating the text_sucess dataset with the summaries."
   ]
  },
  {
   "cell_type": "code",
   "execution_count": 4,
   "metadata": {},
   "outputs": [],
   "source": [
    "path_text_success = '../../data/text_success.csv'\n",
    "path_raw_data = '../../data/raw_data.csv'"
   ]
  },
  {
   "cell_type": "code",
   "execution_count": 15,
   "metadata": {},
   "outputs": [],
   "source": [
    "df_text_success = pd.read_csv(path_text_success)\n",
    "df_raw_data = pd.read_csv(path_raw_data)"
   ]
  },
  {
   "cell_type": "code",
   "execution_count": 16,
   "metadata": {},
   "outputs": [
    {
     "data": {
      "text/html": [
       "<div>\n",
       "<style scoped>\n",
       "    .dataframe tbody tr th:only-of-type {\n",
       "        vertical-align: middle;\n",
       "    }\n",
       "\n",
       "    .dataframe tbody tr th {\n",
       "        vertical-align: top;\n",
       "    }\n",
       "\n",
       "    .dataframe thead th {\n",
       "        text-align: right;\n",
       "    }\n",
       "</style>\n",
       "<table border=\"1\" class=\"dataframe\">\n",
       "  <thead>\n",
       "    <tr style=\"text-align: right;\">\n",
       "      <th></th>\n",
       "      <th>expanded_url</th>\n",
       "      <th>short_url</th>\n",
       "      <th>html_content</th>\n",
       "    </tr>\n",
       "  </thead>\n",
       "  <tbody>\n",
       "    <tr>\n",
       "      <th>0</th>\n",
       "      <td>https://midiamax.uol.com.br/cotidiano/economia...</td>\n",
       "      <td>https://bit.ly/3sFuhrg</td>\n",
       "      <td>Em alerta para estiagem, associação inicia pre...</td>\n",
       "    </tr>\n",
       "    <tr>\n",
       "      <th>1</th>\n",
       "      <td>https://www.campogrande.ms.gov.br/cgnoticias/n...</td>\n",
       "      <td>https://www.campogrande.ms.gov.br/cgnoticias/n...</td>\n",
       "      <td>Campanha de vacinação antirrábica começa nesta...</td>\n",
       "    </tr>\n",
       "    <tr>\n",
       "      <th>2</th>\n",
       "      <td>https://www.campograndenews.com.br/cidades/cap...</td>\n",
       "      <td>https://bit.ly/3lUcz1t</td>\n",
       "      <td>Queimada atinge casa de festas e empresário es...</td>\n",
       "    </tr>\n",
       "    <tr>\n",
       "      <th>3</th>\n",
       "      <td>https://www.ms.gov.br/com-safra-do-milho-ating...</td>\n",
       "      <td>https://bit.ly/3g4FlsE</td>\n",
       "      <td>Portal Ãnico ms.gov.br You need to enable Jav...</td>\n",
       "    </tr>\n",
       "    <tr>\n",
       "      <th>4</th>\n",
       "      <td>https://midiamax.uol.com.br/cotidiano/2021/fre...</td>\n",
       "      <td>https://bit.ly/3sjQ0UY</td>\n",
       "      <td>Frente parlamentar discute formas de combate c...</td>\n",
       "    </tr>\n",
       "  </tbody>\n",
       "</table>\n",
       "</div>"
      ],
      "text/plain": [
       "                                        expanded_url  \\\n",
       "0  https://midiamax.uol.com.br/cotidiano/economia...   \n",
       "1  https://www.campogrande.ms.gov.br/cgnoticias/n...   \n",
       "2  https://www.campograndenews.com.br/cidades/cap...   \n",
       "3  https://www.ms.gov.br/com-safra-do-milho-ating...   \n",
       "4  https://midiamax.uol.com.br/cotidiano/2021/fre...   \n",
       "\n",
       "                                           short_url  \\\n",
       "0                             https://bit.ly/3sFuhrg   \n",
       "1  https://www.campogrande.ms.gov.br/cgnoticias/n...   \n",
       "2                             https://bit.ly/3lUcz1t   \n",
       "3                             https://bit.ly/3g4FlsE   \n",
       "4                             https://bit.ly/3sjQ0UY   \n",
       "\n",
       "                                        html_content  \n",
       "0  Em alerta para estiagem, associação inicia pre...  \n",
       "1  Campanha de vacinação antirrábica começa nesta...  \n",
       "2  Queimada atinge casa de festas e empresário es...  \n",
       "3  Portal Ãnico ms.gov.br You need to enable Jav...  \n",
       "4  Frente parlamentar discute formas de combate c...  "
      ]
     },
     "execution_count": 16,
     "metadata": {},
     "output_type": "execute_result"
    }
   ],
   "source": [
    "df_text_success.head()"
   ]
  },
  {
   "cell_type": "code",
   "execution_count": 17,
   "metadata": {},
   "outputs": [
    {
     "data": {
      "text/html": [
       "<div>\n",
       "<style scoped>\n",
       "    .dataframe tbody tr th:only-of-type {\n",
       "        vertical-align: middle;\n",
       "    }\n",
       "\n",
       "    .dataframe tbody tr th {\n",
       "        vertical-align: top;\n",
       "    }\n",
       "\n",
       "    .dataframe thead th {\n",
       "        text-align: right;\n",
       "    }\n",
       "</style>\n",
       "<table border=\"1\" class=\"dataframe\">\n",
       "  <thead>\n",
       "    <tr style=\"text-align: right;\">\n",
       "      <th></th>\n",
       "      <th>short_url</th>\n",
       "      <th>title</th>\n",
       "      <th>summary</th>\n",
       "    </tr>\n",
       "  </thead>\n",
       "  <tbody>\n",
       "    <tr>\n",
       "      <th>0</th>\n",
       "      <td>https://bit.ly/3sFuhrg</td>\n",
       "      <td>Em alerta para estiagem, associação inicia pre...</td>\n",
       "      <td>A estiagem prolongada em 2021 fez com diretore...</td>\n",
       "    </tr>\n",
       "    <tr>\n",
       "      <th>1</th>\n",
       "      <td>https://bit.ly/3lUcz1t</td>\n",
       "      <td>Queimada atinge casa de festas e empresário es...</td>\n",
       "      <td>NaN</td>\n",
       "    </tr>\n",
       "    <tr>\n",
       "      <th>2</th>\n",
       "      <td>https://bit.ly/3g4FlsE</td>\n",
       "      <td>Com safra do milho atingida por geada e estiag...</td>\n",
       "      <td>NaN</td>\n",
       "    </tr>\n",
       "    <tr>\n",
       "      <th>3</th>\n",
       "      <td>https://bit.ly/3g7mn4w</td>\n",
       "      <td>Polícia tem suspeito de estuprar jovem que pre...</td>\n",
       "      <td>NaN</td>\n",
       "    </tr>\n",
       "    <tr>\n",
       "      <th>4</th>\n",
       "      <td>https://bit.ly/3sjQ0UY</td>\n",
       "      <td>Frente parlamentar discute formas de combate c...</td>\n",
       "      <td>NaN</td>\n",
       "    </tr>\n",
       "  </tbody>\n",
       "</table>\n",
       "</div>"
      ],
      "text/plain": [
       "                short_url                                              title  \\\n",
       "0  https://bit.ly/3sFuhrg  Em alerta para estiagem, associação inicia pre...   \n",
       "1  https://bit.ly/3lUcz1t  Queimada atinge casa de festas e empresário es...   \n",
       "2  https://bit.ly/3g4FlsE  Com safra do milho atingida por geada e estiag...   \n",
       "3  https://bit.ly/3g7mn4w  Polícia tem suspeito de estuprar jovem que pre...   \n",
       "4  https://bit.ly/3sjQ0UY  Frente parlamentar discute formas de combate c...   \n",
       "\n",
       "                                             summary  \n",
       "0  A estiagem prolongada em 2021 fez com diretore...  \n",
       "1                                                NaN  \n",
       "2                                                NaN  \n",
       "3                                                NaN  \n",
       "4                                                NaN  "
      ]
     },
     "execution_count": 17,
     "metadata": {},
     "output_type": "execute_result"
    }
   ],
   "source": [
    "df_raw_data.head()"
   ]
  },
  {
   "cell_type": "code",
   "execution_count": 18,
   "metadata": {},
   "outputs": [],
   "source": [
    "df_output = df_text_success.copy()"
   ]
  },
  {
   "cell_type": "code",
   "execution_count": 22,
   "metadata": {},
   "outputs": [],
   "source": [
    "df_aux = pd.DataFrame(columns=[\"summary\"])\n",
    "\n",
    "for _, row in df_text_success.iterrows():\n",
    "    match = df_raw_data[df_raw_data['short_url'] == row['short_url']]\n",
    "    if not match.empty:\n",
    "        summary_value = match.iloc[0]['summary']\n",
    "    else:\n",
    "        summary_value = pd.NA\n",
    "    df_aux = pd.concat([df_aux, pd.DataFrame({\"summary\": [summary_value]})], ignore_index=True)\n",
    "\n",
    "df_output['summary'] = df_aux['summary']\n",
    "    "
   ]
  },
  {
   "cell_type": "code",
   "execution_count": 24,
   "metadata": {},
   "outputs": [
    {
     "data": {
      "text/html": [
       "<div>\n",
       "<style scoped>\n",
       "    .dataframe tbody tr th:only-of-type {\n",
       "        vertical-align: middle;\n",
       "    }\n",
       "\n",
       "    .dataframe tbody tr th {\n",
       "        vertical-align: top;\n",
       "    }\n",
       "\n",
       "    .dataframe thead th {\n",
       "        text-align: right;\n",
       "    }\n",
       "</style>\n",
       "<table border=\"1\" class=\"dataframe\">\n",
       "  <thead>\n",
       "    <tr style=\"text-align: right;\">\n",
       "      <th></th>\n",
       "      <th>expanded_url</th>\n",
       "      <th>short_url</th>\n",
       "      <th>html_content</th>\n",
       "      <th>summary</th>\n",
       "    </tr>\n",
       "  </thead>\n",
       "  <tbody>\n",
       "    <tr>\n",
       "      <th>0</th>\n",
       "      <td>https://midiamax.uol.com.br/cotidiano/economia...</td>\n",
       "      <td>https://bit.ly/3sFuhrg</td>\n",
       "      <td>Em alerta para estiagem, associação inicia pre...</td>\n",
       "      <td>A estiagem prolongada em 2021 fez com diretore...</td>\n",
       "    </tr>\n",
       "    <tr>\n",
       "      <th>1</th>\n",
       "      <td>https://www.campogrande.ms.gov.br/cgnoticias/n...</td>\n",
       "      <td>https://www.campogrande.ms.gov.br/cgnoticias/n...</td>\n",
       "      <td>Campanha de vacinação antirrábica começa nesta...</td>\n",
       "      <td>NaN</td>\n",
       "    </tr>\n",
       "    <tr>\n",
       "      <th>2</th>\n",
       "      <td>https://www.campograndenews.com.br/cidades/cap...</td>\n",
       "      <td>https://bit.ly/3lUcz1t</td>\n",
       "      <td>Queimada atinge casa de festas e empresário es...</td>\n",
       "      <td>NaN</td>\n",
       "    </tr>\n",
       "    <tr>\n",
       "      <th>3</th>\n",
       "      <td>https://www.ms.gov.br/com-safra-do-milho-ating...</td>\n",
       "      <td>https://bit.ly/3g4FlsE</td>\n",
       "      <td>Portal Ãnico ms.gov.br You need to enable Jav...</td>\n",
       "      <td>NaN</td>\n",
       "    </tr>\n",
       "    <tr>\n",
       "      <th>4</th>\n",
       "      <td>https://midiamax.uol.com.br/cotidiano/2021/fre...</td>\n",
       "      <td>https://bit.ly/3sjQ0UY</td>\n",
       "      <td>Frente parlamentar discute formas de combate c...</td>\n",
       "      <td>NaN</td>\n",
       "    </tr>\n",
       "    <tr>\n",
       "      <th>...</th>\n",
       "      <td>...</td>\n",
       "      <td>...</td>\n",
       "      <td>...</td>\n",
       "      <td>...</td>\n",
       "    </tr>\n",
       "    <tr>\n",
       "      <th>6584</th>\n",
       "      <td>https://goias.gov.br/saude-investiga-e-acompan...</td>\n",
       "      <td>https://tinyurl.com/3626tuaf</td>\n",
       "      <td>Saúde investiga e acompanha surto de DDA em mu...</td>\n",
       "      <td>A Secretaria de Estado da Saúde de Goiás (SES-...</td>\n",
       "    </tr>\n",
       "    <tr>\n",
       "      <th>6585</th>\n",
       "      <td>https://vnexplorer.net/chile-autoridades-sanit...</td>\n",
       "      <td>https://bit.ly/3C1XBes</td>\n",
       "      <td>Verified News Explorer Network US AU CA AE PH ...</td>\n",
       "      <td>A Secretaria Regional de Saúde de La Araucanía...</td>\n",
       "    </tr>\n",
       "    <tr>\n",
       "      <th>6586</th>\n",
       "      <td>https://timbancavirtual.com.br/maislidas/23018...</td>\n",
       "      <td>https://bit.ly/3wzeCvt</td>\n",
       "      <td>Página não encontrada – Banca Virtual Ir para ...</td>\n",
       "      <td>Cinquenta e três casos da hepatite aguda miste...</td>\n",
       "    </tr>\n",
       "    <tr>\n",
       "      <th>6587</th>\n",
       "      <td>https://www.correiofrancisquense.com.br/notici...</td>\n",
       "      <td>https://bit.ly/3efp1HB</td>\n",
       "      <td>Correio Francisquense lança parceria inédita c...</td>\n",
       "      <td>A região Sul do Brasil, um dos principais dest...</td>\n",
       "    </tr>\n",
       "    <tr>\n",
       "      <th>6588</th>\n",
       "      <td>https://correiodoestado.com.br/cidades/cracola...</td>\n",
       "      <td>https://tinyurl.com/4yftz9wy</td>\n",
       "      <td>Cracolândia de Campo Grande funciona em avenid...</td>\n",
       "      <td>Não é difícil se deparar com um problema socia...</td>\n",
       "    </tr>\n",
       "  </tbody>\n",
       "</table>\n",
       "<p>6589 rows × 4 columns</p>\n",
       "</div>"
      ],
      "text/plain": [
       "                                           expanded_url  \\\n",
       "0     https://midiamax.uol.com.br/cotidiano/economia...   \n",
       "1     https://www.campogrande.ms.gov.br/cgnoticias/n...   \n",
       "2     https://www.campograndenews.com.br/cidades/cap...   \n",
       "3     https://www.ms.gov.br/com-safra-do-milho-ating...   \n",
       "4     https://midiamax.uol.com.br/cotidiano/2021/fre...   \n",
       "...                                                 ...   \n",
       "6584  https://goias.gov.br/saude-investiga-e-acompan...   \n",
       "6585  https://vnexplorer.net/chile-autoridades-sanit...   \n",
       "6586  https://timbancavirtual.com.br/maislidas/23018...   \n",
       "6587  https://www.correiofrancisquense.com.br/notici...   \n",
       "6588  https://correiodoestado.com.br/cidades/cracola...   \n",
       "\n",
       "                                              short_url  \\\n",
       "0                                https://bit.ly/3sFuhrg   \n",
       "1     https://www.campogrande.ms.gov.br/cgnoticias/n...   \n",
       "2                                https://bit.ly/3lUcz1t   \n",
       "3                                https://bit.ly/3g4FlsE   \n",
       "4                                https://bit.ly/3sjQ0UY   \n",
       "...                                                 ...   \n",
       "6584                       https://tinyurl.com/3626tuaf   \n",
       "6585                             https://bit.ly/3C1XBes   \n",
       "6586                             https://bit.ly/3wzeCvt   \n",
       "6587                             https://bit.ly/3efp1HB   \n",
       "6588                       https://tinyurl.com/4yftz9wy   \n",
       "\n",
       "                                           html_content  \\\n",
       "0     Em alerta para estiagem, associação inicia pre...   \n",
       "1     Campanha de vacinação antirrábica começa nesta...   \n",
       "2     Queimada atinge casa de festas e empresário es...   \n",
       "3     Portal Ãnico ms.gov.br You need to enable Jav...   \n",
       "4     Frente parlamentar discute formas de combate c...   \n",
       "...                                                 ...   \n",
       "6584  Saúde investiga e acompanha surto de DDA em mu...   \n",
       "6585  Verified News Explorer Network US AU CA AE PH ...   \n",
       "6586  Página não encontrada – Banca Virtual Ir para ...   \n",
       "6587  Correio Francisquense lança parceria inédita c...   \n",
       "6588  Cracolândia de Campo Grande funciona em avenid...   \n",
       "\n",
       "                                                summary  \n",
       "0     A estiagem prolongada em 2021 fez com diretore...  \n",
       "1                                                   NaN  \n",
       "2                                                   NaN  \n",
       "3                                                   NaN  \n",
       "4                                                   NaN  \n",
       "...                                                 ...  \n",
       "6584  A Secretaria de Estado da Saúde de Goiás (SES-...  \n",
       "6585  A Secretaria Regional de Saúde de La Araucanía...  \n",
       "6586  Cinquenta e três casos da hepatite aguda miste...  \n",
       "6587  A região Sul do Brasil, um dos principais dest...  \n",
       "6588  Não é difícil se deparar com um problema socia...  \n",
       "\n",
       "[6589 rows x 4 columns]"
      ]
     },
     "execution_count": 24,
     "metadata": {},
     "output_type": "execute_result"
    }
   ],
   "source": [
    "df_output.head(-1)"
   ]
  },
  {
   "cell_type": "code",
   "execution_count": 25,
   "metadata": {},
   "outputs": [],
   "source": [
    "df_output.to_csv('../../data/text_success_with_summary.csv', index=False)"
   ]
  },
  {
   "cell_type": "code",
   "execution_count": 4,
   "metadata": {},
   "outputs": [],
   "source": [
    "df_text_success_with_summary = pd.read_csv('../../data/text_success_with_summary.csv')\n"
   ]
  },
  {
   "cell_type": "code",
   "execution_count": 5,
   "metadata": {},
   "outputs": [],
   "source": [
    "df_sample = df_text_success_with_summary.sample(n=20, random_state=1)\n",
    "df_sample.to_csv('../../data/text_success_with_summary_sample.csv', index=False)"
   ]
  }
 ],
 "metadata": {
  "kernelspec": {
   "display_name": "venv",
   "language": "python",
   "name": "python3"
  },
  "language_info": {
   "codemirror_mode": {
    "name": "ipython",
    "version": 3
   },
   "file_extension": ".py",
   "mimetype": "text/x-python",
   "name": "python",
   "nbconvert_exporter": "python",
   "pygments_lexer": "ipython3",
   "version": "3.13.3"
  }
 },
 "nbformat": 4,
 "nbformat_minor": 2
}
