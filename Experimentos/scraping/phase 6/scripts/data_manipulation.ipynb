{
 "cells": [
  {
   "cell_type": "code",
   "execution_count": 1,
   "metadata": {},
   "outputs": [],
   "source": [
    "import pandas as pd \n",
    "from bs4 import BeautifulSoup\n",
    "import re"
   ]
  },
  {
   "cell_type": "code",
   "execution_count": 2,
   "metadata": {},
   "outputs": [],
   "source": [
    "path_retrieved_html_success = '../../data/retrieved_html_success.csv'\n",
    "df_retrieved_html_success = pd.read_csv(path_retrieved_html_success)"
   ]
  },
  {
   "cell_type": "markdown",
   "metadata": {},
   "source": [
    "## Performing dataset cleaning with bs4"
   ]
  },
  {
   "cell_type": "code",
   "execution_count": 3,
   "metadata": {},
   "outputs": [],
   "source": [
    "def extract_pure_html(html):\n",
    "    \"\"\"\n",
    "    Isola apenas o conteúdo dentro da tag <html>...</html>\n",
    "    \"\"\"\n",
    "    match = re.search(r'<html.*?>.*?</html>', html, flags=re.DOTALL | re.IGNORECASE)\n",
    "    return match.group(0) if match else ''"
   ]
  },
  {
   "cell_type": "code",
   "execution_count": 4,
   "metadata": {},
   "outputs": [],
   "source": [
    "def remove_js_css(html):\n",
    "    \"\"\"\n",
    "    Remove os scripts e estilos do HTML.\n",
    "    \"\"\"\n",
    "    soup = BeautifulSoup(html, 'html.parser')\n",
    "    for tag in soup(['script', 'style']):\n",
    "        tag.decompose()\n",
    "    return str(soup)"
   ]
  },
  {
   "cell_type": "code",
   "execution_count": 5,
   "metadata": {},
   "outputs": [],
   "source": [
    "def extract_text(html):\n",
    "    \"\"\"\n",
    "    Remove todas as tags HTML e extrai somente o texto visível.\n",
    "    \"\"\"\n",
    "    html_sem_js_css = remove_js_css(html)\n",
    "    html_limpo = extract_pure_html(html_sem_js_css)\n",
    "    soup = BeautifulSoup(html_limpo, 'html.parser')\n",
    "    return soup.get_text(separator=' ', strip=True)"
   ]
  },
  {
   "cell_type": "code",
   "execution_count": 6,
   "metadata": {},
   "outputs": [],
   "source": [
    "df_retrieved_html_success_clean = df_retrieved_html_success.copy()\n",
    "df_retrieved_html_success_clean['html_content'] = df_retrieved_html_success_clean['html_content'].apply(extract_text)"
   ]
  },
  {
   "cell_type": "code",
   "execution_count": 7,
   "metadata": {},
   "outputs": [],
   "source": [
    "df_retrieved_html_success_clean.to_csv('../../data/retrieved_text_success.csv', index=False)"
   ]
  },
  {
   "cell_type": "markdown",
   "metadata": {},
   "source": [
    "## Extracting the first html to do the cleaning manually"
   ]
  },
  {
   "cell_type": "code",
   "execution_count": 6,
   "metadata": {},
   "outputs": [],
   "source": [
    "first_html = df_retrieved_html_success.iloc[0]['html_content']"
   ]
  },
  {
   "cell_type": "code",
   "execution_count": null,
   "metadata": {},
   "outputs": [],
   "source": [
    "with open('../data/html_dirty.txt', 'w') as f:\n",
    "    f.write(first_html)"
   ]
  },
  {
   "cell_type": "code",
   "execution_count": null,
   "metadata": {},
   "outputs": [],
   "source": [
    "html_clean_bs4 = extract_text(first_html)\n",
    "with open('../data/html_clean_bs4.txt', 'w') as f:\n",
    "    f.write(html_clean_bs4)"
   ]
  }
 ],
 "metadata": {
  "kernelspec": {
   "display_name": "venv",
   "language": "python",
   "name": "python3"
  },
  "language_info": {
   "codemirror_mode": {
    "name": "ipython",
    "version": 3
   },
   "file_extension": ".py",
   "mimetype": "text/x-python",
   "name": "python",
   "nbconvert_exporter": "python",
   "pygments_lexer": "ipython3",
   "version": "3.13.3"
  }
 },
 "nbformat": 4,
 "nbformat_minor": 2
}
