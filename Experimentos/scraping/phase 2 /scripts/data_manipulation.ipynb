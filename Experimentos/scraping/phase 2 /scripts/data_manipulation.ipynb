{
 "cells": [
  {
   "cell_type": "code",
   "execution_count": 1,
   "metadata": {},
   "outputs": [],
   "source": [
    "import pandas as pd"
   ]
  },
  {
   "cell_type": "code",
   "execution_count": 2,
   "metadata": {},
   "outputs": [],
   "source": [
    "path_full_url_dataset = '../../phase 1/data/expanded_url_full.csv'\n",
    "df_full_url = pd.read_csv(path_full_url_dataset)"
   ]
  },
  {
   "cell_type": "code",
   "execution_count": 7,
   "metadata": {},
   "outputs": [
    {
     "data": {
      "text/plain": [
       "expanded_url\n",
       "https://www.1933hob.com/                                                                                                         50\n",
       "https://portal.pi.gov.br/sesapi/                                                                                                 14\n",
       "https://diariodoestadogo.com.br/                                                                                                 10\n",
       "https://www.manaus.am.gov.br/semsa/                                                                                               8\n",
       "https://www1.brasilemfolhas.com.br/                                                                                               6\n",
       "                                                                                                                                 ..\n",
       "https://midiamax.uol.com.br/cotidiano/2022/mato-grosso-do-sul-tem-fila-de-64-pessoas-com-suspeita-de-variola-dos-macacos/         2\n",
       "https://www.dm.com.br/cidades/casos-de-suicidio-aumentam-entre-jovens-121432                                                      2\n",
       "https://midiamax.uol.com.br/cotidiano/2022/mato-grosso-do-sul-esta-em-alerta-de-chuvas-intensas-e-risco-de-alagamento/            2\n",
       "https://midiamax.uol.com.br/cotidiano/2022/com-400-novos-casos-de-dengue-em-uma-semana-ms-tem-a-10a-maior-incidencia-do-pais/     2\n",
       "https://www.campograndenews.com.br/                                                                                               2\n",
       "Name: count, Length: 63, dtype: int64"
      ]
     },
     "execution_count": 7,
     "metadata": {},
     "output_type": "execute_result"
    }
   ],
   "source": [
    "# capturando as 'expanded_url' repetidas e quantas vezes elas se repetem\n",
    "repeated_expanded_url = df_full_url['expanded_url'].value_counts()\n",
    "repeated_expanded_url = repeated_expanded_url[repeated_expanded_url > 1]\n",
    "repeated_expanded_url\n"
   ]
  },
  {
   "cell_type": "code",
   "execution_count": 9,
   "metadata": {},
   "outputs": [],
   "source": [
    "repeated_expanded_url.to_csv('../data/duplicated_urls.csv', header=True)"
   ]
  },
  {
   "cell_type": "code",
   "execution_count": 10,
   "metadata": {},
   "outputs": [],
   "source": [
    "# removendo as 'expanded_url' repetidas\n",
    "df_full_url = df_full_url.drop_duplicates(subset='expanded_url')\n",
    "df_full_url.to_csv('../data/unique_expanded_urls.csv', index=False)"
   ]
  },
  {
   "cell_type": "code",
   "execution_count": 12,
   "metadata": {},
   "outputs": [
    {
     "name": "stdout",
     "output_type": "stream",
     "text": [
      "dataset url full:  6457\n",
      "dataset repetidos:  63\n"
     ]
    }
   ],
   "source": [
    "print(\"dataset url full: \", len(df_full_url))\n",
    "print(\"dataset repetidos: \", len(repeated_expanded_url))"
   ]
  }
 ],
 "metadata": {
  "kernelspec": {
   "display_name": "Python 3",
   "language": "python",
   "name": "python3"
  },
  "language_info": {
   "codemirror_mode": {
    "name": "ipython",
    "version": 3
   },
   "file_extension": ".py",
   "mimetype": "text/x-python",
   "name": "python",
   "nbconvert_exporter": "python",
   "pygments_lexer": "ipython3",
   "version": "3.10.12"
  }
 },
 "nbformat": 4,
 "nbformat_minor": 2
}
