{
 "cells": [
  {
   "cell_type": "markdown",
   "metadata": {},
   "source": [
    "# Importações"
   ]
  },
  {
   "cell_type": "code",
   "execution_count": 1,
   "metadata": {},
   "outputs": [],
   "source": [
    "import pandas as pd"
   ]
  },
  {
   "cell_type": "markdown",
   "metadata": {},
   "source": [
    "# Lendo datasets "
   ]
  },
  {
   "cell_type": "code",
   "execution_count": 2,
   "metadata": {},
   "outputs": [],
   "source": [
    "retrieved_html_wayback = '../../phase 3/data/retrieved_html_wayback_success.csv'\n",
    "retrieved_html_selenium = '../../phase 4/data/retrieved_html_selenium_success.csv'"
   ]
  },
  {
   "cell_type": "code",
   "execution_count": 3,
   "metadata": {},
   "outputs": [],
   "source": [
    "df_wayback = pd.read_csv(retrieved_html_wayback)\n",
    "df_selenium = pd.read_csv(retrieved_html_selenium)"
   ]
  },
  {
   "cell_type": "markdown",
   "metadata": {},
   "source": [
    "# Gerando dataset para filtragem "
   ]
  },
  {
   "cell_type": "code",
   "execution_count": null,
   "metadata": {},
   "outputs": [],
   "source": [
    "df_wayback_sample = df_wayback.sample(n=10, random_state=1)\n",
    "df_selenium_sample = df_selenium.sample(n=10, random_state=1)\n",
    "\n",
    "df_sample = pd.concat([df_wayback_sample, df_selenium_sample])\n",
    "df_sample.to_csv('../../data/samples_to_filter.csv', index=False)"
   ]
  },
  {
   "cell_type": "markdown",
   "metadata": {},
   "source": [
    "# Gerando dataset mergeado\n"
   ]
  },
  {
   "cell_type": "code",
   "execution_count": null,
   "metadata": {},
   "outputs": [],
   "source": [
    "df_html_success = pd.concat([df_wayback, df_selenium])\n",
    "df_html_success.to_csv('../../data/retrieved_html_success.csv', index=False)"
   ]
  },
  {
   "cell_type": "markdown",
   "metadata": {},
   "source": [
    "# Linkando o dataset sucess com o seu respectivo resumo "
   ]
  },
  {
   "cell_type": "code",
   "execution_count": 3,
   "metadata": {},
   "outputs": [],
   "source": [
    "df_raw_data = pd.read_csv('../../data/raw_data.csv')\n",
    "\n",
    "df_html_success = pd.read_csv('../../data/retrieved_html_success.csv')\n",
    "\n",
    "df_html_success_abstract = pd.DataFrame(columns=['expanded_url', 'short_url', 'html_content', 'abstract'])"
   ]
  },
  {
   "cell_type": "code",
   "execution_count": 5,
   "metadata": {},
   "outputs": [],
   "source": [
    "for index, row in df_html_success.iterrows():\n",
    "    expanded_url = row['expanded_url']\n",
    "    short_url = row['short_url']\n",
    "    html_content = row['html_content']\n",
    "\n",
    "    abstract_row = df_raw_data[df_raw_data['short_url'] == short_url]\n",
    "    if not abstract_row.empty:\n",
    "        abstract = abstract_row.iloc[0]['abstract']\n",
    "    else:\n",
    "        abstract = None\n",
    "\n",
    "    df_aux = pd.DataFrame({'expanded_url': [expanded_url], \n",
    "                           'short_url': [short_url], \n",
    "                           'html_content': [html_content], \n",
    "                           'abstract': [abstract]})\n",
    "    \n",
    "    df_html_success_abstract = pd.concat([df_html_success_abstract, df_aux], ignore_index=True)\n",
    "\n",
    "df_html_success_abstract.to_csv('../../data/retrieved_html_success_abstract.csv', index=False)\n",
    "df_html_success_abstract = pd.read_csv('../../data/retrieved_html_success_abstract.csv')"
   ]
  },
  {
   "cell_type": "markdown",
   "metadata": {},
   "source": [
    "# Lendo e gerando dataset de amostras com resumo"
   ]
  },
  {
   "cell_type": "code",
   "execution_count": 2,
   "metadata": {},
   "outputs": [],
   "source": [
    "df_html_success_abstract = pd.read_csv('../../data/retrieved_html_success_abstract.csv')\n",
    "df_html_success_abstract_sample = df_html_success_abstract.sample(n=20, random_state=1)\n",
    "df_html_success_abstract_sample.to_csv('../../data/retrieved_html_success_abstract_sample.csv', index=False)"
   ]
  }
 ],
 "metadata": {
  "kernelspec": {
   "display_name": "venv",
   "language": "python",
   "name": "python3"
  },
  "language_info": {
   "codemirror_mode": {
    "name": "ipython",
    "version": 3
   },
   "file_extension": ".py",
   "mimetype": "text/x-python",
   "name": "python",
   "nbconvert_exporter": "python",
   "pygments_lexer": "ipython3",
   "version": "3.13.3"
  }
 },
 "nbformat": 4,
 "nbformat_minor": 2
}
