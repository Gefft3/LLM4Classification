{
 "cells": [
  {
   "cell_type": "code",
   "execution_count": 4,
   "metadata": {},
   "outputs": [],
   "source": [
    "import pandas as pd\n",
    "import re"
   ]
  },
  {
   "cell_type": "code",
   "execution_count": 2,
   "metadata": {},
   "outputs": [],
   "source": [
    "path_retrieved_html_selenium_success = '../data/retrieved_html_selenium_success.csv'\n",
    "path_retrieved_html_selenium_fail = '../data/retrieved_html_selenium_fail.csv'\n",
    "\n",
    "df_retrieved_html_selenium_success = pd.read_csv(path_retrieved_html_selenium_success)\n",
    "df_retrieved_html_selenium_fail = pd.read_csv(path_retrieved_html_selenium_fail)"
   ]
  },
  {
   "cell_type": "code",
   "execution_count": 3,
   "metadata": {},
   "outputs": [
    {
     "name": "stdout",
     "output_type": "stream",
     "text": [
      "SUCCESS: 1780\n",
      "FAIL: 12\n",
      "TOTAL: 1792\n"
     ]
    }
   ],
   "source": [
    "print(f'SUCCESS: {len(df_retrieved_html_selenium_success)}')\n",
    "print(f'FAIL: {len(df_retrieved_html_selenium_fail)}')\n",
    "print(f'TOTAL: {len(df_retrieved_html_selenium_success) + len(df_retrieved_html_selenium_fail)}')"
   ]
  },
  {
   "cell_type": "code",
   "execution_count": 6,
   "metadata": {},
   "outputs": [],
   "source": [
    "path_log_errors = '../logs/errors.txt'\n",
    "\n",
    "with open(path_log_errors, 'r') as f:\n",
    "    log_errors = f.read()"
   ]
  },
  {
   "cell_type": "code",
   "execution_count": 7,
   "metadata": {},
   "outputs": [
    {
     "data": {
      "text/plain": [
       "'Index: 1779, URL: https://vnexplorer.net/chile-autoridades-sanitarias-de-la-araucania-confirman-caso-sospechoso-de-lepra-ez2021452297.html, Error: Erro crítico ao processar URL: Message: unknown error: net::ERR_NAME_NOT_RESOLVED\\n  (Session info: chrome=133.0.6943.126)\\nStacktrace:\\n#0 0x5750d468a14a <unknown>\\n#1 0x5750d4127b80 <unknown>\\n#2 0x5750d411ed89 <unknown>\\n#3 0x5750d410f039 <unknown>\\n#4 0x5750d4110d3d <unknown>\\n#5 0x5750d410f3ce <unknown>\\n#6 0x5750d410ed6e <unknown>\\n#7 0x5750d410ea1f <unknown>\\n#8 0x5750d410c762 <unknown>\\n#9 0x5750d410d02a <unknown>\\n#10 0x5750d412b019 <unknown>\\n#11 0x5750d41c5e15 <unknown>\\n#12 0x5750d419eed2 <unknown>\\n#13 0x5750d41c514a <unknown>\\n#14 0x5750d419eca3 <unknown>\\n#15 0x5750d416af08 <unknown>\\n#16 0x5750d416c071 <unknown>\\n#17 0x5750d4653b5b <unknown>\\n#18 0x5750d4657ae2 <unknown>\\n#19 0x5750d463f967 <unknown>\\n#20 0x5750d46586d4 <unknown>\\n#21 0x5750d4623c7f <unknown>\\n#22 0x5750d4678cd8 <unknown>\\n#23 0x5750d4678ea9 <unknown>\\n#24 0x5750d4688fc6 <unknown>\\n#25 0x7e0d68694ac3 <unknown>\\n\\nIndex: 1780, URL: https://d.emtempo.com.br/amazonas/322571/amazonas-inicia-utilizacao-de-novo-medicamento-para-cura-de-malaria, Error: Erro crítico ao processar URL: Message: unknown error: net::ERR_NAME_NOT_RESOLVED\\n  (Session info: chrome=133.0.6943.126)\\nStacktrace:\\n#0 0x5750d468a14a <unknown>\\n#1 0x5750d4127b80 <unknown>\\n#2 0x5750d411ed89 <unknown>\\n#3 0x5750d410f039 <unknown>\\n#4 0x5750d4110d3d <unknown>\\n#5 0x5750d410f3ce <unknown>\\n#6 0x5750d410ed6e <unknown>\\n#7 0x5750d410ea1f <unknown>\\n#8 0x5750d410c762 <unknown>\\n#9 0x5750d410d02a <unknown>\\n#10 0x5750d412b019 <unknown>\\n#11 0x5750d41c5e15 <unknown>\\n#12 0x5750d419eed2 <unknown>\\n#13 0x5750d41c514a <unknown>\\n#14 0x5750d419eca3 <unknown>\\n#15 0x5750d416af08 <unknown>\\n#16 0x5750d416c071 <unknown>\\n#17 0x5750d4653b5b <unknown>\\n#18 0x5750d4657ae2 <unknown>\\n#19 0x5750d463f967 <unknown>\\n#20 0x5750d46586d4 <unknown>\\n#21 0x5750d4623c7f <unknown>\\n#22 0x5750d4678cd8 <unknown>\\n#23 0x5750d4678ea9 <unknown>\\n#24 0x5750d4688fc6 <unknown>\\n#25 0x7e0d68694ac3 <unknown>\\n\\nIndex: 1781, URL: http://avoz.com.ar/ciudadanos/detectan-casos-de-dengue-en-formosa-y-advierten-que-en-2022-habra-mas-incidencia-en-argentina/, Error: Erro crítico ao processar URL: Message: unknown error: net::ERR_NAME_NOT_RESOLVED\\n  (Session info: chrome=133.0.6943.126)\\nStacktrace:\\n#0 0x5750d468a14a <unknown>\\n#1 0x5750d4127b80 <unknown>\\n#2 0x5750d411ed89 <unknown>\\n#3 0x5750d410f039 <unknown>\\n#4 0x5750d4110d3d <unknown>\\n#5 0x5750d410f3ce <unknown>\\n#6 0x5750d410ed6e <unknown>\\n#7 0x5750d410ea1f <unknown>\\n#8 0x5750d410c762 <unknown>\\n#9 0x5750d410d02a <unknown>\\n#10 0x5750d412b019 <unknown>\\n#11 0x5750d41c5e15 <unknown>\\n#12 0x5750d419eed2 <unknown>\\n#13 0x5750d41c514a <unknown>\\n#14 0x5750d419eca3 <unknown>\\n#15 0x5750d416af08 <unknown>\\n#16 0x5750d416c071 <unknown>\\n#17 0x5750d4653b5b <unknown>\\n#18 0x5750d4657ae2 <unknown>\\n#19 0x5750d463f967 <unknown>\\n#20 0x5750d46586d4 <unknown>\\n#21 0x5750d4623c7f <unknown>\\n#22 0x5750d4678cd8 <unknown>\\n#23 0x5750d4678ea9 <unknown>\\n#24 0x5750d4688fc6 <unknown>\\n#25 0x7e0d68694ac3 <unknown>\\n\\nIndex: 1782, URL: https://jornal.brasilemfolhas.com.br/2022/01/covid-19-rio-inicia-hoje-vacinacao-de-criancas/, Error: Erro crítico ao processar URL: Message: unknown error: net::ERR_NAME_NOT_RESOLVED\\n  (Session info: chrome=133.0.6943.126)\\nStacktrace:\\n#0 0x5750d468a14a <unknown>\\n#1 0x5750d4127b80 <unknown>\\n#2 0x5750d411ed89 <unknown>\\n#3 0x5750d410f039 <unknown>\\n#4 0x5750d4110d3d <unknown>\\n#5 0x5750d410f3ce <unknown>\\n#6 0x5750d410ed6e <unknown>\\n#7 0x5750d410ea1f <unknown>\\n#8 0x5750d410c762 <unknown>\\n#9 0x5750d410d02a <unknown>\\n#10 0x5750d412b019 <unknown>\\n#11 0x5750d41c5e15 <unknown>\\n#12 0x5750d419eed2 <unknown>\\n#13 0x5750d41c514a <unknown>\\n#14 0x5750d419eca3 <unknown>\\n#15 0x5750d416af08 <unknown>\\n#16 0x5750d416c071 <unknown>\\n#17 0x5750d4653b5b <unknown>\\n#18 0x5750d4657ae2 <unknown>\\n#19 0x5750d463f967 <unknown>\\n#20 0x5750d46586d4 <unknown>\\n#21 0x5750d4623c7f <unknown>\\n#22 0x5750d4678cd8 <unknown>\\n#23 0x5750d4678ea9 <unknown>\\n#24 0x5750d4688fc6 <unknown>\\n#25 0x7e0d68694ac3 <unknown>\\n\\nIndex: 1783, URL: https://www.primeirapagina.to/noticias/casos-notificados-de-dengue-e-diagn%C3%B3sticos-de-chikungunya-crescem-no-tocantins/, Error: Erro crítico ao processar URL: Message: unknown error: net::ERR_NAME_NOT_RESOLVED\\n  (Session info: chrome=133.0.6943.126)\\nStacktrace:\\n#0 0x5750d468a14a <unknown>\\n#1 0x5750d4127b80 <unknown>\\n#2 0x5750d411ed89 <unknown>\\n#3 0x5750d410f039 <unknown>\\n#4 0x5750d4110d3d <unknown>\\n#5 0x5750d410f3ce <unknown>\\n#6 0x5750d410ed6e <unknown>\\n#7 0x5750d410ea1f <unknown>\\n#8 0x5750d410c762 <unknown>\\n#9 0x5750d410d02a <unknown>\\n#10 0x5750d412b019 <unknown>\\n#11 0x5750d41c5e15 <unknown>\\n#12 0x5750d419eed2 <unknown>\\n#13 0x5750d41c514a <unknown>\\n#14 0x5750d419eca3 <unknown>\\n#15 0x5750d416af08 <unknown>\\n#16 0x5750d416c071 <unknown>\\n#17 0x5750d4653b5b <unknown>\\n#18 0x5750d4657ae2 <unknown>\\n#19 0x5750d463f967 <unknown>\\n#20 0x5750d46586d4 <unknown>\\n#21 0x5750d4623c7f <unknown>\\n#22 0x5750d4678cd8 <unknown>\\n#23 0x5750d4678ea9 <unknown>\\n#24 0x5750d4688fc6 <unknown>\\n#25 0x7e0d68694ac3 <unknown>\\n\\nIndex: 1784, URL: https://timbancavirtual.com.br/maislidas/2301875-brasil-53-casos-de-hepatite-infantil-misteriosa-foram-notificados-ao-ministerio-da-saude, Error: Erro crítico ao processar URL: Message: unknown error: net::ERR_NAME_NOT_RESOLVED\\n  (Session info: chrome=133.0.6943.126)\\nStacktrace:\\n#0 0x5750d468a14a <unknown>\\n#1 0x5750d4127b80 <unknown>\\n#2 0x5750d411ed89 <unknown>\\n#3 0x5750d410f039 <unknown>\\n#4 0x5750d4110d3d <unknown>\\n#5 0x5750d410f3ce <unknown>\\n#6 0x5750d410ed6e <unknown>\\n#7 0x5750d410ea1f <unknown>\\n#8 0x5750d410c762 <unknown>\\n#9 0x5750d410d02a <unknown>\\n#10 0x5750d412b019 <unknown>\\n#11 0x5750d41c5e15 <unknown>\\n#12 0x5750d419eed2 <unknown>\\n#13 0x5750d41c514a <unknown>\\n#14 0x5750d419eca3 <unknown>\\n#15 0x5750d416af08 <unknown>\\n#16 0x5750d416c071 <unknown>\\n#17 0x5750d4653b5b <unknown>\\n#18 0x5750d4657ae2 <unknown>\\n#19 0x5750d463f967 <unknown>\\n#20 0x5750d46586d4 <unknown>\\n#21 0x5750d4623c7f <unknown>\\n#22 0x5750d4678cd8 <unknown>\\n#23 0x5750d4678ea9 <unknown>\\n#24 0x5750d4688fc6 <unknown>\\n#25 0x7e0d68694ac3 <unknown>\\n\\nIndex: 1785, URL: https://sapobrasil.com.br/atualidade/artigos/venezuela-relata-seu-primeiro-caso-de-variola-do-macaco, Error: Erro crítico ao processar URL: Message: unknown error: net::ERR_NAME_NOT_RESOLVED\\n  (Session info: chrome=133.0.6943.126)\\nStacktrace:\\n#0 0x5750d468a14a <unknown>\\n#1 0x5750d4127b80 <unknown>\\n#2 0x5750d411ed89 <unknown>\\n#3 0x5750d410f039 <unknown>\\n#4 0x5750d4110d3d <unknown>\\n#5 0x5750d410f3ce <unknown>\\n#6 0x5750d410ed6e <unknown>\\n#7 0x5750d410ea1f <unknown>\\n#8 0x5750d410c762 <unknown>\\n#9 0x5750d410d02a <unknown>\\n#10 0x5750d412b019 <unknown>\\n#11 0x5750d41c5e15 <unknown>\\n#12 0x5750d419eed2 <unknown>\\n#13 0x5750d41c514a <unknown>\\n#14 0x5750d419eca3 <unknown>\\n#15 0x5750d416af08 <unknown>\\n#16 0x5750d416c071 <unknown>\\n#17 0x5750d4653b5b <unknown>\\n#18 0x5750d4657ae2 <unknown>\\n#19 0x5750d463f967 <unknown>\\n#20 0x5750d46586d4 <unknown>\\n#21 0x5750d4623c7f <unknown>\\n#22 0x5750d4678cd8 <unknown>\\n#23 0x5750d4678ea9 <unknown>\\n#24 0x5750d4688fc6 <unknown>\\n#25 0x7e0d68694ac3 <unknown>\\n\\nIndex: 1786, URL: https://www.primeirapagina.to/noticias/casos-de-hepatite-b-crescem-mais-de-26-no-tocantins/, Error: Erro crítico ao processar URL: Message: unknown error: net::ERR_NAME_NOT_RESOLVED\\n  (Session info: chrome=133.0.6943.126)\\nStacktrace:\\n#0 0x5750d468a14a <unknown>\\n#1 0x5750d4127b80 <unknown>\\n#2 0x5750d411ed89 <unknown>\\n#3 0x5750d410f039 <unknown>\\n#4 0x5750d4110d3d <unknown>\\n#5 0x5750d410f3ce <unknown>\\n#6 0x5750d410ed6e <unknown>\\n#7 0x5750d410ea1f <unknown>\\n#8 0x5750d410c762 <unknown>\\n#9 0x5750d410d02a <unknown>\\n#10 0x5750d412b019 <unknown>\\n#11 0x5750d41c5e15 <unknown>\\n#12 0x5750d419eed2 <unknown>\\n#13 0x5750d41c514a <unknown>\\n#14 0x5750d419eca3 <unknown>\\n#15 0x5750d416af08 <unknown>\\n#16 0x5750d416c071 <unknown>\\n#17 0x5750d4653b5b <unknown>\\n#18 0x5750d4657ae2 <unknown>\\n#19 0x5750d463f967 <unknown>\\n#20 0x5750d46586d4 <unknown>\\n#21 0x5750d4623c7f <unknown>\\n#22 0x5750d4678cd8 <unknown>\\n#23 0x5750d4678ea9 <unknown>\\n#24 0x5750d4688fc6 <unknown>\\n#25 0x7e0d68694ac3 <unknown>\\n\\nIndex: 1787, URL: https://www.primeirapagina.to/noticias/mais-de-61-dos-casos-suspeitos-de-monkeypox-em-palmas-s%EF%BF%BDo-em-mulheres/, Error: Erro crítico ao processar URL: Message: unknown error: net::ERR_NAME_NOT_RESOLVED\\n  (Session info: chrome=133.0.6943.126)\\nStacktrace:\\n#0 0x5750d468a14a <unknown>\\n#1 0x5750d4127b80 <unknown>\\n#2 0x5750d411ed89 <unknown>\\n#3 0x5750d410f039 <unknown>\\n#4 0x5750d4110d3d <unknown>\\n#5 0x5750d410f3ce <unknown>\\n#6 0x5750d410ed6e <unknown>\\n#7 0x5750d410ea1f <unknown>\\n#8 0x5750d410c762 <unknown>\\n#9 0x5750d410d02a <unknown>\\n#10 0x5750d412b019 <unknown>\\n#11 0x5750d41c5e15 <unknown>\\n#12 0x5750d419eed2 <unknown>\\n#13 0x5750d41c514a <unknown>\\n#14 0x5750d419eca3 <unknown>\\n#15 0x5750d416af08 <unknown>\\n#16 0x5750d416c071 <unknown>\\n#17 0x5750d4653b5b <unknown>\\n#18 0x5750d4657ae2 <unknown>\\n#19 0x5750d463f967 <unknown>\\n#20 0x5750d46586d4 <unknown>\\n#21 0x5750d4623c7f <unknown>\\n#22 0x5750d4678cd8 <unknown>\\n#23 0x5750d4678ea9 <unknown>\\n#24 0x5750d4688fc6 <unknown>\\n#25 0x7e0d68694ac3 <unknown>\\n\\nIndex: 1788, URL: http://ribunadosertao.com.br/2022/07/cobertura-vacinal-atinge-niveis-criticos-e-ameaca-saude-coletiva/, Error: Erro crítico ao processar URL: Message: unknown error: net::ERR_NAME_NOT_RESOLVED\\n  (Session info: chrome=133.0.6943.126)\\nStacktrace:\\n#0 0x5750d468a14a <unknown>\\n#1 0x5750d4127b80 <unknown>\\n#2 0x5750d411ed89 <unknown>\\n#3 0x5750d410f039 <unknown>\\n#4 0x5750d4110d3d <unknown>\\n#5 0x5750d410f3ce <unknown>\\n#6 0x5750d410ed6e <unknown>\\n#7 0x5750d410ea1f <unknown>\\n#8 0x5750d410c762 <unknown>\\n#9 0x5750d410d02a <unknown>\\n#10 0x5750d412b019 <unknown>\\n#11 0x5750d41c5e15 <unknown>\\n#12 0x5750d419eed2 <unknown>\\n#13 0x5750d41c514a <unknown>\\n#14 0x5750d419eca3 <unknown>\\n#15 0x5750d416af08 <unknown>\\n#16 0x5750d416c071 <unknown>\\n#17 0x5750d4653b5b <unknown>\\n#18 0x5750d4657ae2 <unknown>\\n#19 0x5750d463f967 <unknown>\\n#20 0x5750d46586d4 <unknown>\\n#21 0x5750d4623c7f <unknown>\\n#22 0x5750d4678cd8 <unknown>\\n#23 0x5750d4678ea9 <unknown>\\n#24 0x5750d4688fc6 <unknown>\\n#25 0x7e0d68694ac3 <unknown>\\n\\nIndex: 1789, URL: https://www.correiofrancisquense.com.br/noticias/meio_ambiente/falta_de_saneamento_causa_internacao_de_mais_de_270_mil_pessoas_por_ano_no_brasil.189883, Error: Erro crítico ao processar URL: Message: unknown error: net::ERR_NAME_NOT_RESOLVED\\n  (Session info: chrome=133.0.6943.126)\\nStacktrace:\\n#0 0x5750d468a14a <unknown>\\n#1 0x5750d4127b80 <unknown>\\n#2 0x5750d411ed89 <unknown>\\n#3 0x5750d410f039 <unknown>\\n#4 0x5750d4110d3d <unknown>\\n#5 0x5750d410f3ce <unknown>\\n#6 0x5750d410ed6e <unknown>\\n#7 0x5750d410ea1f <unknown>\\n#8 0x5750d410c762 <unknown>\\n#9 0x5750d410d02a <unknown>\\n#10 0x5750d412b019 <unknown>\\n#11 0x5750d41c5e15 <unknown>\\n#12 0x5750d419eed2 <unknown>\\n#13 0x5750d41c514a <unknown>\\n#14 0x5750d419eca3 <unknown>\\n#15 0x5750d416af08 <unknown>\\n#16 0x5750d416c071 <unknown>\\n#17 0x5750d4653b5b <unknown>\\n#18 0x5750d4657ae2 <unknown>\\n#19 0x5750d463f967 <unknown>\\n#20 0x5750d46586d4 <unknown>\\n#21 0x5750d4623c7f <unknown>\\n#22 0x5750d4678cd8 <unknown>\\n#23 0x5750d4678ea9 <unknown>\\n#24 0x5750d4688fc6 <unknown>\\n#25 0x7e0d68694ac3 <unknown>\\n\\nIndex: 1790, URL: https://capitaldeminas.com.br/noticias/pesquisa-identifica-locais-com-maior-risco-de-inundacao/, Error: Erro crítico ao processar URL: Message: unknown error: net::ERR_NAME_NOT_RESOLVED\\n  (Session info: chrome=133.0.6943.126)\\nStacktrace:\\n#0 0x5750d468a14a <unknown>\\n#1 0x5750d4127b80 <unknown>\\n#2 0x5750d411ed89 <unknown>\\n#3 0x5750d410f039 <unknown>\\n#4 0x5750d4110d3d <unknown>\\n#5 0x5750d410f3ce <unknown>\\n#6 0x5750d410ed6e <unknown>\\n#7 0x5750d410ea1f <unknown>\\n#8 0x5750d410c762 <unknown>\\n#9 0x5750d410d02a <unknown>\\n#10 0x5750d412b019 <unknown>\\n#11 0x5750d41c5e15 <unknown>\\n#12 0x5750d419eed2 <unknown>\\n#13 0x5750d41c514a <unknown>\\n#14 0x5750d419eca3 <unknown>\\n#15 0x5750d416af08 <unknown>\\n#16 0x5750d416c071 <unknown>\\n#17 0x5750d4653b5b <unknown>\\n#18 0x5750d4657ae2 <unknown>\\n#19 0x5750d463f967 <unknown>\\n#20 0x5750d46586d4 <unknown>\\n#21 0x5750d4623c7f <unknown>\\n#22 0x5750d4678cd8 <unknown>\\n#23 0x5750d4678ea9 <unknown>\\n#24 0x5750d4688fc6 <unknown>\\n#25 0x7e0d68694ac3 <unknown>\\n\\n'"
      ]
     },
     "execution_count": 7,
     "metadata": {},
     "output_type": "execute_result"
    }
   ],
   "source": [
    "log_errors"
   ]
  },
  {
   "cell_type": "code",
   "execution_count": 8,
   "metadata": {},
   "outputs": [
    {
     "data": {
      "text/plain": [
       "['unknown error: net::ERR_NAME_NOT_RESOLVED',\n",
       " 'unknown error: net::ERR_NAME_NOT_RESOLVED',\n",
       " 'unknown error: net::ERR_NAME_NOT_RESOLVED',\n",
       " 'unknown error: net::ERR_NAME_NOT_RESOLVED',\n",
       " 'unknown error: net::ERR_NAME_NOT_RESOLVED',\n",
       " 'unknown error: net::ERR_NAME_NOT_RESOLVED',\n",
       " 'unknown error: net::ERR_NAME_NOT_RESOLVED',\n",
       " 'unknown error: net::ERR_NAME_NOT_RESOLVED',\n",
       " 'unknown error: net::ERR_NAME_NOT_RESOLVED',\n",
       " 'unknown error: net::ERR_NAME_NOT_RESOLVED',\n",
       " 'unknown error: net::ERR_NAME_NOT_RESOLVED',\n",
       " 'unknown error: net::ERR_NAME_NOT_RESOLVED']"
      ]
     },
     "execution_count": 8,
     "metadata": {},
     "output_type": "execute_result"
    }
   ],
   "source": [
    "pattern = r'Message: (.*)\\n'\n",
    "errors = re.findall(pattern, log_errors)\n",
    "errors"
   ]
  },
  {
   "cell_type": "code",
   "execution_count": 10,
   "metadata": {},
   "outputs": [
    {
     "data": {
      "text/plain": [
       "unknown error: net::ERR_NAME_NOT_RESOLVED    12\n",
       "Name: count, dtype: int64"
      ]
     },
     "execution_count": 10,
     "metadata": {},
     "output_type": "execute_result"
    }
   ],
   "source": [
    "erros_count = pd.Series(errors).value_counts()\n",
    "erros_count"
   ]
  }
 ],
 "metadata": {
  "kernelspec": {
   "display_name": "Python 3",
   "language": "python",
   "name": "python3"
  },
  "language_info": {
   "codemirror_mode": {
    "name": "ipython",
    "version": 3
   },
   "file_extension": ".py",
   "mimetype": "text/x-python",
   "name": "python",
   "nbconvert_exporter": "python",
   "pygments_lexer": "ipython3",
   "version": "3.10.12"
  }
 },
 "nbformat": 4,
 "nbformat_minor": 2
}
