{
 "cells": [
  {
   "cell_type": "code",
   "execution_count": 1,
   "metadata": {},
   "outputs": [],
   "source": [
    "import pandas as pd\n",
    "import re"
   ]
  },
  {
   "cell_type": "code",
   "execution_count": 2,
   "metadata": {},
   "outputs": [],
   "source": [
    "path_retrieved_html_selenium_success = '../data/retrieved_html_selenium_success.csv'\n",
    "path_retrieved_html_selenium_fail = '../data/retrieved_html_selenium_fail.csv'\n",
    "\n",
    "df_retrieved_html_selenium_success = pd.read_csv(path_retrieved_html_selenium_success)\n",
    "df_retrieved_html_selenium_fail = pd.read_csv(path_retrieved_html_selenium_fail)"
   ]
  },
  {
   "cell_type": "code",
   "execution_count": 3,
   "metadata": {},
   "outputs": [
    {
     "name": "stdout",
     "output_type": "stream",
     "text": [
      "SUCCESS: 1775\n",
      "FAIL: 12\n",
      "TOTAL: 1787\n"
     ]
    }
   ],
   "source": [
    "print(f'SUCCESS: {len(df_retrieved_html_selenium_success)}')\n",
    "print(f'FAIL: {len(df_retrieved_html_selenium_fail)}')\n",
    "print(f'TOTAL: {len(df_retrieved_html_selenium_success) + len(df_retrieved_html_selenium_fail)}')"
   ]
  },
  {
   "cell_type": "code",
   "execution_count": 4,
   "metadata": {},
   "outputs": [],
   "source": [
    "path_log_errors = '../logs/errors.txt'\n",
    "\n",
    "with open(path_log_errors, 'r') as f:\n",
    "    log_errors = f.read()"
   ]
  },
  {
   "cell_type": "code",
   "execution_count": 5,
   "metadata": {},
   "outputs": [
    {
     "data": {
      "text/plain": [
       "'Index: 308, URL: https://folhadeobidos.com.br/index.php/antena-ligada/item/8170-inmet-alerta-para-onda-de-frio-e-risco-de-tempestades-em-15-estados-incluindo-o-par%EF%BF%A1, Error: Erro crítico ao processar URL: Message: unknown error: net::ERR_NAME_NOT_RESOLVED\\n  (Session info: chrome=134.0.6998.165)\\nStacktrace:\\n#0 0x61d33aa9cffa <unknown>\\n#1 0x61d33a55b970 <unknown>\\n#2 0x61d33a552af8 <unknown>\\n#3 0x61d33a543009 <unknown>\\n#4 0x61d33a544d0d <unknown>\\n#5 0x61d33a54339e <unknown>\\n#6 0x61d33a542d3e <unknown>\\n#7 0x61d33a5429ef <unknown>\\n#8 0x61d33a540739 <unknown>\\n#9 0x61d33a54100a <unknown>\\n#10 0x61d33a55ee09 <unknown>\\n#11 0x61d33a5fa3e5 <unknown>\\n#12 0x61d33a5d3292 <unknown>\\n#13 0x61d33a5f970c <unknown>\\n#14 0x61d33a5d3063 <unknown>\\n#15 0x61d33a59f328 <unknown>\\n#16 0x61d33a5a0491 <unknown>\\n#17 0x61d33aa6442b <unknown>\\n#18 0x61d33aa682ec <unknown>\\n#19 0x61d33aa4ba22 <unknown>\\n#20 0x61d33aa68e64 <unknown>\\n#21 0x61d33aa2fbef <unknown>\\n#22 0x61d33aa8b558 <unknown>\\n#23 0x61d33aa8b736 <unknown>\\n#24 0x61d33aa9be76 <unknown>\\n#25 0x740b0c2c770a <unknown>\\n#26 0x740b0c34baac <unknown>\\n\\nIndex: 481, URL: http://ww16.portalladob.com.br/281572-cancer-de-prostata-e-a-2a-maior-causa-de-mortes-entre-homens/?sub1=20250211-2127-162f-aef4-7727ba388ccd, Error: Erro crítico ao processar URL: Message: unknown error: net::ERR_NAME_NOT_RESOLVED\\n  (Session info: chrome=134.0.6998.165)\\nStacktrace:\\n#0 0x61d33aa9cffa <unknown>\\n#1 0x61d33a55b970 <unknown>\\n#2 0x61d33a552af8 <unknown>\\n#3 0x61d33a543009 <unknown>\\n#4 0x61d33a544d0d <unknown>\\n#5 0x61d33a54339e <unknown>\\n#6 0x61d33a542d3e <unknown>\\n#7 0x61d33a5429ef <unknown>\\n#8 0x61d33a540739 <unknown>\\n#9 0x61d33a54100a <unknown>\\n#10 0x61d33a55ee09 <unknown>\\n#11 0x61d33a5fa3e5 <unknown>\\n#12 0x61d33a5d3292 <unknown>\\n#13 0x61d33a5f970c <unknown>\\n#14 0x61d33a5d3063 <unknown>\\n#15 0x61d33a59f328 <unknown>\\n#16 0x61d33a5a0491 <unknown>\\n#17 0x61d33aa6442b <unknown>\\n#18 0x61d33aa682ec <unknown>\\n#19 0x61d33aa4ba22 <unknown>\\n#20 0x61d33aa68e64 <unknown>\\n#21 0x61d33aa2fbef <unknown>\\n#22 0x61d33aa8b558 <unknown>\\n#23 0x61d33aa8b736 <unknown>\\n#24 0x61d33aa9be76 <unknown>\\n#25 0x740b0c2c770a <unknown>\\n#26 0x740b0c34baac <unknown>\\n\\nIndex: 488, URL: https://ww38.portalladob.com.br/283227-lacen-rj-realiza-o-diagnostico-da-meningite-em-uma-hora/?subid1=20250211-2130-411a-a5e2-92f1d77a86b8, Error: Erro crítico ao processar URL: Message: unknown error: net::ERR_NAME_NOT_RESOLVED\\n  (Session info: chrome=134.0.6998.165)\\nStacktrace:\\n#0 0x61d33aa9cffa <unknown>\\n#1 0x61d33a55b970 <unknown>\\n#2 0x61d33a552af8 <unknown>\\n#3 0x61d33a543009 <unknown>\\n#4 0x61d33a544d0d <unknown>\\n#5 0x61d33a54339e <unknown>\\n#6 0x61d33a542d3e <unknown>\\n#7 0x61d33a5429ef <unknown>\\n#8 0x61d33a540739 <unknown>\\n#9 0x61d33a54100a <unknown>\\n#10 0x61d33a55ee09 <unknown>\\n#11 0x61d33a5fa3e5 <unknown>\\n#12 0x61d33a5d3292 <unknown>\\n#13 0x61d33a5f970c <unknown>\\n#14 0x61d33a5d3063 <unknown>\\n#15 0x61d33a59f328 <unknown>\\n#16 0x61d33a5a0491 <unknown>\\n#17 0x61d33aa6442b <unknown>\\n#18 0x61d33aa682ec <unknown>\\n#19 0x61d33aa4ba22 <unknown>\\n#20 0x61d33aa68e64 <unknown>\\n#21 0x61d33aa2fbef <unknown>\\n#22 0x61d33aa8b558 <unknown>\\n#23 0x61d33aa8b736 <unknown>\\n#24 0x61d33aa9be76 <unknown>\\n#25 0x740b0c2c770a <unknown>\\n#26 0x740b0c34baac <unknown>\\n\\nIndex: 1634, URL: https://www.saude.ba.gov.br/2024/02/18/plano-de-contingencia-da-bahia-no-combate-a-dengue-e-referencia-nacional-destaca-ministerio-da-saude/, Error: Erro crítico ao processar URL: Message: unknown error: net::ERR_NAME_NOT_RESOLVED\\n  (Session info: chrome=134.0.6998.165)\\nStacktrace:\\n#0 0x61d33aa9cffa <unknown>\\n#1 0x61d33a55b970 <unknown>\\n#2 0x61d33a552af8 <unknown>\\n#3 0x61d33a543009 <unknown>\\n#4 0x61d33a544d0d <unknown>\\n#5 0x61d33a54339e <unknown>\\n#6 0x61d33a542d3e <unknown>\\n#7 0x61d33a5429ef <unknown>\\n#8 0x61d33a540739 <unknown>\\n#9 0x61d33a54100a <unknown>\\n#10 0x61d33a55ee09 <unknown>\\n#11 0x61d33a5fa3e5 <unknown>\\n#12 0x61d33a5d3292 <unknown>\\n#13 0x61d33a5f970c <unknown>\\n#14 0x61d33a5d3063 <unknown>\\n#15 0x61d33a59f328 <unknown>\\n#16 0x61d33a5a0491 <unknown>\\n#17 0x61d33aa6442b <unknown>\\n#18 0x61d33aa682ec <unknown>\\n#19 0x61d33aa4ba22 <unknown>\\n#20 0x61d33aa68e64 <unknown>\\n#21 0x61d33aa2fbef <unknown>\\n#22 0x61d33aa8b558 <unknown>\\n#23 0x61d33aa8b736 <unknown>\\n#24 0x61d33aa9be76 <unknown>\\n#25 0x740b0c2c770a <unknown>\\n#26 0x740b0c34baac <unknown>\\n\\nIndex: 1776, URL: https://d.emtempo.com.br/amazonas/322571/amazonas-inicia-utilizacao-de-novo-medicamento-para-cura-de-malaria, Error: Erro crítico ao processar URL: Message: unknown error: net::ERR_NAME_NOT_RESOLVED\\n  (Session info: chrome=134.0.6998.165)\\nStacktrace:\\n#0 0x61d33aa9cffa <unknown>\\n#1 0x61d33a55b970 <unknown>\\n#2 0x61d33a552af8 <unknown>\\n#3 0x61d33a543009 <unknown>\\n#4 0x61d33a544d0d <unknown>\\n#5 0x61d33a54339e <unknown>\\n#6 0x61d33a542d3e <unknown>\\n#7 0x61d33a5429ef <unknown>\\n#8 0x61d33a540739 <unknown>\\n#9 0x61d33a54100a <unknown>\\n#10 0x61d33a55ee09 <unknown>\\n#11 0x61d33a5fa3e5 <unknown>\\n#12 0x61d33a5d3292 <unknown>\\n#13 0x61d33a5f970c <unknown>\\n#14 0x61d33a5d3063 <unknown>\\n#15 0x61d33a59f328 <unknown>\\n#16 0x61d33a5a0491 <unknown>\\n#17 0x61d33aa6442b <unknown>\\n#18 0x61d33aa682ec <unknown>\\n#19 0x61d33aa4ba22 <unknown>\\n#20 0x61d33aa68e64 <unknown>\\n#21 0x61d33aa2fbef <unknown>\\n#22 0x61d33aa8b558 <unknown>\\n#23 0x61d33aa8b736 <unknown>\\n#24 0x61d33aa9be76 <unknown>\\n#25 0x740b0c2c770a <unknown>\\n#26 0x740b0c34baac <unknown>\\n\\nIndex: 1777, URL: http://avoz.com.ar/ciudadanos/detectan-casos-de-dengue-en-formosa-y-advierten-que-en-2022-habra-mas-incidencia-en-argentina/, Error: Erro crítico ao processar URL: Message: unknown error: net::ERR_NAME_NOT_RESOLVED\\n  (Session info: chrome=134.0.6998.165)\\nStacktrace:\\n#0 0x61d33aa9cffa <unknown>\\n#1 0x61d33a55b970 <unknown>\\n#2 0x61d33a552af8 <unknown>\\n#3 0x61d33a543009 <unknown>\\n#4 0x61d33a544d0d <unknown>\\n#5 0x61d33a54339e <unknown>\\n#6 0x61d33a542d3e <unknown>\\n#7 0x61d33a5429ef <unknown>\\n#8 0x61d33a540739 <unknown>\\n#9 0x61d33a54100a <unknown>\\n#10 0x61d33a55ee09 <unknown>\\n#11 0x61d33a5fa3e5 <unknown>\\n#12 0x61d33a5d3292 <unknown>\\n#13 0x61d33a5f970c <unknown>\\n#14 0x61d33a5d3063 <unknown>\\n#15 0x61d33a59f328 <unknown>\\n#16 0x61d33a5a0491 <unknown>\\n#17 0x61d33aa6442b <unknown>\\n#18 0x61d33aa682ec <unknown>\\n#19 0x61d33aa4ba22 <unknown>\\n#20 0x61d33aa68e64 <unknown>\\n#21 0x61d33aa2fbef <unknown>\\n#22 0x61d33aa8b558 <unknown>\\n#23 0x61d33aa8b736 <unknown>\\n#24 0x61d33aa9be76 <unknown>\\n#25 0x740b0c2c770a <unknown>\\n#26 0x740b0c34baac <unknown>\\n\\nIndex: 1778, URL: https://jornal.brasilemfolhas.com.br/2022/01/covid-19-rio-inicia-hoje-vacinacao-de-criancas/, Error: Erro crítico ao processar URL: Message: unknown error: net::ERR_NAME_NOT_RESOLVED\\n  (Session info: chrome=134.0.6998.165)\\nStacktrace:\\n#0 0x61d33aa9cffa <unknown>\\n#1 0x61d33a55b970 <unknown>\\n#2 0x61d33a552af8 <unknown>\\n#3 0x61d33a543009 <unknown>\\n#4 0x61d33a544d0d <unknown>\\n#5 0x61d33a54339e <unknown>\\n#6 0x61d33a542d3e <unknown>\\n#7 0x61d33a5429ef <unknown>\\n#8 0x61d33a540739 <unknown>\\n#9 0x61d33a54100a <unknown>\\n#10 0x61d33a55ee09 <unknown>\\n#11 0x61d33a5fa3e5 <unknown>\\n#12 0x61d33a5d3292 <unknown>\\n#13 0x61d33a5f970c <unknown>\\n#14 0x61d33a5d3063 <unknown>\\n#15 0x61d33a59f328 <unknown>\\n#16 0x61d33a5a0491 <unknown>\\n#17 0x61d33aa6442b <unknown>\\n#18 0x61d33aa682ec <unknown>\\n#19 0x61d33aa4ba22 <unknown>\\n#20 0x61d33aa68e64 <unknown>\\n#21 0x61d33aa2fbef <unknown>\\n#22 0x61d33aa8b558 <unknown>\\n#23 0x61d33aa8b736 <unknown>\\n#24 0x61d33aa9be76 <unknown>\\n#25 0x740b0c2c770a <unknown>\\n#26 0x740b0c34baac <unknown>\\n\\nIndex: 1779, URL: https://www.primeirapagina.to/noticias/casos-notificados-de-dengue-e-diagn%C3%B3sticos-de-chikungunya-crescem-no-tocantins/, Error: Erro crítico ao processar URL: Message: unknown error: net::ERR_NAME_NOT_RESOLVED\\n  (Session info: chrome=134.0.6998.165)\\nStacktrace:\\n#0 0x61d33aa9cffa <unknown>\\n#1 0x61d33a55b970 <unknown>\\n#2 0x61d33a552af8 <unknown>\\n#3 0x61d33a543009 <unknown>\\n#4 0x61d33a544d0d <unknown>\\n#5 0x61d33a54339e <unknown>\\n#6 0x61d33a542d3e <unknown>\\n#7 0x61d33a5429ef <unknown>\\n#8 0x61d33a540739 <unknown>\\n#9 0x61d33a54100a <unknown>\\n#10 0x61d33a55ee09 <unknown>\\n#11 0x61d33a5fa3e5 <unknown>\\n#12 0x61d33a5d3292 <unknown>\\n#13 0x61d33a5f970c <unknown>\\n#14 0x61d33a5d3063 <unknown>\\n#15 0x61d33a59f328 <unknown>\\n#16 0x61d33a5a0491 <unknown>\\n#17 0x61d33aa6442b <unknown>\\n#18 0x61d33aa682ec <unknown>\\n#19 0x61d33aa4ba22 <unknown>\\n#20 0x61d33aa68e64 <unknown>\\n#21 0x61d33aa2fbef <unknown>\\n#22 0x61d33aa8b558 <unknown>\\n#23 0x61d33aa8b736 <unknown>\\n#24 0x61d33aa9be76 <unknown>\\n#25 0x740b0c2c770a <unknown>\\n#26 0x740b0c34baac <unknown>\\n\\nIndex: 1781, URL: https://sapobrasil.com.br/atualidade/artigos/venezuela-relata-seu-primeiro-caso-de-variola-do-macaco, Error: Erro crítico ao processar URL: Message: unknown error: net::ERR_NAME_NOT_RESOLVED\\n  (Session info: chrome=134.0.6998.165)\\nStacktrace:\\n#0 0x61d33aa9cffa <unknown>\\n#1 0x61d33a55b970 <unknown>\\n#2 0x61d33a552af8 <unknown>\\n#3 0x61d33a543009 <unknown>\\n#4 0x61d33a544d0d <unknown>\\n#5 0x61d33a54339e <unknown>\\n#6 0x61d33a542d3e <unknown>\\n#7 0x61d33a5429ef <unknown>\\n#8 0x61d33a540739 <unknown>\\n#9 0x61d33a54100a <unknown>\\n#10 0x61d33a55ee09 <unknown>\\n#11 0x61d33a5fa3e5 <unknown>\\n#12 0x61d33a5d3292 <unknown>\\n#13 0x61d33a5f970c <unknown>\\n#14 0x61d33a5d3063 <unknown>\\n#15 0x61d33a59f328 <unknown>\\n#16 0x61d33a5a0491 <unknown>\\n#17 0x61d33aa6442b <unknown>\\n#18 0x61d33aa682ec <unknown>\\n#19 0x61d33aa4ba22 <unknown>\\n#20 0x61d33aa68e64 <unknown>\\n#21 0x61d33aa2fbef <unknown>\\n#22 0x61d33aa8b558 <unknown>\\n#23 0x61d33aa8b736 <unknown>\\n#24 0x61d33aa9be76 <unknown>\\n#25 0x740b0c2c770a <unknown>\\n#26 0x740b0c34baac <unknown>\\n\\nIndex: 1782, URL: https://www.primeirapagina.to/noticias/casos-de-hepatite-b-crescem-mais-de-26-no-tocantins/, Error: Erro crítico ao processar URL: Message: unknown error: net::ERR_NAME_NOT_RESOLVED\\n  (Session info: chrome=134.0.6998.165)\\nStacktrace:\\n#0 0x61d33aa9cffa <unknown>\\n#1 0x61d33a55b970 <unknown>\\n#2 0x61d33a552af8 <unknown>\\n#3 0x61d33a543009 <unknown>\\n#4 0x61d33a544d0d <unknown>\\n#5 0x61d33a54339e <unknown>\\n#6 0x61d33a542d3e <unknown>\\n#7 0x61d33a5429ef <unknown>\\n#8 0x61d33a540739 <unknown>\\n#9 0x61d33a54100a <unknown>\\n#10 0x61d33a55ee09 <unknown>\\n#11 0x61d33a5fa3e5 <unknown>\\n#12 0x61d33a5d3292 <unknown>\\n#13 0x61d33a5f970c <unknown>\\n#14 0x61d33a5d3063 <unknown>\\n#15 0x61d33a59f328 <unknown>\\n#16 0x61d33a5a0491 <unknown>\\n#17 0x61d33aa6442b <unknown>\\n#18 0x61d33aa682ec <unknown>\\n#19 0x61d33aa4ba22 <unknown>\\n#20 0x61d33aa68e64 <unknown>\\n#21 0x61d33aa2fbef <unknown>\\n#22 0x61d33aa8b558 <unknown>\\n#23 0x61d33aa8b736 <unknown>\\n#24 0x61d33aa9be76 <unknown>\\n#25 0x740b0c2c770a <unknown>\\n#26 0x740b0c34baac <unknown>\\n\\nIndex: 1783, URL: https://www.primeirapagina.to/noticias/mais-de-61-dos-casos-suspeitos-de-monkeypox-em-palmas-s%EF%BF%BDo-em-mulheres/, Error: Erro crítico ao processar URL: Message: unknown error: net::ERR_NAME_NOT_RESOLVED\\n  (Session info: chrome=134.0.6998.165)\\nStacktrace:\\n#0 0x61d33aa9cffa <unknown>\\n#1 0x61d33a55b970 <unknown>\\n#2 0x61d33a552af8 <unknown>\\n#3 0x61d33a543009 <unknown>\\n#4 0x61d33a544d0d <unknown>\\n#5 0x61d33a54339e <unknown>\\n#6 0x61d33a542d3e <unknown>\\n#7 0x61d33a5429ef <unknown>\\n#8 0x61d33a540739 <unknown>\\n#9 0x61d33a54100a <unknown>\\n#10 0x61d33a55ee09 <unknown>\\n#11 0x61d33a5fa3e5 <unknown>\\n#12 0x61d33a5d3292 <unknown>\\n#13 0x61d33a5f970c <unknown>\\n#14 0x61d33a5d3063 <unknown>\\n#15 0x61d33a59f328 <unknown>\\n#16 0x61d33a5a0491 <unknown>\\n#17 0x61d33aa6442b <unknown>\\n#18 0x61d33aa682ec <unknown>\\n#19 0x61d33aa4ba22 <unknown>\\n#20 0x61d33aa68e64 <unknown>\\n#21 0x61d33aa2fbef <unknown>\\n#22 0x61d33aa8b558 <unknown>\\n#23 0x61d33aa8b736 <unknown>\\n#24 0x61d33aa9be76 <unknown>\\n#25 0x740b0c2c770a <unknown>\\n#26 0x740b0c34baac <unknown>\\n\\nIndex: 1784, URL: http://ribunadosertao.com.br/2022/07/cobertura-vacinal-atinge-niveis-criticos-e-ameaca-saude-coletiva/, Error: Erro crítico ao processar URL: Message: unknown error: net::ERR_NAME_NOT_RESOLVED\\n  (Session info: chrome=134.0.6998.165)\\nStacktrace:\\n#0 0x61d33aa9cffa <unknown>\\n#1 0x61d33a55b970 <unknown>\\n#2 0x61d33a552af8 <unknown>\\n#3 0x61d33a543009 <unknown>\\n#4 0x61d33a544d0d <unknown>\\n#5 0x61d33a54339e <unknown>\\n#6 0x61d33a542d3e <unknown>\\n#7 0x61d33a5429ef <unknown>\\n#8 0x61d33a540739 <unknown>\\n#9 0x61d33a54100a <unknown>\\n#10 0x61d33a55ee09 <unknown>\\n#11 0x61d33a5fa3e5 <unknown>\\n#12 0x61d33a5d3292 <unknown>\\n#13 0x61d33a5f970c <unknown>\\n#14 0x61d33a5d3063 <unknown>\\n#15 0x61d33a59f328 <unknown>\\n#16 0x61d33a5a0491 <unknown>\\n#17 0x61d33aa6442b <unknown>\\n#18 0x61d33aa682ec <unknown>\\n#19 0x61d33aa4ba22 <unknown>\\n#20 0x61d33aa68e64 <unknown>\\n#21 0x61d33aa2fbef <unknown>\\n#22 0x61d33aa8b558 <unknown>\\n#23 0x61d33aa8b736 <unknown>\\n#24 0x61d33aa9be76 <unknown>\\n#25 0x740b0c2c770a <unknown>\\n#26 0x740b0c34baac <unknown>\\n\\nIndex: 1786, URL: https://capitaldeminas.com.br/noticias/pesquisa-identifica-locais-com-maior-risco-de-inundacao/, Error: Erro crítico ao processar URL: Message: unknown error: net::ERR_NAME_NOT_RESOLVED\\n  (Session info: chrome=134.0.6998.165)\\nStacktrace:\\n#0 0x61d33aa9cffa <unknown>\\n#1 0x61d33a55b970 <unknown>\\n#2 0x61d33a552af8 <unknown>\\n#3 0x61d33a543009 <unknown>\\n#4 0x61d33a544d0d <unknown>\\n#5 0x61d33a54339e <unknown>\\n#6 0x61d33a542d3e <unknown>\\n#7 0x61d33a5429ef <unknown>\\n#8 0x61d33a540739 <unknown>\\n#9 0x61d33a54100a <unknown>\\n#10 0x61d33a55ee09 <unknown>\\n#11 0x61d33a5fa3e5 <unknown>\\n#12 0x61d33a5d3292 <unknown>\\n#13 0x61d33a5f970c <unknown>\\n#14 0x61d33a5d3063 <unknown>\\n#15 0x61d33a59f328 <unknown>\\n#16 0x61d33a5a0491 <unknown>\\n#17 0x61d33aa6442b <unknown>\\n#18 0x61d33aa682ec <unknown>\\n#19 0x61d33aa4ba22 <unknown>\\n#20 0x61d33aa68e64 <unknown>\\n#21 0x61d33aa2fbef <unknown>\\n#22 0x61d33aa8b558 <unknown>\\n#23 0x61d33aa8b736 <unknown>\\n#24 0x61d33aa9be76 <unknown>\\n#25 0x740b0c2c770a <unknown>\\n#26 0x740b0c34baac <unknown>\\n\\n'"
      ]
     },
     "execution_count": 5,
     "metadata": {},
     "output_type": "execute_result"
    }
   ],
   "source": [
    "log_errors"
   ]
  },
  {
   "cell_type": "code",
   "execution_count": 6,
   "metadata": {},
   "outputs": [
    {
     "data": {
      "text/plain": [
       "['unknown error: net::ERR_NAME_NOT_RESOLVED',\n",
       " 'unknown error: net::ERR_NAME_NOT_RESOLVED',\n",
       " 'unknown error: net::ERR_NAME_NOT_RESOLVED',\n",
       " 'unknown error: net::ERR_NAME_NOT_RESOLVED',\n",
       " 'unknown error: net::ERR_NAME_NOT_RESOLVED',\n",
       " 'unknown error: net::ERR_NAME_NOT_RESOLVED',\n",
       " 'unknown error: net::ERR_NAME_NOT_RESOLVED',\n",
       " 'unknown error: net::ERR_NAME_NOT_RESOLVED',\n",
       " 'unknown error: net::ERR_NAME_NOT_RESOLVED',\n",
       " 'unknown error: net::ERR_NAME_NOT_RESOLVED',\n",
       " 'unknown error: net::ERR_NAME_NOT_RESOLVED',\n",
       " 'unknown error: net::ERR_NAME_NOT_RESOLVED',\n",
       " 'unknown error: net::ERR_NAME_NOT_RESOLVED']"
      ]
     },
     "execution_count": 6,
     "metadata": {},
     "output_type": "execute_result"
    }
   ],
   "source": [
    "pattern = r'Message: (.*)\\n'\n",
    "errors = re.findall(pattern, log_errors)\n",
    "errors"
   ]
  },
  {
   "cell_type": "code",
   "execution_count": 7,
   "metadata": {},
   "outputs": [
    {
     "data": {
      "text/plain": [
       "unknown error: net::ERR_NAME_NOT_RESOLVED    13\n",
       "Name: count, dtype: int64"
      ]
     },
     "execution_count": 7,
     "metadata": {},
     "output_type": "execute_result"
    }
   ],
   "source": [
    "erros_count = pd.Series(errors).value_counts()\n",
    "erros_count"
   ]
  }
 ],
 "metadata": {
  "kernelspec": {
   "display_name": "venv",
   "language": "python",
   "name": "python3"
  },
  "language_info": {
   "codemirror_mode": {
    "name": "ipython",
    "version": 3
   },
   "file_extension": ".py",
   "mimetype": "text/x-python",
   "name": "python",
   "nbconvert_exporter": "python",
   "pygments_lexer": "ipython3",
   "version": "3.13.3"
  }
 },
 "nbformat": 4,
 "nbformat_minor": 2
}
