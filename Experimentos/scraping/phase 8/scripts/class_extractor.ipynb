{
 "cells": [
  {
   "cell_type": "code",
   "execution_count": null,
   "id": "ebe95d75",
   "metadata": {},
   "outputs": [],
   "source": [
    "import pandas as pd\n",
    "import re\n",
    "from collections import defaultdict"
   ]
  },
  {
   "cell_type": "code",
   "execution_count": null,
   "id": "66c288a0",
   "metadata": {},
   "outputs": [],
   "source": [
    "path_text_sample = '../../data/text_success_with_summary_sample.csv'\n",
    "df_text_sample = pd.read_csv(path_text_sample)\n",
    "df_text_sample.head()"
   ]
  },
  {
   "cell_type": "code",
   "execution_count": null,
   "id": "0fa1176f",
   "metadata": {},
   "outputs": [],
   "source": [
    "path_classification_results = '../../phase 7/logs/classes.txt'"
   ]
  },
  {
   "cell_type": "code",
   "execution_count": null,
   "id": "a2f2262f",
   "metadata": {},
   "outputs": [],
   "source": [
    "with open(path_classification_results, 'r') as f:\n",
    "    lines = [line.strip() for line in f.readlines()]"
   ]
  },
  {
   "cell_type": "code",
   "execution_count": null,
   "id": "a191cd8d",
   "metadata": {},
   "outputs": [],
   "source": [
    "lines[0]"
   ]
  },
  {
   "cell_type": "code",
   "execution_count": null,
   "id": "bfe15c45",
   "metadata": {},
   "outputs": [],
   "source": [
    "pattern = re.compile(r\"\\[(\\d+)\\] Chunk \\d+ \\| Relevant: (True|False)\")"
   ]
  },
  {
   "cell_type": "code",
   "execution_count": null,
   "id": "79bfcb52",
   "metadata": {},
   "outputs": [],
   "source": [
    "# Agrupamento por índice de questão\n",
    "resultados = defaultdict(list)"
   ]
  },
  {
   "cell_type": "code",
   "execution_count": null,
   "id": "3b990084",
   "metadata": {},
   "outputs": [],
   "source": [
    "for line in lines:\n",
    "    match = pattern.search(line)\n",
    "    if match:\n",
    "        indice, valor = match.groups()\n",
    "        resultados[int(indice)].append(valor == \"True\")"
   ]
  },
  {
   "cell_type": "code",
   "execution_count": null,
   "id": "82cc7574",
   "metadata": {},
   "outputs": [],
   "source": [
    "questoes_relevantes = {indice: any(valores) for indice, valores in resultados.items()}"
   ]
  },
  {
   "cell_type": "code",
   "execution_count": null,
   "id": "48d7424c",
   "metadata": {},
   "outputs": [],
   "source": [
    "questoes_relevantes"
   ]
  },
  {
   "cell_type": "code",
   "execution_count": null,
   "id": "17e93f2a",
   "metadata": {},
   "outputs": [],
   "source": [
    "questions_output = []\n",
    "\n",
    "for i, row in df_text_sample.iterrows():\n",
    "    if questoes_relevantes[i]:\n",
    "        questions_output.append(df_text_sample.iloc[i])\n",
    "\n",
    "questions_output = pd.DataFrame(questions_output)\n",
    "questions_output = questions_output.reset_index(drop=True)\n",
    "questions_output.to_csv('../data/text_success_with_summary_sample_filtered.csv', index=False)"
   ]
  }
 ],
 "metadata": {
  "kernelspec": {
   "display_name": "venv",
   "language": "python",
   "name": "python3"
  },
  "language_info": {
   "codemirror_mode": {
    "name": "ipython",
    "version": 3
   },
   "file_extension": ".py",
   "mimetype": "text/x-python",
   "name": "python",
   "nbconvert_exporter": "python",
   "pygments_lexer": "ipython3",
   "version": "3.13.3"
  }
 },
 "nbformat": 4,
 "nbformat_minor": 5
}
