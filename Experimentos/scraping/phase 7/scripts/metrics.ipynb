{
 "cells": [
  {
   "cell_type": "code",
   "execution_count": 1,
   "id": "fd8e0fdb",
   "metadata": {},
   "outputs": [],
   "source": [
    "import pandas as pd\n",
    "import tiktoken"
   ]
  },
  {
   "cell_type": "code",
   "execution_count": 2,
   "id": "e0295d97",
   "metadata": {},
   "outputs": [],
   "source": [
    "path_text_success_sample = '../../data/text_success_with_summary_sample.csv'"
   ]
  },
  {
   "cell_type": "code",
   "execution_count": 3,
   "id": "4000d2c4",
   "metadata": {},
   "outputs": [],
   "source": [
    "df_text_success_sample = pd.read_csv(path_text_success_sample)"
   ]
  },
  {
   "cell_type": "code",
   "execution_count": 4,
   "id": "d0312019",
   "metadata": {},
   "outputs": [
    {
     "data": {
      "text/html": [
       "<div>\n",
       "<style scoped>\n",
       "    .dataframe tbody tr th:only-of-type {\n",
       "        vertical-align: middle;\n",
       "    }\n",
       "\n",
       "    .dataframe tbody tr th {\n",
       "        vertical-align: top;\n",
       "    }\n",
       "\n",
       "    .dataframe thead th {\n",
       "        text-align: right;\n",
       "    }\n",
       "</style>\n",
       "<table border=\"1\" class=\"dataframe\">\n",
       "  <thead>\n",
       "    <tr style=\"text-align: right;\">\n",
       "      <th></th>\n",
       "      <th>expanded_url</th>\n",
       "      <th>short_url</th>\n",
       "      <th>html_content</th>\n",
       "      <th>summary</th>\n",
       "    </tr>\n",
       "  </thead>\n",
       "  <tbody>\n",
       "    <tr>\n",
       "      <th>0</th>\n",
       "      <td>https://gauchazh.clicrbs.com.br/saude/noticia/...</td>\n",
       "      <td>https://bit.ly/3KUANF0</td>\n",
       "      <td>Hospital de Clínicas restringe atendimento na ...</td>\n",
       "      <td>O Hospital de Clínicas de Porto Alegre (HCPA) ...</td>\n",
       "    </tr>\n",
       "    <tr>\n",
       "      <th>1</th>\n",
       "      <td>https://midiamax.uol.com.br/cotidiano/2022/pre...</td>\n",
       "      <td>https://bit.ly/3FgAbHm</td>\n",
       "      <td>'Preocupante': Dia D tem resultado abaixo do e...</td>\n",
       "      <td>Mesmo com mutirão no fim de semana, Dia D de v...</td>\n",
       "    </tr>\n",
       "    <tr>\n",
       "      <th>2</th>\n",
       "      <td>https://estado.rs.gov.br/estado-registra-foco-...</td>\n",
       "      <td>https://tinyurl.com/3b2zycjt</td>\n",
       "      <td>Estado registra foco de influenza aviária em m...</td>\n",
       "      <td>A Secretaria da Agricultura, Pecuária, Produçã...</td>\n",
       "    </tr>\n",
       "    <tr>\n",
       "      <th>3</th>\n",
       "      <td>https://encurtador.com.br/iuwyP</td>\n",
       "      <td>https://encurtador.com.br/iuwyP</td>\n",
       "      <td>Attention Required! | Cloudflare Please enable...</td>\n",
       "      <td>A Organização Mundial de Saúde (OMS) estima qu...</td>\n",
       "    </tr>\n",
       "    <tr>\n",
       "      <th>4</th>\n",
       "      <td>https://www.campograndenews.com.br/brasil/cida...</td>\n",
       "      <td>https://bit.ly/3JdAZwy</td>\n",
       "      <td>De 29 a 96 anos, Mato Grosso do Sul tem 26 mor...</td>\n",
       "      <td>Em uma semana, Mato Grosso do Sul registrou 26...</td>\n",
       "    </tr>\n",
       "  </tbody>\n",
       "</table>\n",
       "</div>"
      ],
      "text/plain": [
       "                                        expanded_url  \\\n",
       "0  https://gauchazh.clicrbs.com.br/saude/noticia/...   \n",
       "1  https://midiamax.uol.com.br/cotidiano/2022/pre...   \n",
       "2  https://estado.rs.gov.br/estado-registra-foco-...   \n",
       "3                    https://encurtador.com.br/iuwyP   \n",
       "4  https://www.campograndenews.com.br/brasil/cida...   \n",
       "\n",
       "                         short_url  \\\n",
       "0           https://bit.ly/3KUANF0   \n",
       "1           https://bit.ly/3FgAbHm   \n",
       "2     https://tinyurl.com/3b2zycjt   \n",
       "3  https://encurtador.com.br/iuwyP   \n",
       "4           https://bit.ly/3JdAZwy   \n",
       "\n",
       "                                        html_content  \\\n",
       "0  Hospital de Clínicas restringe atendimento na ...   \n",
       "1  'Preocupante': Dia D tem resultado abaixo do e...   \n",
       "2  Estado registra foco de influenza aviária em m...   \n",
       "3  Attention Required! | Cloudflare Please enable...   \n",
       "4  De 29 a 96 anos, Mato Grosso do Sul tem 26 mor...   \n",
       "\n",
       "                                             summary  \n",
       "0  O Hospital de Clínicas de Porto Alegre (HCPA) ...  \n",
       "1  Mesmo com mutirão no fim de semana, Dia D de v...  \n",
       "2  A Secretaria da Agricultura, Pecuária, Produçã...  \n",
       "3  A Organização Mundial de Saúde (OMS) estima qu...  \n",
       "4  Em uma semana, Mato Grosso do Sul registrou 26...  "
      ]
     },
     "execution_count": 4,
     "metadata": {},
     "output_type": "execute_result"
    }
   ],
   "source": [
    "df_text_success_sample.head()"
   ]
  },
  {
   "cell_type": "code",
   "execution_count": 5,
   "id": "1df42e17",
   "metadata": {},
   "outputs": [],
   "source": [
    "# usando o df_text_success_sample conte quantos tokens tem cada linha da coluna html_content\n",
    "\n",
    "def chunk_text(text):\n",
    "    enc = tiktoken.get_encoding(\"cl100k_base\")\n",
    "    tokens = enc.encode(text)\n",
    "    return len(tokens)\n",
    "\n",
    "html_tokens = df_text_success_sample['html_content'].apply(chunk_text)"
   ]
  },
  {
   "cell_type": "code",
   "execution_count": 16,
   "id": "f1cb10e9",
   "metadata": {},
   "outputs": [
    {
     "name": "stdout",
     "output_type": "stream",
     "text": [
      "Max tokens: 6990\n",
      "Index: 19\n"
     ]
    }
   ],
   "source": [
    "# extraia o valor máximo de tokens e seu indice, mas se uma forma generica\n",
    "\n",
    "max_tokens = html_tokens.max()\n",
    "max_index = html_tokens.idxmax()\n",
    "print(f'Max tokens: {max_tokens}')\n",
    "print(f'Index: {max_index}')\n"
   ]
  }
 ],
 "metadata": {
  "kernelspec": {
   "display_name": "venv",
   "language": "python",
   "name": "python3"
  },
  "language_info": {
   "codemirror_mode": {
    "name": "ipython",
    "version": 3
   },
   "file_extension": ".py",
   "mimetype": "text/x-python",
   "name": "python",
   "nbconvert_exporter": "python",
   "pygments_lexer": "ipython3",
   "version": "3.13.3"
  }
 },
 "nbformat": 4,
 "nbformat_minor": 5
}
