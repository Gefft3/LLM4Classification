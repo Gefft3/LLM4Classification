{
 "cells": [
  {
   "cell_type": "code",
   "execution_count": 1,
   "metadata": {},
   "outputs": [],
   "source": [
    "import pandas as pd"
   ]
  },
  {
   "cell_type": "code",
   "execution_count": null,
   "metadata": {},
   "outputs": [],
   "source": [
    "path_wayback_success = '../../phase 3/data/retrieved_html_wayback_success.csv'\n",
    "path_selenium_success = '../../phase 4/data/retrieved_html_selenium_success.csv'\n",
    "path_manual_success = '../../phase 4/data/retrieved_html_manual_success.csv'"
   ]
  },
  {
   "cell_type": "code",
   "execution_count": null,
   "metadata": {},
   "outputs": [],
   "source": [
    "df_wayback = pd.read_csv(path_wayback_success)\n",
    "df_selenium = pd.read_csv(path_selenium_success)\n",
    "df_manual = pd.read_csv(path_manual_success)"
   ]
  },
  {
   "cell_type": "code",
   "execution_count": 7,
   "metadata": {},
   "outputs": [],
   "source": [
    "df_success = pd.concat([df_wayback, df_selenium], ignore_index=True)\n",
    "df_success.to_csv('../data/retrieved_html_success.csv', index=False)"
   ]
  }
 ],
 "metadata": {
  "kernelspec": {
   "display_name": "venv",
   "language": "python",
   "name": "python3"
  },
  "language_info": {
   "codemirror_mode": {
    "name": "ipython",
    "version": 3
   },
   "file_extension": ".py",
   "mimetype": "text/x-python",
   "name": "python",
   "nbconvert_exporter": "python",
   "pygments_lexer": "ipython3",
   "version": "3.13.3"
  }
 },
 "nbformat": 4,
 "nbformat_minor": 2
}
